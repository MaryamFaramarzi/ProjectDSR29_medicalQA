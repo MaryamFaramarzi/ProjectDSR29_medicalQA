{
 "cells": [
  {
   "cell_type": "code",
   "execution_count": 1,
   "id": "3046273a",
   "metadata": {},
   "outputs": [],
   "source": [
    "import pandas as pd\n",
    "import random"
   ]
  },
  {
   "cell_type": "code",
   "execution_count": 2,
   "id": "adbd675d",
   "metadata": {},
   "outputs": [
    {
     "name": "stdout",
     "output_type": "stream",
     "text": [
      "All-2479-Answers-retrieved-from-MedQuAD.csv\r\n",
      "AskDocs_QAs.csv\r\n",
      "WebMD_QAs.csv\r\n",
      "data_inspect.ipynb\r\n",
      "ehealthforum_QAs.csv\r\n",
      "gpt2train.csv\r\n",
      "gpt2val.csv\r\n",
      "healthtap_QAs.csv\r\n",
      "icliniq_QAs.csv\r\n",
      "prepare_data_for_gptj.ipynb\r\n",
      "questionDoctor_QAs.csv\r\n",
      "train_gptj.txt\r\n",
      "val_gptj.txt\r\n"
     ]
    }
   ],
   "source": [
    "!ls"
   ]
  },
  {
   "cell_type": "code",
   "execution_count": 3,
   "id": "d4e6ff77",
   "metadata": {},
   "outputs": [],
   "source": [
    "def print_five_qapairs(df):\n",
    "    \"\"\"Prints 5 Q&A-Pairs of a given Q&A-Dataframe\"\"\"\n",
    "    \n",
    "    samples = random.sample(range(0, df.shape[0]), 5)\n",
    "    for count, sample in enumerate(samples):\n",
    "        print(f\"Question {count+1}:\")\n",
    "        print(df.at[sample, \"question\"]+ \"\\n\")\n",
    "        print(f\"Answer:\")\n",
    "        print(df.at[sample, \"answer\"]+ \"\\n\")"
   ]
  },
  {
   "cell_type": "markdown",
   "id": "14b5fbab",
   "metadata": {},
   "source": [
    "### https://questiondoctors.com\n",
    "\n",
    "QuestionDoctors is a medical question and answer platform. It’s a place to ask questions and share medical knowledge. Doctors, health experts and the general public participate with questions, answers and insights."
   ]
  },
  {
   "cell_type": "code",
   "execution_count": 4,
   "id": "ee8500ca",
   "metadata": {},
   "outputs": [
    {
     "name": "stdout",
     "output_type": "stream",
     "text": [
      "(5679, 2)\n",
      "Question 1:\n",
      "there are worms under my skin and along my belly\n",
      "\n",
      "Answer:\n",
      "hi. i understand your concern about the issue. what i personally feel is that no one has yet diagnosed the worm type thats why the medicines are not working. if a worm is visible under the skin then under local anesthesia get the worm removed and sent it for parasite / histopathology examination and find out the exact type. then the medicines acting specifically on that worm can be taken. thanks\n",
      "\n",
      "Question 2:\n",
      "i have been evaluated by a neurologist but my rheumatologist is questioning my symptoms need second opinion?\n",
      "\n",
      "Answer:\n",
      "in my opinion you need further investigations you need to get ncv done.\n",
      "\n",
      "Question 3:\n",
      "we have this patient who’s veins on upper and lower extremities are no longer accessible due to multiple peripheral insertion?\n",
      "\n",
      "Answer:\n",
      "why don’t you use the veins in skull or central vein in the neck? it’s gonna be way way better\n",
      "\n",
      "Question 4:\n",
      "i have been treated with bipolar disorder my psychiatrist doesn’t want to prescribe any antidepressant?\n",
      "\n",
      "Answer:\n",
      "it should be a combination of good professional counselling and anti depressant medicines. only counselling wont help much.\n",
      "\n",
      "Question 5:\n",
      "i hit my head i still have the numbness in my arms and hand\n",
      "\n",
      "Answer:\n",
      "it does seem to be a serious injury. consult a neurosurgeon and get necessary investigations like mri done.\n",
      "\n"
     ]
    }
   ],
   "source": [
    "questionDoctor_QAs = pd.read_csv(\"questionDoctor_QAs.csv\")\n",
    "print(questionDoctor_QAs.shape)\n",
    "print_five_qapairs(questionDoctor_QAs)"
   ]
  },
  {
   "cell_type": "markdown",
   "id": "d707b014",
   "metadata": {},
   "source": [
    "### https://www.icliniq.com/qa\n",
    "\n",
    "All the answers published in this website are written by Verified medical doctors, therapists and health experts. The Content has been moderated by iCliniq medical review team before publication. Post your medical clarifications on iCliniq by choosing the right specialty and get them answered. "
   ]
  },
  {
   "cell_type": "code",
   "execution_count": 5,
   "id": "d0bf4a9f",
   "metadata": {},
   "outputs": [
    {
     "name": "stdout",
     "output_type": "stream",
     "text": [
      "(465, 2)\n",
      "Question 1:\n",
      "can physiotherapy heal diastasis recti?\n",
      "\n",
      "Answer:\n",
      "first of all congratulations for delivering a beautiful baby. i have gone through your medical history in detail. diastasis of 2. 5 cm is considered a moderate degree of diastasis as far as our classification is considered. diastasis is usually hard to heal up completely only with physiotherapy. since the defect is bony it takes lots of aggressive manouvers to get the bones back together. initial three to four weeks after delivery are the most important days if you want to get back the diastasis to normal with physiotherapy. if you have an immediate post-delivery x-ray then you can get a new x-ray done and compare the diastasis gap in both x-rays to see the progress. if it is still the same even today then there are very fewer chances that this may improve only with physiotherapy. you can use gradually compressing pelvic belt which can be tightened gradually day by day. if even this does not help then you may need surgery to get the diastasis normal. try and post an x-ray of the pelvis here so that i can guide you better. for further information consult a physiotherapist online --> <link>\n",
      "\n",
      "Question 2:\n",
      "can fungal infection cause low grade fever?\n",
      "\n",
      "Answer:\n",
      "this is a chronic fever which is called as pyrexia of unknown origin when we are unable to ascertain a cause. as your blood tests and x-ray are normal lung infection is ruled out. conditions causing chronic fever are numerous. also certain infections like tuberculosis hiv and malignancies can cause it. but in your case it is unlikely as there is no weight loss or other risk factors neither you have an x-ray abnormality. now we move to the lymph nodes. do you have any lymph node swelling? if yes then get it tested. try to get an ultrasound of abdomen to rule out lymphadenopathy. get a urine routine and culture as sometimes a mild urine infection can get unnoticed and cause fever. get a blood glucose and renal function test too. if everything comes normal then we should look for anemia. a low hemoglobin can cause low grade fever and fatigue. fungal infections usually cause severe illness. to confirm if it is a fungal infection a blood culture is required. for further information consult a general medicine physician online --> <link>\n",
      "\n",
      "Question 3:\n",
      "kindly suggest a solution for my son's continuous fever.\n",
      "\n",
      "Answer:\n",
      "it would be helpful if you do a cbc (complete blood count) and crp (c-reactive protein). from that we can understand the level of infection. also tonsillitis can also be so severe that it may last for up to 10 days. betadine gargle three times a day with warm water for three days are advisable as it acts locally on the throat. for further information consult a child health specialist online --> <link>\n",
      "\n",
      "Question 4:\n",
      "i am getting swelling over my face followed by toothache. why?\n",
      "\n",
      "Answer:\n",
      "the swelling that you have seems to be an abscess or pus due to infection. this infection is most likely due to your tooth decay over a long period of time which has spread to bone and around your soft tissues like muscles. in the face region swelling increases rapidly in size due to multiple natural pathways that connect each other. it is a potentially dangerous situation. the abscess needs to be drained quickly. if allowed to progress then it may lead to infection spreading to brain or even may lead to breathing difficulty. i suggest you antibiotic augmentin 625 mg twice daily along with analgesics. contact an oral surgeon or a dentist as soon as possible for physical evaluation and take the medicine with consent. follow up and get the tooth treated once infection subsides. do warm salt water rinses and apply ice to the swelling. do not apply heat as it will spread the infection further. the probable causes:tooth infection or abscess spread to vital spaces in the face. probable diagnosis:space infection due to tooth decay. treatment plan:1. abscess drainage. 2. antibiotics. 3. analgesics. 4. serratiopeptidase or other proteolytic enzymes. regarding follow up:for further information consult a dentist online. ---> <link>\n",
      "\n",
      "Question 5:\n",
      "kindly let me know some medicine for itchy throat?\n",
      "\n",
      "Answer:\n",
      "this itching like symptom is known as post nasal drip. the best medicine would be the use of anti-allergic combination like levocetirizine and montelukast once daily at night. consult your specialist doctor discuss with him or her and take the medicine with consent. do steam inhalation regularly for at least 10 days. revert back after 10 days to a pulmonologist online --> <link>\n",
      "\n"
     ]
    }
   ],
   "source": [
    "icliniq_QAs = pd.read_csv(\"icliniq_QAs.csv\")\n",
    "print(icliniq_QAs.shape)\n",
    "print_five_qapairs(icliniq_QAs)"
   ]
  },
  {
   "cell_type": "markdown",
   "id": "db6bbfed",
   "metadata": {},
   "source": [
    "### https://www.healthboards.com"
   ]
  },
  {
   "cell_type": "code",
   "execution_count": 6,
   "id": "438fb6f3",
   "metadata": {},
   "outputs": [
    {
     "name": "stdout",
     "output_type": "stream",
     "text": [
      "(171, 2)\n",
      "Question 1:\n",
      "i am very concerned about my girlfriend's weight. she is 21 years old 5'5\" and 249lbs. she has gained almost 60lbs in the last two years. i also know for a fact that she was less than 140lbs when she was sixteen and this gaining seems to be way out of control. i am very worried because she seems so tired she is out of shape avoid stairs - if we have to use the stairs she is always out of breath. as i write i am very worried but i don't know what to do or how this weight will affect her. i've never been overweight myself but always heard about how difficult and harmful it is. given her recent weight gain what is the risk factors for her? if she goes to her doctor will the doctor mention her weight? because most 21 year old girls wouldn't get out of breath by just walking some stairs right.\n",
      "\n",
      "Answer:\n",
      "yes you are right. the four main causes which need to be ruled out in her case are anemia low thyroid function diabetes and polycystic ovary. if these are ruled out then other causes like hormonal disorders kidney heart and liver disorders need to be ruled out. please take her to a doctor and tell about her symptoms. the doctor will look into these causes. hope this helps. take care!\n",
      "\n",
      "Question 2:\n",
      "abortion benefits\n",
      "\n",
      "Answer:\n",
      "abortion the clinical way of stopping an unplanned/unprepared/unhealthy pregnancy.\n",
      "\n",
      "Question 3:\n",
      "i may need diagnostic testing and this time i have a trail period before i can get my health insurance. i would be a self-pay pt and fear the cost of such tests. if i go to an emergency room can i convince them to order mris cts without insurance if i am concerned? i am putting this off for as long as i can right now.\n",
      "\n",
      "Answer:\n",
      "you need to confirm with your insurance provider regarding coverage of investigation and consultation charges during your trial period. if these investigations are covered by your insurance provider during the trial period then these would be done for you during your visit to emergency. if these investigations are required to be done immediately then the doctors in the emergency room will get these done (as based on your examination findings and current health status) and you need to pay for them yourself in case your insurance provider does not cover these. you need not have to convince them to get these done. take care.\n",
      "\n",
      "Question 4:\n",
      "had 5 major depression episodes better. still dealing with uncontrollable panics around people who do power over. 62 year old female. strongly emotionally abused in childhood and long term marrige. now my mom whats me to help her. she lives in the country 150 miles away and i have few financial emotional and energy resouces after trying to rebuild my live. she is 82 and has a fancy thanksgiving to meet her dreams every year but it works me to death she can not do it any more and every detail is her instruction. my sister says that i have to do more of the work and i don't care about it at all but i do show. make out rolls do all cleanup and take 4 dishes and my sister feels put upon. thats my limit and i do not feel like my moms tradition is my mandate. i will involve myself in needs and sister does wants to. she is moms controlling drone and i want less tradition and to finally either pair it down but the 2- hunting nephews are going to start doing a stint in dishwashing.\n",
      "\n",
      "Answer:\n",
      "the issues mentioned seem to be due to stress associated with interpersonal issues which might be worsening your anxiety or depression. other than proper control of your anxiety with medications you will need counselling and advice on people management. hence you should consult a psychiatrist who can get a detailed history and help you deal with your inter-person relations.\n",
      "\n",
      "Question 5:\n",
      "hi i am a 31 year old male. i have had a series of digestion problems after antibiotics for pheumonia in the beginning of the year. most of the symptoms have gone except for a werid experience when i put pressure with my hand below the rib cage i breath out slowly and i can feel and hear fluid being released from somewhere in that region there is no pain. is this normal?\n",
      "\n",
      "Answer:\n",
      "in absence of major symptoms like fever loss of weight appetite bloody stools etc your symptoms could be due to irritable bowel syndrome (ibs). irritable bowel syndrome (ibs) is a chronic functional disorder characterized by cramping abdominal pain or discomfort with alterations in bowel habits (bloating constipation and diarrhea). these symptoms usually are present for at least 12 weeks in a patient during the previous one year and unfortunately the onset or subsidence cannot be predicted. most symptoms of ibs can be controlled with diet stress management and prescribed medications. it requires a proper examination and investigations results to give a precise diagnosis. kindly visit a physician for counselling and treatment. take care!\n",
      "\n"
     ]
    }
   ],
   "source": [
    "ehealthforum_QAs = pd.read_csv(\"ehealthforum_QAs.csv\")\n",
    "print(ehealthforum_QAs.shape)\n",
    "print_five_qapairs(ehealthforum_QAs)"
   ]
  },
  {
   "cell_type": "markdown",
   "id": "a8ac691b",
   "metadata": {},
   "source": [
    "### https://www.reddit.com/r/AskDocs/\n",
    "\n",
    "Having a medical issue? Ask a doctor or medical professional on Reddit! All flaired medical professionals on this subreddit are verified by the mods."
   ]
  },
  {
   "cell_type": "code",
   "execution_count": 6,
   "id": "aac4095d",
   "metadata": {},
   "outputs": [
    {
     "name": "stdout",
     "output_type": "stream",
     "text": [
      "(78277, 2)\n",
      "Question 1:\n",
      "Melatonin induced hallucinations?I'm not sure if this would be the place that I post this, but I'm hoping someone could at least shed some light on what's happening to me/ give some advice? \n",
      "\n",
      "Some background : I've had trouble falling asleep and staying asleep since I was around 5 years old - I'm in my early twenties now. I never thought it was severe enough to qualify as a sleeping disorder, and when I was a kid it was normal for me to take 4+ hours to fall asleep. I was tired, but my mind was active and racing thoughts kept me hopelessly awake.\n",
      "\n",
      "A couple years ago when I was in high school I was diagnosed with generalized anxiety, (which definitely made me understand why my sleeping patterns were so fucked up) and depression. I got on meds (Lexapro) and that mostly helped with keeping my jumbled mind at bay when I needed to sleep. When I got to college, I was in an extremely stressful program (pulling all nighters, running on 4~ hours of sleep for a few days), so when I needed to fall asleep and be reassured that I'd get 7ish hours, I'd take about 5mg of melatonin, every night. I know that there are no long term studies on the effects of taking extra melatonin every night. I ended up building up a \"tolerance\" to it, I was taking about 25mg a night, which horrified my doctor to learn, and I immediately lowered it after my appointment. I also learned that taking antidepressants and melatonin and cause some pretty wacky nightmares, but I didn't have any unusual problems sleeping and staying asleep. And my doctor reassured me that taking 3-5mg a night isn't harmful, and that I need to do what I need to do to fall asleep. \n",
      "\n",
      "But recently (for the last 3 months or so) I was switched onto Prozac after the Lexapro stopped working, and my diagnosis was reassessed to Borderline Personality Disorder + generalized anxiety + chronic depression. The Prozac has been working really week and I don't want to die anymore (thankfully!), but I've noticed that ever since I started the meds (25mg) and taking melatonin at night (3-5mg) I've been hallucinating(??) / seeing people around my bed at night. I'm a woman and I live alone, so this is terrifying. \n",
      "\n",
      "I'll wake up in a half asleep daze and notice someone standing at the end of my bed, and their facial features are so DISTINCT! The first time this happened, I saw a bald man leaning on my bedpost, smiling at me. I promptly screamed, grabbed my pepper spray from under my pillow and sprayed it in his direction. A second later, I waved my hand through the space and realized it wasn't real. This has happened nearly every night since then, with various people appearing by my bed when I'm half asleep. \n",
      "\n",
      "The problem is that I need something to help me fall asleep at night, being depressed makes me more lethargic than the average person, so I need all the sleep I can get to function as normal human being. My stress levels have significantly decreased since dropping out of college and choosing an different path in life, but I hate falling asleep at 3am and having to wake up at 7am. But I also don't like hallucinating random people in my apartment at night when I'm alone. \n",
      "\n",
      "I have done all the recommended things for \"calming\" my mind before I sleep - No screens for 2+ hours before bedtime, sleepy time tea/lotion, reading books, working out, daydreaming, not drinking any caffeine. For people who would suggest I take Benadryl/ a similar med, antidepressants usually react badly when combined with those. \n",
      "\n",
      "Has anyone else had similar experiences when taking melatonin? Is this happening because I'm on Prozac? Is this something psychological? I never recognize the people I see at night. Any advice is greatly appreciated. \n",
      "\n",
      "Answer:\n",
      "I have not seen this, but have seen plenty of times where people experience very vivid, very real dreams, and sometimes violent nightmares on SSRIs like Prozac.  I am not a psychiatrist, but in collaboration with psychiatrists have utilized low doses of sedating antidepressants from a different class of medications.  Remeron/mirtazipine at 7.5 mg, 10-25 mg amitriptylline, or 50 mg trazodone at bedtime can sometimes be safely used--I think the only risk (which is low) is serotonin syndrome when adding more antidepressants.  But what I like about the philosophy is that these meds can play double duty by supporting your efforts against depression and also help you get the rest it sounds like you desperately need.  Glad to hear you are no longer suicidal.  Stay strong.\n",
      "\n",
      "Question 2:\n",
      "Why would a CT and MRI both be ordered for me?[deleted]\n",
      "\n",
      "Answer:\n",
      "&gt;Why are both needed?\n",
      "\n",
      "They usually aren't: we use MRI angiography (MRA) to screen for intracerebral aneurysms. You should ask your doctor.\n",
      "\n",
      "Question 3:\n",
      "Urinalysis out of whack (not diabetic but 3+ ketones) and elevated AST?23\n",
      "\n",
      "Female\n",
      "\n",
      "5' 7.5\"\n",
      "\n",
      "119 lbs\n",
      "\n",
      "White\n",
      "\n",
      "The urinalysis I had done the other day showed the presence of ketones 3+, protein 1+, trace amounts of blood (not menstruating; skipped period this month), and 6-10 hyaline casts. The full result page is [here](http://imgur.com/a/Fcck1).\n",
      "\n",
      "Also, my bilirubin was at 2.0 and my AST was 62. Full results are [here](http://imgur.com/a/WuAnG). I found BUN/creatinine ratio to be ~25.75; not sure why they didn't calculate it.\n",
      "\n",
      "I don't have any diagnosed medical conditions, but this is my first workup in almost 2 years, and the first time I've had a urinalysis done. I have a follow up appointment on Monday but in the meantime, can anyone tell me if the urinalysis results in particular are a cause for concern? Thank you so much!\n",
      "\n",
      "\n",
      "\n",
      "Answer:\n",
      "Why were these tests ordered? \n",
      "\n",
      "Question 4:\n",
      "Hard to explain. Hope you can help!Twice now I've worked up in the middle of the night spouting dreamland gibberish only to be quickly overcome by a rolling \"rush\" feeling (like that dopamine rush when you listen to good music) and heavy nausea. All this quickly subsides, but this is the second time this has happened and I'm concerned. I have Panic Disorder and the rush feels very like one of the stages of an anxiety attack. I'm currently on Citalopram for it. What in the world could be causing this? Something I've eaten? Is this remotely normal? Is it alarming enough to bring up with my doctor? Thank you so much for your time!\n",
      "\n",
      "Answer:\n",
      "Could be a side effect of the citalopram. Doesn't sound dangerous though.\n",
      "\n",
      "Question 5:\n",
      "Dark spots on skinHi, this past month some dark spots have appeared on mostly my back, some are on my stomach as well, they don't itch. I'm 21, weigh 85 kg, height 197cm, white European (although, people say I have a yellowish skin, one doc suspects gilberts syndrome).  I work at a prison, so maybe I,ve contracted some disease? Here's a pic as well http://i.imgur.com/NlZmjt0\n",
      "\n",
      "Answer:\n",
      "Pityriasis versicolor.\n",
      "\n"
     ]
    }
   ],
   "source": [
    "AskDocs_QAs = pd.read_csv(\"AskDocs_QAs.csv\")\n",
    "print(AskDocs_QAs.shape)\n",
    "print_five_qapairs(AskDocs_QAs)"
   ]
  },
  {
   "cell_type": "markdown",
   "id": "6e8b499e",
   "metadata": {},
   "source": [
    "### https://www.webmd.com/a-to-z-guides/qa/search-results\n",
    "\n",
    "Answers are reviewed by experts."
   ]
  },
  {
   "cell_type": "code",
   "execution_count": 9,
   "id": "2684a1a6",
   "metadata": {},
   "outputs": [
    {
     "name": "stdout",
     "output_type": "stream",
     "text": [
      "(46260, 2)\n",
      "Question 1:\n",
      "How is blood in the stool treated?\n",
      "\n",
      "Answer:\n",
      "A doctor may use one of several techniques to stop acute bleeding. Often, endoscopy is used to inject chemicals into the site of bleeding, treat the bleeding site with an electric current or laser, or apply a band or clip to close the bleeding vessel. If endoscopy does not control bleeding, the doctor may use angiography to inject medicine into the blood vessels to control bleeding.\n",
      "\n",
      "Question 2:\n",
      "Does vitamin C help fight colds?\n",
      "\n",
      "Answer:\n",
      "At the first sign of cold symptoms, many people reach for vitamin C, whether in supplements, juices, cough drops, tea, or other forms.Most studies show that high doses of vitamin C (2-3 grams per day) can decrease the duration of cold symptoms by a day.\n",
      "\n",
      "Question 3:\n",
      "What antibiotics can treat urethritis?\n",
      "\n",
      "Answer:\n",
      "Antibiotics can cure urethritis caused by bacteria. Some of the most commonly prescribed ones include:Urethritis caused by trichomonas infection (called trichomoniasis) is usually treated with an antibiotic called metronidazole (Flagyl) or tinidazole (Tindamax). Your sexual partner should also be treated to prevent reinfection.Adoxa, doxycycline (Vibramycin), Monodox, OraceaAzithromycin (Zmax), ZithromaxCeftriaxone (Rocephin)\n",
      "\n",
      "Question 4:\n",
      "What type of kidney stones are calcium stones?\n",
      "\n",
      "Answer:\n",
      "Calcium stones are the most common kind of kidney stones. Eating foods like rhubarb that are very high in oxalates, a type of mineral, can up your chances of getting them. So can taking too much vitamin D, not drinking enough water, and sweating a lot without replacing the lost fluids.\n",
      "\n",
      "Question 5:\n",
      "What are severe problems from taking cholesterol drugs?\n",
      "\n",
      "Answer:\n",
      "Statins are a common cholesterol medicine, but for some people they can cause severe side effects like muscle damage, dark-colored urine, liver damage, increased blood sugar or type 2 diabetes, and memory loss or confusion. It’s unclear why these issues happen. Your doctor may test your liver while you take statins to see if you’re having liver problems.Muscle pain is the most-reported problem. Doctors aren’t sure why it happens.\n",
      "\n"
     ]
    }
   ],
   "source": [
    "WebMD_QAs = pd.read_csv(\"WebMD_QAs.csv\")\n",
    "print(WebMD_QAs.shape)\n",
    "print_five_qapairs(WebMD_QAs)"
   ]
  },
  {
   "cell_type": "markdown",
   "id": "462adbb1",
   "metadata": {},
   "source": [
    "### https://www.healthtap.com/specialties/ask-primary-and-urgent-care-doctor-free-online/"
   ]
  },
  {
   "cell_type": "code",
   "execution_count": 10,
   "id": "eff87205",
   "metadata": {},
   "outputs": [
    {
     "name": "stdout",
     "output_type": "stream",
     "text": [
      "(137052, 2)\n",
      "Question 1:\n",
      "i'm 10 w2 d pregnant. ultrasound at 7 w3d and baby was healthy and 134bpm. i've found baby's heartbeat today and was 159. hcg levels dropping though?\n",
      "\n",
      "Answer:\n",
      "159 is a very normal heart rate. hcg levels do eventually drop and plateau around 50 000 for the remainder of the pregnancy. usually by this gestational age if having a miscarriage the cramping and bleeding is fairly significant.\n",
      "\n",
      "Question 2:\n",
      "what dietary changes should one make to their diet if they are suffering from fecal incontinence?\n",
      "\n",
      "Answer:\n",
      "adding sufficient fiber to ensure a formed stool will help you control movements by creating a more predictable movement and help to maintain hygiene. 30 grams of fiber daily would be a goal to shoot for presuming there is no history of impaction.\n",
      "\n",
      "Question 3:\n",
      "what is best sitting position to help w/breathing if i have copd emphysema?\n",
      "\n",
      "Answer:\n",
      "sitting and stooping forward over a pillow --- is the comfortable position for a copd exacerbation.\n",
      "\n",
      "Question 4:\n",
      "what is the diet for the patient in typhoid?\n",
      "\n",
      "Answer:\n",
      "the patient with full blown typhoid (enteric fever) is very sick with high fever nausea headache body aches and loss of appetite. there is a risk of intestinal perforation. therefore the patient should be given plenty of fluids (whatever they prefer) and light diet high in calories & protein and low in roughage. therefore chicken soup milk shakes eggs are good if the patient can tolerate.\n",
      "\n",
      "Question 5:\n",
      "what can cause feelings of passing out? i haven't felt right in 5 months now. had different tests all negative.\n",
      "\n",
      "Answer:\n",
      "you need a second opinion - consider seeing an electrophysiologist. you may need prolonged rhythm monitoring and a tilt test. neurologic (non-cardiac) causes also need to be considered. the list is long and includes various causes of low bp seizures inner ear problems vasodepressor spells but from a cardiac perspective a rhythm disturbance must be definitively excluded.\n",
      "\n"
     ]
    }
   ],
   "source": [
    "healthtap_QAs = pd.read_csv(\"healthtap_QAs.csv\")\n",
    "print(healthtap_QAs.shape)\n",
    "print_five_qapairs(healthtap_QAs)"
   ]
  },
  {
   "cell_type": "code",
   "execution_count": null,
   "id": "88561fd1",
   "metadata": {},
   "outputs": [],
   "source": []
  }
 ],
 "metadata": {
  "kernelspec": {
   "display_name": "Python 3 (ipykernel)",
   "language": "python",
   "name": "python3"
  },
  "language_info": {
   "codemirror_mode": {
    "name": "ipython",
    "version": 3
   },
   "file_extension": ".py",
   "mimetype": "text/x-python",
   "name": "python",
   "nbconvert_exporter": "python",
   "pygments_lexer": "ipython3",
   "version": "3.8.12"
  }
 },
 "nbformat": 4,
 "nbformat_minor": 5
}
