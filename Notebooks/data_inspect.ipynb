{
 "cells": [
  {
   "cell_type": "markdown",
   "id": "44feceec",
   "metadata": {},
   "source": [
    "## This Notebook is intended to give an impression of the available medical Q&A datasets. "
   ]
  },
  {
   "cell_type": "code",
   "execution_count": 4,
   "id": "3046273a",
   "metadata": {},
   "outputs": [],
   "source": [
    "import pandas as pd\n",
    "import random"
   ]
  },
  {
   "cell_type": "code",
   "execution_count": 5,
   "id": "adbd675d",
   "metadata": {},
   "outputs": [
    {
     "name": "stdout",
     "output_type": "stream",
     "text": [
      "AskDocs_QAs.csv        ehealthforum_QAs.csv   questionDoctor_QAs.csv\r\n",
      "WebMD_QAs.csv          healthtap_QAs.csv\r\n",
      "\u001b[1m\u001b[36mclassifier_training\u001b[m\u001b[m    icliniq_QAs.csv\r\n"
     ]
    }
   ],
   "source": [
    "!ls ../Data"
   ]
  },
  {
   "cell_type": "code",
   "execution_count": 7,
   "id": "d4e6ff77",
   "metadata": {},
   "outputs": [],
   "source": [
    "def print_five_qapairs(df):\n",
    "    \"\"\"Prints 5 Q&A-Pairs of a given Q&A-Dataframe.\"\"\"\n",
    "    \n",
    "    samples = random.sample(range(0, df.shape[0]), 5)\n",
    "    for count, sample in enumerate(samples):\n",
    "        print(f\"Question {count+1}:\")\n",
    "        print(df.at[sample, \"question\"]+ \"\\n\")\n",
    "        print(f\"Answer:\")\n",
    "        print(df.at[sample, \"answer\"]+ \"\\n\")"
   ]
  },
  {
   "cell_type": "code",
   "execution_count": 14,
   "id": "8f7c7edd",
   "metadata": {},
   "outputs": [],
   "source": [
    "def print_info(df):\n",
    "    \"\"\"Prints the length and number of duplicates of a given dataframe.\"\"\"\n",
    "    print(\"Length: \", df.shape[0], \" Q&A-Pairs\")\n",
    "    print(\"Num duplicates: \", len(df[df.duplicated(keep=False)]))\n",
    "    print(\"-----------------------------\")"
   ]
  },
  {
   "cell_type": "markdown",
   "id": "14b5fbab",
   "metadata": {},
   "source": [
    "### https://questiondoctors.com\n",
    "\n",
    "QuestionDoctors is a medical question and answer platform. It’s a place to ask questions and share medical knowledge. Doctors, health experts and the general public participate with questions, answers and insights."
   ]
  },
  {
   "cell_type": "code",
   "execution_count": null,
   "id": "45b12492",
   "metadata": {},
   "outputs": [],
   "source": [
    "questionDoctor_QAs = pd.read_csv(\"../Data/questionDoctor_QAs.csv\")"
   ]
  },
  {
   "cell_type": "code",
   "execution_count": 15,
   "id": "ee8500ca",
   "metadata": {},
   "outputs": [
    {
     "name": "stdout",
     "output_type": "stream",
     "text": [
      "Length:  5679  Q&A-Pairs\n",
      "Num duplicates:  0\n",
      "-----------------------------\n",
      "Question 1:\n",
      "i have low grade fever that persists for 3 to even 6 months i cannot lead a normal life?\n",
      "\n",
      "Answer:\n",
      "hi notice that if your on higher dose than you should of thyroxine to treat hashimoto then it can cause low grade persistant fever low grade persistant fever has many causes however in your case you are showing no other significant symptom beside being tired and sleepy did you get in contact with animals lately? so possibilitys are no 1 rickettsia which is caused by gram negative infection which means blood and urine cultures won t usually show it unless you are specifically looking for it no 2 chlamydia psittaci infection no 3 hiv no 4 cancer good luck\n",
      "\n",
      "Question 2:\n",
      "my mom has been coughing several times each day for the past 9 months sometimes she spits clear mucous and vomits?\n",
      "\n",
      "Answer:\n",
      "in my opinin she has allergy to milk so i suggest she stops milk yogurt cheese for a week and see if cough stops good luck\n",
      "\n",
      "Question 3:\n",
      "i had a lung collapse and a severe asthma reaction 20 years later relapse with asthmatic exasperation?\n",
      "\n",
      "Answer:\n",
      "it is normal to get asthmatic after and at any time… even you have passed through many things that could have caused you symptoms. your lung capacity and fitness plus your immunity changes by time. and your body reaction to specific allergen can change according to many factors. try to figure out the cause although it is mostly your immunity and capacity and focus on treating the cause\n",
      "\n",
      "Question 4:\n",
      "i’ve fainted 3 times in almost a 3 year span does not drinking enough water cause that?\n",
      "\n",
      "Answer:\n",
      "yes…that could be hypovolemia so drink plenty of water or anaemia get a cbc done.\n",
      "\n",
      "Question 5:\n",
      "i have pain discomfort almost non-stop frequent urination my life has become miserable?\n",
      "\n",
      "Answer:\n",
      "in my original citation i now reread apparently cystoscopy was auto corrected to colonoscopy …hope this didn’t confuse any that answered … i must say the diversions of different tests recommended by six different doctors leaves a patient even more confused although i do see a pattern that points to the kidney stone problem … as far as the mrsa i’ve been using bactroban 2% cream applied in my nostrils for several days but have not been retested for it as of yet\n",
      "\n"
     ]
    }
   ],
   "source": [
    "print_info(questionDoctor_QAs)\n",
    "print_five_qapairs(questionDoctor_QAs)"
   ]
  },
  {
   "cell_type": "markdown",
   "id": "d707b014",
   "metadata": {},
   "source": [
    "### https://www.icliniq.com/qa\n",
    "\n",
    "All the answers published in this website are written by Verified medical doctors, therapists and health experts. The Content has been moderated by iCliniq medical review team before publication. Post your medical clarifications on iCliniq by choosing the right specialty and get them answered. "
   ]
  },
  {
   "cell_type": "code",
   "execution_count": null,
   "id": "d98bace7",
   "metadata": {},
   "outputs": [],
   "source": [
    "icliniq_QAs = pd.read_csv(\"../Data/icliniq_QAs.csv\")"
   ]
  },
  {
   "cell_type": "code",
   "execution_count": 16,
   "id": "d0bf4a9f",
   "metadata": {},
   "outputs": [
    {
     "name": "stdout",
     "output_type": "stream",
     "text": [
      "Length:  465  Q&A-Pairs\n",
      "Num duplicates:  0\n",
      "-----------------------------\n",
      "Question 1:\n",
      "i am just fed up with my dark complexion. please prescribe me some skin whitening product.\n",
      "\n",
      "Answer:\n",
      "natural complexion is the best. cosmetics do more harm than good. you can avoid them. melanin pigment in the skin protects against cancers. presence of more melanin in the skin gives the dark complexion. you can use sunscreen lotions which help in preventing tan due to sun. there are mild peeling agents with salicylic acid used in skin peel treatment. to discuss regarding the skin peel treatment consult a dermatologist online --> <link>\n",
      "\n",
      "Question 2:\n",
      "my 4 month baby has not passed stools. please help.\n",
      "\n",
      "Answer:\n",
      "it is common to have decrease in stool frequency or constipation after switching from breast milk (breastfeeding) to formula feed. as long as your child is feeding well passing gas from below has no vomiting and has a soft belly there is nothing to worry about. it is normal to pass stool once every 2-3 days. also you may note change in stool color (green) after switching to formula feed. in this scenario you can try using a cotton q-tip (cotton swab). apply some lubrication on it and stimulate the rectal area to see if your child passes stool. if this does not help then try seeing your local pediatrician who can help with rectal stimulation and passage of his stool. for further queries consult a paediatrician online --> <link>\n",
      "\n",
      "Question 3:\n",
      "i am suffering from migraine for the last 15 years. there is throbbing pain is on the one corner of the head\n",
      "\n",
      "Answer:\n",
      "both carbamazepine and flunarizine have side effect of memory loss. you should take tablet vasograin. it is most effective at the onset of migraine. once migraine starts though it reduces some symptoms but not so effectively. so along with it take tablet diclomol (combination of diclofenac and paracetamol) twice a day for three days. it is very effective to control migraine. if headache is very severe you can also take injection voveran intramuscularly. you also need to take tablet razo (rabeprazole) 20 mg twice a day to prevent acidity. for further information consult a neurologist online --> <link>\n",
      "\n",
      "Question 4:\n",
      "what might be the possible cause of pain in the lower left side of back and stomach?\n",
      "\n",
      "Answer:\n",
      "based on your complaints it looks like it could be a case of kidney stones. please go to your nearest hospital and get an x-ray kub (kidney and urinary bladder) done. sometimes kidney stones are not visible on an x-ray. in that case further tests might be needed. usually small kidney stones are eliminated by the body on their own while passing urine. in case it is big in size treatment is necessary. however as a first step please get an x-ray done. for further information consult a general practitioner online --> <link>\n",
      "\n",
      "Question 5:\n",
      "i am planing to go for liposuction for weight loss. my weight is 78kgs\n",
      "\n",
      "Answer:\n",
      "your bmi - body mass index is 30. 4 kg/m2. generally we perform bariatric surgery to achieve permanent weight loss for any patient whose bmi is 30 kg/m2 or above. liposuction is not a treatment option for weight loss. it is a cosmetic procedure for body shaping. there is a set point for fat storage for everyone. this is not altered by liposuction. weight loss by liposuction diet control exercise naturopathy amway herbalife etc. is temporary as all these methods do not have any effect on set point for fat storage. so any fat that is removed in liposuction will reaccumulate over a period of 6 months to two years. those who can reduce weight by diet control and exercise does not need liposuction and those who cannot reduce weight by above methods will not reduce even after liposuction. bariatric surgery provides permanent weight loss as it lowers set point for fat storage. if you are looking for permanent weight loss then bariatric surgery is the only scientifically proven method for that. for further information consult a general surgeon online --> <link>\n",
      "\n"
     ]
    }
   ],
   "source": [
    "print_info(icliniq_QAs)\n",
    "print_five_qapairs(icliniq_QAs)"
   ]
  },
  {
   "cell_type": "markdown",
   "id": "db6bbfed",
   "metadata": {},
   "source": [
    "### https://www.healthboards.com"
   ]
  },
  {
   "cell_type": "code",
   "execution_count": null,
   "id": "1f310ed1",
   "metadata": {},
   "outputs": [],
   "source": [
    "ehealthforum_QAs = pd.read_csv(\"../Data/ehealthforum_QAs.csv\")"
   ]
  },
  {
   "cell_type": "code",
   "execution_count": 18,
   "id": "438fb6f3",
   "metadata": {},
   "outputs": [
    {
     "name": "stdout",
     "output_type": "stream",
     "text": [
      "Length:  171  Q&A-Pairs\n",
      "Num duplicates:  0\n",
      "-----------------------------\n",
      "Question 1:\n",
      "hi i am sudarshan. i am a cp child(spastic diplegia). i have completed my computer engg from pune university and currently pursuing mba. i wish to learn driving? i have been practising for 6 months with vain. these are the problems that i face: 1. there is difficulty in releasing the clutch and pressing the accelerator at the same time. 2. the gear handling is also difficult with steering. 3. thirdly i have a somewhat poor road sense. how these can be improved.\n",
      "\n",
      "Answer:\n",
      "cerebral palsy is a condition in which certain of the muscles (most often in the extremities) are affected thus causing muscle weakness up to paralysis. this might cause a disability of a certain degree in the person which would interfere in the everyday life driving ability included. however there are many car modifications that might help people with a driving disability. in the beginning it might be best to visit a doctor who might be able to determine the degree of disability and the modifications needed. in different countries there are associations that try to improve the life of people with disabilities. they also organize driver rehabilitation programs run by driver rehabilitation specialists. you might want to check if there is such an association in your country. they also might be able to tell you about legal issues related to drivers with disabilities. as for the problems you are experiencing (difficulty in releasing the clutch and pressing the accelerator at the same time; the gear handling is also difficult with steering) it might be easily solved if you buy a car with an automatic transmission. this would eliminate the need for a clutch and a manual shift. the problem with the poor road sense might need training from a driving rehabilitation specialist.\n",
      "\n",
      "Question 2:\n",
      "i have recently lost a loved one. however i feel like i'm am copeing well. but these last few days have been different. i don't feel i can speak to anyone and i get stressed and upset over silly things. for example my mother brung me a shirt that was too small and i cried. i'm paranoid people are out to start arguments or stress me out further. some of my family members have said pretty strong stuff that have made my hurt more agressive. i burst out crying and then forget what i'm crying about but can't stop i get so upset my whole body goes through a weird freezing and i feel my blood boil i get frustrated at simple things and i'm wondering if this is anxiety? thanks\n",
      "\n",
      "Answer:\n",
      "this can be worse seems like depression which many people develop when they loose loved one or close friend. you can take help of psychiatric and psychologist but most importantly you have to help your self indulge your self in activities that you like that pleases you adopt hobbies. you can take help of close friends and family and they should understand emotions you are dealing. you have to understand that fact and accept the reality that no one has ability to control everything in their lives tough times do come but you have to deal with it because in other case its you that is suffering and hurting. take care of your self hope it helps thanks\n",
      "\n",
      "Question 3:\n",
      "i just recently got a new tattoo on the back of my neck. right away i had this bump that was small in my tattoo. now its a month later and the hard bump is getting bigger and almost painful to touch it. theres no fluid or anything coming out. i am nervous what do i do?\n",
      "\n",
      "Answer:\n",
      "you seem concerned by the bump on tattoo immediately after getting the tattoo done which is persisting even after 1 month and getting harder bigger and painful. tattoos breach the skin which means that skin infections and other complications are possible. sometimes bumps called granulomas form around tattoo ink â especially red ink. tattooing can also lead to raised areas caused by an overgrowth of scar tissue (keloids). this might be the case with you and you must consult a dermatologist for the definitive diagnosis and management as the same is not possible online. hope this helps. take care. note: this post is not to emphasise final diagnosis as the same cannot be made online and is aimed just to provide medical information and no treatment suggested above be taken without face to face consultation with health care professional.\n",
      "\n",
      "Question 4:\n",
      "can masturbation contribute to chrincic fatigue syndrome\n",
      "\n",
      "Answer:\n",
      "the causes of chronic fatigue syndrome are unknown. possible causes include: disorders in the hypothalamic-pituitary axis infectious agents immunologic dysfunctions or a nutritional deficiency. no data was found about masturbation as a possible cause for chronic fatigue syndrome.\n",
      "\n",
      "Question 5:\n",
      "i have a hard bump on the up side of the left foot it use to hurt but not anymore it could be from trauma but i am not sure i am worried because i do not remember if i hit my foot or not when i rub my feet i feel like a little mountain really hard.\n",
      "\n",
      "Answer:\n",
      "current medical status: a bump on my left foot not sure if because of trauma or shoes current medical treatment: norvasc âa hard bumpâ on the upper side of the foot is generally considered as a tumor that could originate from the skin subcutaneous fat tissue or underlying tissues (muscles tendons joints bones blood vesselsâ¦). you could consult a plastic surgeon about this âbumpâ.\n",
      "\n"
     ]
    }
   ],
   "source": [
    "print_info(ehealthforum_QAs)\n",
    "print_five_qapairs(ehealthforum_QAs)"
   ]
  },
  {
   "cell_type": "markdown",
   "id": "a8ac691b",
   "metadata": {},
   "source": [
    "### https://www.reddit.com/r/AskDocs/\n",
    "\n",
    "Having a medical issue? Ask a doctor or medical professional on Reddit! All flaired medical professionals on this subreddit are verified by the mods."
   ]
  },
  {
   "cell_type": "code",
   "execution_count": null,
   "id": "eceb290e",
   "metadata": {},
   "outputs": [],
   "source": [
    "AskDocs_QAs = pd.read_csv(\"../Data/AskDocs_QAs.csv\")"
   ]
  },
  {
   "cell_type": "code",
   "execution_count": 20,
   "id": "aac4095d",
   "metadata": {},
   "outputs": [
    {
     "name": "stdout",
     "output_type": "stream",
     "text": [
      "Length:  78277  Q&A-Pairs\n",
      "Num duplicates:  2\n",
      "-----------------------------\n",
      "Question 1:\n",
      "Am I Allergic to Alcohol?Hello,\n",
      "\n",
      "I am a 21 y/o Chinese female, 5'4 and 115 pounds. I usually drink once or twice every week, but heavily when I do. Lots of shots. I am NOT an alcoholic. I don't crave alcohol, and I actually HATE the taste of it, even wine. I just drink to have fun and socialize.\n",
      "\n",
      "I black out EVERY SINGLE TIME. Thing is, I'm completely normal, rational and functioning. My friends have normal conversations with me and are SHOCKED when I tell them I don't remember anything the next day. I go from being tipsy to just waking up and wondering what happened, even though I do nothing crazy. There's no in between.\n",
      "\n",
      "I'm wondering if this is an alcohol allergy. But, I can drink A LOT and my body seems fine. I can outdrink many guys and within a night, I could finish one bottle of whiskey to myself if I wanted to (I don't do that, don't worry). I'm known to be 'the last man standing'. In so many years, I have NEVER vomited involuntarily from being drunk, only forcefully to make myself feel better.Only problem is every time I sleep, I'd forget everything the next morning. There's just one last memory of being tipsy, not even DRUNK. \n",
      "\n",
      "I hate this and I hate wondering what I did the night before. I've stopped drinking because I was so frustrated and just want to know what's going on and if there are any underlying problems with my health. (I had a full body checkup and got my liver tested this summer, it is perfectly healthy)\n",
      "\n",
      "Thanks a lot in advance\n",
      "\n",
      "Edit: I want to point out that my body obviously can take the alcohol. Never passed out. Never vomited. Always act completely normal and sober. My friends never black out even though they drink the same amount as me. It's kinda funny because I'm such a tank but I never remember. But others are so sloppy but can always remember. \n",
      "\n",
      "I appreciate people's concern and urges to drink less. But the point of this post is to figure out why I black out so easily compared to other people. Not ways to prevent blacking out e.g. drink less. Thanks!\n",
      "\n",
      "Answer:\n",
      "Getting black out drunk twice a week is an issue. Plus she's female which puts the maximum number of drinks at 7 per week, as opposed to the 14 for men. \n",
      "\n",
      "Question 2:\n",
      "Why am i having chest pains (left side)[deleted]\n",
      "\n",
      "Answer:\n",
      "Does it hurt at any specific point in your chest if you push down? If so it could be costochondritis. You may have had a panic attack secondary to this unusual pain. It is an inflammation of the muscles between the ribs. If your EKG was ok, I’m inclined to say it’s not something more serious, but I would follow up with your doctor for more EKGs to make sure. Doctors can read EKGs wrong. ,As long as anxiety lingers chest pains can happen I believe. But I honestly can’t say for sure I’m not a psychiatrist yet. \n",
      "\n",
      "Question 3:\n",
      "Advice for RLS-type symptoms?Hi all! First,\n",
      "\n",
      "**Demographics**: 28/f/Caucasian \n",
      "\n",
      "**Current meds**: geodon 20mg BID, started 5/21\n",
      "\n",
      "**CC**: RLS-type symptoms; compulsion to move legs, emotional and physical distress when attempting to rest legs; worsens at night \n",
      "\n",
      "I recently started Geodon about a month ago. For the last two weeks I've been experiencing what I can only describe as RLS-type symptoms. I'm constantly needing to move my legs. If I try and calm myself and keep my legs still, I begin to get a strange sensation (diffuse, whole-limb tingling; very different from sciatica, doesn't run along one nerve in particular) and the effort it takes to resist the urge to move them is frustrating. These symptoms worsen at night, to the point where falling asleep is nearly impossible. \n",
      "\n",
      "The only thing I can come up with is that this might be a side effect of the Geodon, as it's the only new factor I can come up with (no change in other meds, diet, exercise, stress levels, etc.). I can't get in to see a psychiatrist for a couple weeks, so I'm wondering - **are there any OTC meds or short-term management options for my symptoms until I can discuss this in detail with a psychiatrist?**\n",
      "\n",
      "If you have any questions or need further detail, be sure to let me know! \n",
      "\n",
      "Edit: I'm open to any (reasonable) suggestions, even if you're not a med prof. I can't stress enough how distressing these symptoms are. I'm usually pretty stoic, but this is seriously causing a great deal of annoyance and frustration. These next couple of weeks are going to be downright intolerable if this gets any worse. \n",
      "\n",
      "Answer:\n",
      "No, I'm not aware of over the counter drugs to counter these side effects. It's very likely ziprasidone (and other antipsychotics) can cause these types of adverse effects. Contact your psychiatrist. ,The problem with that is that most drugs to treat restless legs work directly against ziprasidone (they are dopamine agonists). Gabapentin is used as well, which has a different mechanism.\n",
      "\n",
      "Question 4:\n",
      "Could I be having thenar atrophy without really knowing it?Hello doctors! \n",
      "\n",
      "I've been having arm/hand pain for the past six or seven months. It began after lots of computer use in a chair with armrests. I started having a very sensitive ulnar nerve, which slowly resolved after changing chairs and some use of a night brace on my elbow. I still have to use the computer a lot for work though, and I still get some hand pain (and a tiny bit of forearm pain sometimes). I have had some tingling and numbness before, but it's never very prolonged. A lot of the times, the pain is focused in and around my lumbrical muscles, especially the one between my pointer and thumb. Tinel's test seems to produce a very slightly amount of tingling, but Phalen's doesn't.\n",
      "\n",
      "I'm very worried about getting irreversible thenar atrophy. Is it possible this is happening, or is it generally accompanied by more prolonged tingling/numbness?\n",
      "\n",
      "Thank you so much!\n",
      "\n",
      "Please find my info below:\n",
      "\n",
      "Age: 29\n",
      "\n",
      "Height: 5'9\"\n",
      "\n",
      "Weight: 130 lbs\n",
      "\n",
      "Gender: M\n",
      "\n",
      "Medications: Albuterol\n",
      "\n",
      "Smoking status: None\n",
      "\n",
      "Medical issues: Upper back pain, arm and hand pain\n",
      "\n",
      "Answer:\n",
      "You seem confused.\n",
      "\n",
      "Ulnar nerve - cubital tunnel syndrome - intrinsic muscles, no thenar wasting, Phalen test is irrelevant. Numbness is in the ring and small fingers. Early treatment is elbow splints at night to keep elbows relatively straight when you sleep, and stop resting elbows on things.\n",
      "\n",
      "Median nerve - carpal tunnel syndrome - thenar muscles, can have thenar wasting, Phalen test is relevant. Numbness is in the thumb and index and middle fingers. Early treatment is carpal tunnel splints at night to keep wrist from flexing.\n",
      "\n",
      "Question 5:\n",
      "Is aging retractable ?I'm a 25 year male. I've been living a bad lifestyle processed food, alcohol and smoking. And I look a lot older then I should. But I'm cutting down on all of this and started eating &amp; juicing fruits/vegetables. Will this make look younger or its too late for that ?\n",
      "\n",
      "Answer:\n",
      "Aging itself is irreversible, but yes, you will look better/healthier if you improve your lifestyle.,Juicing is great...for loading your body with sugars and excess calories that get converted to fat! \n",
      "\n"
     ]
    }
   ],
   "source": [
    "print_info(AskDocs_QAs)\n",
    "print_five_qapairs(AskDocs_QAs)"
   ]
  },
  {
   "cell_type": "markdown",
   "id": "6e8b499e",
   "metadata": {},
   "source": [
    "### https://www.webmd.com/a-to-z-guides/qa/search-results\n",
    "\n",
    "Answers are reviewed by experts."
   ]
  },
  {
   "cell_type": "code",
   "execution_count": null,
   "id": "25638e71",
   "metadata": {},
   "outputs": [],
   "source": [
    "WebMD_QAs = pd.read_csv(\"../Data/WebMD_QAs.csv\")"
   ]
  },
  {
   "cell_type": "code",
   "execution_count": 22,
   "id": "2684a1a6",
   "metadata": {},
   "outputs": [
    {
     "name": "stdout",
     "output_type": "stream",
     "text": [
      "Length:  46260  Q&A-Pairs\n",
      "Num duplicates:  9894\n",
      "-----------------------------\n",
      "Question 1:\n",
      "When should you call your doctor about irregular periods?\n",
      "\n",
      "Answer:\n",
      "Call your doctor if you have any of the following symptoms: You miss three or more periods a year You get your period more often than every 21 days You get your period less often than every 35 days You are bleeding more heavily than usual during your period You bleed for more than seven days You have more pain than usual during a period\n",
      "\n",
      "Question 2:\n",
      "What are examples of steroids used to treat juvenile arthritis?\n",
      "\n",
      "Answer:\n",
      "Examples of steroids include dexamethasone, hydrocortisone, methylprednisolone, prednisolone, and prednisone.\n",
      "\n",
      "Question 3:\n",
      "Can I take sleeping pills when I'm pregnant?\n",
      "\n",
      "Answer:\n",
      "Ideally, all medications (including over-the-counter medications) should be avoided during pregnancy. Some drugs can hurt the developing baby. However, there are some medications that are considered safe to take during pregnancy and that might help you sleep better. Always talk to your doctor before taking any kinds of drugs. This includes over-the-counter drugs, herbs and dietary supplements.\n",
      "\n",
      "Question 4:\n",
      "How long does constipation last?\n",
      "\n",
      "Answer:\n",
      "The normal length of time between bowel movements varies widely from person to person. Some people have them three times a day. Others have them only once or twice a week. Going longer than three or more days without one, though, is usually too long. After three days, the stool or feces become harder and more difficult to pass.\n",
      "\n",
      "Question 5:\n",
      "What are the surgical approaches for treating acoustic neuroma?\n",
      "\n",
      "Answer:\n",
      "Surgery for acoustic neuromas may involve removing all or part of the tumor. \n",
      "There are three main surgical approaches for removing an acoustic neuroma:\n",
      " Translabyrinthine, which involves making an incision behind the ear and removing the bone behind the ear and some of the middle ear. This procedure is used for tumors larger than 3 centimeters. The upside of this approach is that it allows the surgeon to see an important cranial nerve (the facial nerve) clearly before removing the tumor. The downside of this technique is that it results in permanent hearing loss. Retrosigmoid/sub-occipital, which involves exposing the back of the tumor by opening the skull near the back of the head. This approach can be used for removing tumors of any size and offers the possibility of preserving hearing. Middle fossa, which involves removing a small piece of bone above the ear canal to access and remove small tumors confined to the internal auditory canal, the narrow passageway from the brain to the middle and inner ear. Using this approach may enable surgeons to preserve a patient's hearing.\n",
      "\n"
     ]
    }
   ],
   "source": [
    "print_info(WebMD_QAs)\n",
    "print_five_qapairs(WebMD_QAs)"
   ]
  },
  {
   "cell_type": "markdown",
   "id": "462adbb1",
   "metadata": {},
   "source": [
    "### https://www.healthtap.com/specialties/ask-primary-and-urgent-care-doctor-free-online/"
   ]
  },
  {
   "cell_type": "code",
   "execution_count": 26,
   "id": "07bd1556",
   "metadata": {},
   "outputs": [],
   "source": [
    "healthtap_QAs = pd.read_csv(\"../Data/healthtap_QAs.csv\")"
   ]
  },
  {
   "cell_type": "code",
   "execution_count": 28,
   "id": "eff87205",
   "metadata": {},
   "outputs": [
    {
     "name": "stdout",
     "output_type": "stream",
     "text": [
      "Length:  137052  Q&A-Pairs\n",
      "Num duplicates:  0\n",
      "-----------------------------\n",
      "Question 1:\n",
      "st segment depression when exercising. cardiac mri calcium/coronary ct and echo were all normal. history of nsvt. what could this be? recommendation?\n",
      "\n",
      "Answer:\n",
      "a depressed st segment usually means some degree of coronary disease and in your case it can be best answered by the cardiologist who ordered these tests. in the meanwhile avoid strenuous exertion until you get this issue clarified.\n",
      "\n",
      "Question 2:\n",
      "stage of breast cancer as a relation to prognosis?\n",
      "\n",
      "Answer:\n",
      "survival depends on many factors such as overall health age stage of disease and response to treatment. additional information may be found at www. cancer. org.\n",
      "\n",
      "Question 3:\n",
      "i have benign frequent pacs/pvcs. have tried several beta blockers. currently deciding between bisopropol or bystolic (nebivolol). which would be most effective?\n",
      "\n",
      "Answer:\n",
      "tell in advance which beta blocker will be more effective! follow the lead of your treating physician and give each medication the right trial time and dosage! btw \"beta\" blockers also vary in side effects so follow your prescriber's instructions to the letter! hope this helps! dr z\n",
      "\n",
      "Question 4:\n",
      "can my breast implants leak fluid into my milk?\n",
      "\n",
      "Answer:\n",
      "does not occur.\n",
      "\n",
      "Question 5:\n",
      "could a missed period be due to signifigant weight loss? i have fatty liver and have lost 50 lbs since march\n",
      "\n",
      "Answer:\n",
      "if you are very underweight or very overweight you could become irregular. if you are very overweight losing weight may cause you to begin to cycle more regularly.\n",
      "\n"
     ]
    }
   ],
   "source": [
    "print_info(healthtap_QAs)\n",
    "print_five_qapairs(healthtap_QAs)"
   ]
  }
 ],
 "metadata": {
  "kernelspec": {
   "display_name": "Python 3 (ipykernel)",
   "language": "python",
   "name": "python3"
  },
  "language_info": {
   "codemirror_mode": {
    "name": "ipython",
    "version": 3
   },
   "file_extension": ".py",
   "mimetype": "text/x-python",
   "name": "python",
   "nbconvert_exporter": "python",
   "pygments_lexer": "ipython3",
   "version": "3.8.12"
  }
 },
 "nbformat": 4,
 "nbformat_minor": 5
}
