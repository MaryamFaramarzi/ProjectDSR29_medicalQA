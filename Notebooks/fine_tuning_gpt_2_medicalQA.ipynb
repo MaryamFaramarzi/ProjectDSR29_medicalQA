{
  "cells": [
    {
      "cell_type": "markdown",
      "id": "roman-patent",
      "metadata": {
        "papermill": {
          "duration": 0.013444,
          "end_time": "2022-03-02T09:11:13.440024",
          "exception": false,
          "start_time": "2022-03-02T09:11:13.426580",
          "status": "completed"
        },
        "tags": [],
        "id": "roman-patent"
      },
      "source": [
        "**Code adapted from this medium post - https://medium.com/geekculture/fine-tune-eleutherai-gpt-neo-to-generate-netflix-movie-descriptions-in-only-47-lines-of-code-40c9b4c32475** "
      ]
    },
    {
      "cell_type": "markdown",
      "source": [
        "# Installing and loading required libraries"
      ],
      "metadata": {
        "id": "HAzJZ8or_XOv"
      },
      "id": "HAzJZ8or_XOv"
    },
    {
      "cell_type": "code",
      "execution_count": null,
      "id": "renewable-vehicle",
      "metadata": {
        "execution": {
          "iopub.execute_input": "2022-03-02T09:11:13.470538Z",
          "iopub.status.busy": "2022-03-02T09:11:13.470031Z",
          "iopub.status.idle": "2022-03-02T09:11:49.752591Z",
          "shell.execute_reply": "2022-03-02T09:11:49.753033Z"
        },
        "papermill": {
          "duration": 36.30105,
          "end_time": "2022-03-02T09:11:49.753306",
          "exception": false,
          "start_time": "2022-03-02T09:11:13.452256",
          "status": "completed"
        },
        "tags": [],
        "colab": {
          "base_uri": "https://localhost:8080/"
        },
        "id": "renewable-vehicle",
        "outputId": "e2e6a699-cb34-4c0e-f091-42602c9fb214"
      },
      "outputs": [
        {
          "output_type": "stream",
          "name": "stdout",
          "text": [
            "\u001b[K     |████████████████████████████████| 3.8 MB 8.2 MB/s \n",
            "\u001b[K     |████████████████████████████████| 596 kB 70.9 MB/s \n",
            "\u001b[K     |████████████████████████████████| 67 kB 6.8 MB/s \n",
            "\u001b[K     |████████████████████████████████| 895 kB 84.1 MB/s \n",
            "\u001b[K     |████████████████████████████████| 6.6 MB 79.7 MB/s \n",
            "\u001b[K     |████████████████████████████████| 1.7 MB 7.6 MB/s \n",
            "\u001b[K     |████████████████████████████████| 181 kB 70.0 MB/s \n",
            "\u001b[K     |████████████████████████████████| 144 kB 82.8 MB/s \n",
            "\u001b[K     |████████████████████████████████| 63 kB 1.9 MB/s \n",
            "\u001b[?25h  Building wheel for pathtools (setup.py) ... \u001b[?25l\u001b[?25hdone\n"
          ]
        }
      ],
      "source": [
        "!pip install transformers --quiet\n",
        "!pip install wandb --quiet"
      ]
    },
    {
      "cell_type": "code",
      "source": [
        "import wandb\n",
        "wandb.login()"
      ],
      "metadata": {
        "colab": {
          "base_uri": "https://localhost:8080/",
          "height": 71
        },
        "id": "kivOVkUe6X-p",
        "outputId": "dce7e3d1-8d17-4b84-b130-31a444714625"
      },
      "id": "kivOVkUe6X-p",
      "execution_count": null,
      "outputs": [
        {
          "output_type": "display_data",
          "data": {
            "text/plain": [
              "<IPython.core.display.Javascript object>"
            ],
            "application/javascript": [
              "\n",
              "        window._wandbApiKey = new Promise((resolve, reject) => {\n",
              "            function loadScript(url) {\n",
              "            return new Promise(function(resolve, reject) {\n",
              "                let newScript = document.createElement(\"script\");\n",
              "                newScript.onerror = reject;\n",
              "                newScript.onload = resolve;\n",
              "                document.body.appendChild(newScript);\n",
              "                newScript.src = url;\n",
              "            });\n",
              "            }\n",
              "            loadScript(\"https://cdn.jsdelivr.net/npm/postmate/build/postmate.min.js\").then(() => {\n",
              "            const iframe = document.createElement('iframe')\n",
              "            iframe.style.cssText = \"width:0;height:0;border:none\"\n",
              "            document.body.appendChild(iframe)\n",
              "            const handshake = new Postmate({\n",
              "                container: iframe,\n",
              "                url: 'https://wandb.ai/authorize'\n",
              "            });\n",
              "            const timeout = setTimeout(() => reject(\"Couldn't auto authenticate\"), 5000)\n",
              "            handshake.then(function(child) {\n",
              "                child.on('authorize', data => {\n",
              "                    clearTimeout(timeout)\n",
              "                    resolve(data)\n",
              "                });\n",
              "            });\n",
              "            })\n",
              "        });\n",
              "    "
            ]
          },
          "metadata": {}
        },
        {
          "output_type": "stream",
          "name": "stderr",
          "text": [
            "\u001b[34m\u001b[1mwandb\u001b[0m: Appending key for api.wandb.ai to your netrc file: /root/.netrc\n"
          ]
        },
        {
          "output_type": "execute_result",
          "data": {
            "text/plain": [
              "True"
            ]
          },
          "metadata": {},
          "execution_count": 3
        }
      ]
    },
    {
      "cell_type": "code",
      "execution_count": null,
      "id": "mental-partnership",
      "metadata": {
        "_cell_guid": "b1076dfc-b9ad-4769-8c92-a6c4dae69d19",
        "_uuid": "8f2839f25d086af736a60e9eeb907d3b93b6e0e5",
        "execution": {
          "iopub.execute_input": "2022-03-02T09:11:49.814007Z",
          "iopub.status.busy": "2022-03-02T09:11:49.812833Z",
          "iopub.status.idle": "2022-03-02T09:11:56.542213Z",
          "shell.execute_reply": "2022-03-02T09:11:56.541258Z"
        },
        "papermill": {
          "duration": 6.761088,
          "end_time": "2022-03-02T09:11:56.542362",
          "exception": false,
          "start_time": "2022-03-02T09:11:49.781274",
          "status": "completed"
        },
        "tags": [],
        "id": "mental-partnership"
      },
      "outputs": [],
      "source": [
        "import pandas as pd\n",
        "import torch\n",
        "from torch.utils.data import Dataset, random_split\n",
        "from transformers import GPT2Tokenizer, TrainingArguments, Trainer, GPT2LMHeadModel, AutoTokenizer, AutoModelForCausalLM"
      ]
    },
    {
      "cell_type": "code",
      "execution_count": null,
      "id": "latter-stake",
      "metadata": {
        "execution": {
          "iopub.execute_input": "2022-03-02T09:11:57.491069Z",
          "iopub.status.busy": "2022-03-02T09:11:57.490252Z",
          "iopub.status.idle": "2022-03-02T09:11:57.497804Z",
          "shell.execute_reply": "2022-03-02T09:11:57.498387Z"
        },
        "papermill": {
          "duration": 0.069172,
          "end_time": "2022-03-02T09:11:57.498576",
          "exception": false,
          "start_time": "2022-03-02T09:11:57.429404",
          "status": "completed"
        },
        "tags": [],
        "colab": {
          "base_uri": "https://localhost:8080/"
        },
        "id": "latter-stake",
        "outputId": "ff9158bc-2c93-414c-b4fc-81fa36c7afec"
      },
      "outputs": [
        {
          "output_type": "execute_result",
          "data": {
            "text/plain": [
              "<torch._C.Generator at 0x7fe7aac0b210>"
            ]
          },
          "metadata": {},
          "execution_count": 3
        }
      ],
      "source": [
        "torch.manual_seed(42)"
      ]
    },
    {
      "cell_type": "code",
      "execution_count": null,
      "id": "constant-involvement",
      "metadata": {
        "execution": {
          "iopub.execute_input": "2022-03-02T09:12:55.950903Z",
          "iopub.status.busy": "2022-03-02T09:12:55.950363Z",
          "iopub.status.idle": "2022-03-02T09:12:56.048500Z",
          "shell.execute_reply": "2022-03-02T09:12:56.047498Z"
        },
        "papermill": {
          "duration": 0.137031,
          "end_time": "2022-03-02T09:12:56.048641",
          "exception": false,
          "start_time": "2022-03-02T09:12:55.911610",
          "status": "completed"
        },
        "tags": [],
        "colab": {
          "base_uri": "https://localhost:8080/"
        },
        "id": "constant-involvement",
        "outputId": "4cdbfe30-a38d-4f7c-f552-877e2fd5cae0"
      },
      "outputs": [
        {
          "output_type": "stream",
          "name": "stdout",
          "text": [
            "Mounted at /content/drive\n"
          ]
        }
      ],
      "source": [
        "from google.colab import drive\n",
        "drive.mount('/content/drive')"
      ]
    },
    {
      "cell_type": "code",
      "source": [
        "device = \"cuda\" if torch.cuda.is_available() else \"cpu\""
      ],
      "metadata": {
        "id": "vAtQhrAuWDJF"
      },
      "id": "vAtQhrAuWDJF",
      "execution_count": null,
      "outputs": []
    },
    {
      "cell_type": "markdown",
      "source": [
        "# Fine-tuning GPT2 medium"
      ],
      "metadata": {
        "id": "uP6LBlIK_utA"
      },
      "id": "uP6LBlIK_utA"
    },
    {
      "cell_type": "markdown",
      "id": "conceptual-amino",
      "metadata": {
        "papermill": {
          "duration": 0.047046,
          "end_time": "2022-03-02T09:11:57.593042",
          "exception": false,
          "start_time": "2022-03-02T09:11:57.545996",
          "status": "completed"
        },
        "tags": [],
        "id": "conceptual-amino"
      },
      "source": [
        "## Loading GPT2-Medium Model from 🤗 Model Hub "
      ]
    },
    {
      "cell_type": "code",
      "execution_count": null,
      "id": "hundred-registration",
      "metadata": {
        "execution": {
          "iopub.execute_input": "2022-03-02T09:11:57.699372Z",
          "iopub.status.busy": "2022-03-02T09:11:57.698581Z",
          "iopub.status.idle": "2022-03-02T09:12:55.880302Z",
          "shell.execute_reply": "2022-03-02T09:12:55.880692Z"
        },
        "papermill": {
          "duration": 58.240841,
          "end_time": "2022-03-02T09:12:55.880851",
          "exception": false,
          "start_time": "2022-03-02T09:11:57.640010",
          "status": "completed"
        },
        "tags": [],
        "id": "hundred-registration",
        "colab": {
          "base_uri": "https://localhost:8080/",
          "height": 132,
          "referenced_widgets": [
            "c15ea7f7ac6e47278033bd1e68ecb596",
            "f56e5cad641240dc86314dc9c42f1ba5",
            "5d7fff6c4102425fbd032faf343e1a50",
            "e00725692c9c42478d37e0685bc018bd",
            "5552ef0904ea450bbbe4e221368dc411",
            "ba53fc8d8aa847e0b82251650c06821d",
            "0e3c3b2487764bb88ffee8e017edc63a",
            "efa2a9bc4bd84cd0b86310a45ef41612",
            "9df1501763f44b2fb50cda81b3ba5025",
            "65229950d8f345aa8f89b50331c391f6",
            "7ba18acb25bb4f5b82bdc8b12a32c598",
            "4b028db5cf2d4ffa92f7247d509e8011",
            "1eeb685554564623a69512ff337c21fb",
            "7ef76c05622949b8b86079663295fee6",
            "a144a634fdba4b058323c6dff455384c",
            "ac5dd62fd0374d2797ac81b12cad08c5",
            "e1f1575159a44bccb46e930885f1d259",
            "04695a51c81249b584db432163b79d8a",
            "5f5e851549624577b6d1f36081ebf7da",
            "f813cb78d7034927a4061819252d2660",
            "e270bf99f262447e8be620ce16d41ef7",
            "ec4260aeaa614e5e9286c10ee8bd4d65",
            "b58e2950b2bf417fba307c1e708bc55b",
            "ec397856bf01481eb7aa913bdef63d40",
            "1f42561fecde4bc1a6192e27776d351d",
            "ddfd1e54364a4b2f897018febf8cc2a4",
            "6f8c539dce3b41d88ca09c7fd8db407e",
            "5caaf46cee7b4be9a648f5ad0b0dc76e",
            "799d11c5540e4317bb69ad60bde946b2",
            "60905a31d1ff42218dd5d441853a161a",
            "475057ac42fd4b318b98b2e60ee86df1",
            "3f19eadb6ab044b9a35eecf731e02d52",
            "b3e64204ca74495fa0b3baf58d49951d"
          ]
        },
        "outputId": "e744251a-c266-46e0-804f-297acc4b26df"
      },
      "outputs": [
        {
          "output_type": "display_data",
          "data": {
            "text/plain": [
              "Downloading:   0%|          | 0.00/0.99M [00:00<?, ?B/s]"
            ],
            "application/vnd.jupyter.widget-view+json": {
              "version_major": 2,
              "version_minor": 0,
              "model_id": "c15ea7f7ac6e47278033bd1e68ecb596"
            }
          },
          "metadata": {}
        },
        {
          "output_type": "display_data",
          "data": {
            "text/plain": [
              "Downloading:   0%|          | 0.00/446k [00:00<?, ?B/s]"
            ],
            "application/vnd.jupyter.widget-view+json": {
              "version_major": 2,
              "version_minor": 0,
              "model_id": "4b028db5cf2d4ffa92f7247d509e8011"
            }
          },
          "metadata": {}
        },
        {
          "output_type": "display_data",
          "data": {
            "text/plain": [
              "Downloading:   0%|          | 0.00/718 [00:00<?, ?B/s]"
            ],
            "application/vnd.jupyter.widget-view+json": {
              "version_major": 2,
              "version_minor": 0,
              "model_id": "b58e2950b2bf417fba307c1e708bc55b"
            }
          },
          "metadata": {}
        },
        {
          "output_type": "stream",
          "name": "stderr",
          "text": [
            "Special tokens have been added in the vocabulary, make sure the associated word embeddings are fine-tuned or trained.\n"
          ]
        }
      ],
      "source": [
        "tokenizer = GPT2Tokenizer.from_pretrained('gpt2-medium', bos_token='<|startoftext|>',\n",
        "                                          eos_token='<|endoftext|>', pad_token='<|pad|>')"
      ]
    },
    {
      "cell_type": "code",
      "source": [
        "model = GPT2LMHeadModel.from_pretrained('gpt2-medium').cuda()\n",
        "model.resize_token_embeddings(len(tokenizer))"
      ],
      "metadata": {
        "colab": {
          "base_uri": "https://localhost:8080/",
          "height": 253,
          "referenced_widgets": [
            "542a37371bcf471d8cedb79c97e9447f",
            "0acbe03629e343a0ada912997c03202f",
            "86590eb7f9f347909095681a47d706d6",
            "ce45b5a767fc4187b785a5e1c3c5a636",
            "33a0cebb190344d2afeccde1f87c0392",
            "740dd9268209400a84a3c07f736d84a9",
            "fafd0073ebf642e98e957611c8a6e883",
            "a54551f900f745db85057d3fc33541fc",
            "b132dae97f5d452cae9a942574a81463",
            "835a4a2c0bff411698e4cf74cd12b214",
            "e244b76b9359498397f1907936104f5d",
            "63039c873885444c8d19369f877e5b4b",
            "0955ad5d61254b1baaa449098342dace",
            "c554c1571091441baf55b089bf159e28",
            "ec2c6c5073d148f6b3b95ef58ce349a9",
            "c6ccddb33bdb4c799b48415300788ebd",
            "e2530f516f324d84ab8580e5a2d58128",
            "dfadb8fd1d6a48baa98107aa1a0af709",
            "a6bbae69440145d4be80ed81e8a304f2",
            "17eaab763b614aa9bbad009abde460f7",
            "06cca18b3b624d35a6f3f3bd763a0ce1",
            "55623cae1848488a886ed5bdd59e7510"
          ]
        },
        "id": "8NLfcm23WIcL",
        "outputId": "57b7843d-e032-490c-8e33-01afd1f9ea04"
      },
      "id": "8NLfcm23WIcL",
      "execution_count": null,
      "outputs": [
        {
          "output_type": "display_data",
          "data": {
            "text/plain": [
              "Downloading:   0%|          | 0.00/718 [00:00<?, ?B/s]"
            ],
            "application/vnd.jupyter.widget-view+json": {
              "version_major": 2,
              "version_minor": 0,
              "model_id": "542a37371bcf471d8cedb79c97e9447f"
            }
          },
          "metadata": {}
        },
        {
          "output_type": "display_data",
          "data": {
            "text/plain": [
              "Downloading:   0%|          | 0.00/1.42G [00:00<?, ?B/s]"
            ],
            "application/vnd.jupyter.widget-view+json": {
              "version_major": 2,
              "version_minor": 0,
              "model_id": "63039c873885444c8d19369f877e5b4b"
            }
          },
          "metadata": {}
        },
        {
          "output_type": "error",
          "ename": "NameError",
          "evalue": "ignored",
          "traceback": [
            "\u001b[0;31m---------------------------------------------------------------------------\u001b[0m",
            "\u001b[0;31mNameError\u001b[0m                                 Traceback (most recent call last)",
            "\u001b[0;32m<ipython-input-4-01ff27879e71>\u001b[0m in \u001b[0;36m<module>\u001b[0;34m()\u001b[0m\n\u001b[1;32m      1\u001b[0m \u001b[0mmodel\u001b[0m \u001b[0;34m=\u001b[0m \u001b[0mGPT2LMHeadModel\u001b[0m\u001b[0;34m.\u001b[0m\u001b[0mfrom_pretrained\u001b[0m\u001b[0;34m(\u001b[0m\u001b[0;34m'gpt2-medium'\u001b[0m\u001b[0;34m)\u001b[0m\u001b[0;34m.\u001b[0m\u001b[0mcuda\u001b[0m\u001b[0;34m(\u001b[0m\u001b[0;34m)\u001b[0m\u001b[0;34m\u001b[0m\u001b[0;34m\u001b[0m\u001b[0m\n\u001b[0;32m----> 2\u001b[0;31m \u001b[0mmodel\u001b[0m\u001b[0;34m.\u001b[0m\u001b[0mresize_token_embeddings\u001b[0m\u001b[0;34m(\u001b[0m\u001b[0mlen\u001b[0m\u001b[0;34m(\u001b[0m\u001b[0mtokenizer\u001b[0m\u001b[0;34m)\u001b[0m\u001b[0;34m)\u001b[0m\u001b[0;34m\u001b[0m\u001b[0;34m\u001b[0m\u001b[0m\n\u001b[0m",
            "\u001b[0;31mNameError\u001b[0m: name 'tokenizer' is not defined"
          ]
        }
      ]
    },
    {
      "cell_type": "code",
      "source": [
        "dir(model)"
      ],
      "metadata": {
        "colab": {
          "base_uri": "https://localhost:8080/"
        },
        "id": "Y4yAMBUTktYu",
        "outputId": "810bfd10-fa90-46f0-d344-5c02c18bbe77"
      },
      "id": "Y4yAMBUTktYu",
      "execution_count": null,
      "outputs": [
        {
          "output_type": "execute_result",
          "data": {
            "text/plain": [
              "['T_destination',\n",
              " '__annotations__',\n",
              " '__call__',\n",
              " '__class__',\n",
              " '__delattr__',\n",
              " '__dict__',\n",
              " '__dir__',\n",
              " '__doc__',\n",
              " '__eq__',\n",
              " '__format__',\n",
              " '__ge__',\n",
              " '__getattr__',\n",
              " '__getattribute__',\n",
              " '__gt__',\n",
              " '__hash__',\n",
              " '__init__',\n",
              " '__init_subclass__',\n",
              " '__le__',\n",
              " '__lt__',\n",
              " '__module__',\n",
              " '__ne__',\n",
              " '__new__',\n",
              " '__reduce__',\n",
              " '__reduce_ex__',\n",
              " '__repr__',\n",
              " '__setattr__',\n",
              " '__setstate__',\n",
              " '__sizeof__',\n",
              " '__str__',\n",
              " '__subclasshook__',\n",
              " '__weakref__',\n",
              " '_apply',\n",
              " '_auto_class',\n",
              " '_backward_compatibility_gradient_checkpointing',\n",
              " '_backward_hooks',\n",
              " '_buffers',\n",
              " '_call_impl',\n",
              " '_can_retrieve_inputs_from_name',\n",
              " '_convert_head_mask_to_5d',\n",
              " '_create_or_get_repo',\n",
              " '_expand_inputs_for_generation',\n",
              " '_forward_hooks',\n",
              " '_forward_pre_hooks',\n",
              " '_from_config',\n",
              " '_get_backward_hooks',\n",
              " '_get_decoder_start_token_id',\n",
              " '_get_logits_processor',\n",
              " '_get_logits_warper',\n",
              " '_get_name',\n",
              " '_get_repo_url_from_name',\n",
              " '_get_resized_embeddings',\n",
              " '_get_resized_lm_head',\n",
              " '_get_stopping_criteria',\n",
              " '_hook_rss_memory_post_forward',\n",
              " '_hook_rss_memory_pre_forward',\n",
              " '_init_weights',\n",
              " '_is_full_backward_hook',\n",
              " '_keys_to_ignore_on_load_missing',\n",
              " '_keys_to_ignore_on_load_unexpected',\n",
              " '_keys_to_ignore_on_save',\n",
              " '_load_from_state_dict',\n",
              " '_load_state_dict_into_model',\n",
              " '_load_state_dict_into_model_low_mem',\n",
              " '_load_state_dict_pre_hooks',\n",
              " '_maybe_warn_non_full_backward_hook',\n",
              " '_merge_criteria_processor_list',\n",
              " '_modules',\n",
              " '_named_members',\n",
              " '_non_persistent_buffers_set',\n",
              " '_parameters',\n",
              " '_prepare_attention_mask_for_generation',\n",
              " '_prepare_decoder_input_ids_for_generation',\n",
              " '_prepare_encoder_decoder_kwargs_for_generation',\n",
              " '_prepare_input_ids_for_generation',\n",
              " '_prepare_model_inputs',\n",
              " '_push_to_hub',\n",
              " '_register_load_state_dict_pre_hook',\n",
              " '_register_state_dict_hook',\n",
              " '_reorder_cache',\n",
              " '_replicate_for_data_parallel',\n",
              " '_resize_token_embeddings',\n",
              " '_save_to_state_dict',\n",
              " '_set_default_torch_dtype',\n",
              " '_set_gradient_checkpointing',\n",
              " '_slow_forward',\n",
              " '_state_dict_hooks',\n",
              " '_tie_encoder_decoder_weights',\n",
              " '_tie_or_clone_weights',\n",
              " '_update_model_kwargs_for_generation',\n",
              " '_version',\n",
              " 'add_memory_hooks',\n",
              " 'add_module',\n",
              " 'adjust_logits_during_generation',\n",
              " 'apply',\n",
              " 'base_model',\n",
              " 'base_model_prefix',\n",
              " 'beam_sample',\n",
              " 'beam_search',\n",
              " 'bfloat16',\n",
              " 'buffers',\n",
              " 'children',\n",
              " 'compute_transition_beam_scores',\n",
              " 'config',\n",
              " 'config_class',\n",
              " 'constrained_beam_search',\n",
              " 'cpu',\n",
              " 'create_extended_attention_mask_for_decoder',\n",
              " 'cuda',\n",
              " 'deparallelize',\n",
              " 'device',\n",
              " 'device_map',\n",
              " 'double',\n",
              " 'dtype',\n",
              " 'dummy_inputs',\n",
              " 'dump_patches',\n",
              " 'estimate_tokens',\n",
              " 'eval',\n",
              " 'extra_repr',\n",
              " 'float',\n",
              " 'floating_point_ops',\n",
              " 'forward',\n",
              " 'framework',\n",
              " 'from_pretrained',\n",
              " 'generate',\n",
              " 'get_buffer',\n",
              " 'get_extended_attention_mask',\n",
              " 'get_extra_state',\n",
              " 'get_head_mask',\n",
              " 'get_input_embeddings',\n",
              " 'get_output_embeddings',\n",
              " 'get_parameter',\n",
              " 'get_position_embeddings',\n",
              " 'get_submodule',\n",
              " 'gradient_checkpointing_disable',\n",
              " 'gradient_checkpointing_enable',\n",
              " 'greedy_search',\n",
              " 'group_beam_search',\n",
              " 'half',\n",
              " 'init_weights',\n",
              " 'invert_attention_mask',\n",
              " 'is_gradient_checkpointing',\n",
              " 'is_parallelizable',\n",
              " 'lm_head',\n",
              " 'load_state_dict',\n",
              " 'load_tf_weights',\n",
              " 'main_input_name',\n",
              " 'model_parallel',\n",
              " 'modules',\n",
              " 'name_or_path',\n",
              " 'named_buffers',\n",
              " 'named_children',\n",
              " 'named_modules',\n",
              " 'named_parameters',\n",
              " 'num_parameters',\n",
              " 'parallelize',\n",
              " 'parameters',\n",
              " 'post_init',\n",
              " 'prepare_inputs_for_generation',\n",
              " 'prune_heads',\n",
              " 'push_to_hub',\n",
              " 'register_backward_hook',\n",
              " 'register_buffer',\n",
              " 'register_for_auto_class',\n",
              " 'register_forward_hook',\n",
              " 'register_forward_pre_hook',\n",
              " 'register_full_backward_hook',\n",
              " 'register_parameter',\n",
              " 'requires_grad_',\n",
              " 'reset_memory_hooks_state',\n",
              " 'resize_position_embeddings',\n",
              " 'resize_token_embeddings',\n",
              " 'retrieve_modules_from_names',\n",
              " 'sample',\n",
              " 'save_pretrained',\n",
              " 'set_extra_state',\n",
              " 'set_input_embeddings',\n",
              " 'set_output_embeddings',\n",
              " 'share_memory',\n",
              " 'state_dict',\n",
              " 'supports_gradient_checkpointing',\n",
              " 'tie_weights',\n",
              " 'to',\n",
              " 'to_empty',\n",
              " 'train',\n",
              " 'training',\n",
              " 'transformer',\n",
              " 'type',\n",
              " 'xpu',\n",
              " 'zero_grad']"
            ]
          },
          "metadata": {},
          "execution_count": 8
        }
      ]
    },
    {
      "cell_type": "markdown",
      "source": [
        "## Load the dataset for fine-tuning"
      ],
      "metadata": {
        "id": "bI3kU-8SLP04"
      },
      "id": "bI3kU-8SLP04"
    },
    {
      "cell_type": "code",
      "source": [
        "path = '/content/drive/MyDrive/Portfolio Project- DSR29/DocProductData/'\n",
        "flag = 1\n",
        "if flag==1:\n",
        "  qa = pd.read_csv(path+'WebMD_QAs.csv')\n",
        "elif flag==2:\n",
        "  qa = pd.read_csv(path+\"healthtap_QAs.csv\")\n",
        "  qa = qa.groupby('question',as_index = False).agg({'answer': ' '.join})\n",
        "\n",
        "qa=qa.dropna()"
      ],
      "metadata": {
        "id": "lbdWIuBMrPq2"
      },
      "id": "lbdWIuBMrPq2",
      "execution_count": null,
      "outputs": []
    },
    {
      "cell_type": "code",
      "source": [
        "#max_length = max([len(tokenizer.encode(qa.loc[i,'question']+qa.loc[i,'answer'])) for i in range(len(qa))])\n",
        "# since above does not work, try for fewer samples to get an idea\n",
        "# max_length = max([len(tokenizer.encode(qa.loc[i,'question']+qa.loc[i,'answer'])) for i in range(400)])\n",
        "# max_length: 2883 for healthtap_QAs\n",
        "max_length = 256 # because of memory limitations"
      ],
      "metadata": {
        "id": "b9cl8rq8L1uc"
      },
      "id": "b9cl8rq8L1uc",
      "execution_count": null,
      "outputs": []
    },
    {
      "cell_type": "code",
      "execution_count": null,
      "id": "cheap-current",
      "metadata": {
        "execution": {
          "iopub.execute_input": "2022-03-02T09:13:00.824215Z",
          "iopub.status.busy": "2022-03-02T09:13:00.823431Z",
          "iopub.status.idle": "2022-03-02T09:13:00.826212Z",
          "shell.execute_reply": "2022-03-02T09:13:00.825759Z"
        },
        "papermill": {
          "duration": 0.039618,
          "end_time": "2022-03-02T09:13:00.826336",
          "exception": false,
          "start_time": "2022-03-02T09:13:00.786718",
          "status": "completed"
        },
        "tags": [],
        "id": "cheap-current"
      },
      "outputs": [],
      "source": [
        "class MedicalDataset(Dataset):\n",
        "    def __init__(self, qa, tokenizer, max_length):\n",
        "        self.input_ids = []\n",
        "        self.attn_masks = []\n",
        "        self.labels = []\n",
        "        for question, answer in zip(qa.loc[:,'question'], qa.loc[:,'answer']):\n",
        "            prep_txt = f'<|startoftext|>Question: {question}\\nAnswer: {answer}<|endoftext|>'            \n",
        "            encodings_dict = tokenizer(prep_txt, truncation=True,\n",
        "                                       max_length=max_length, padding=\"max_length\")\n",
        "\n",
        "            self.input_ids.append(torch.tensor(encodings_dict['input_ids']))\n",
        "            self.attn_masks.append(torch.tensor(encodings_dict['attention_mask']))\n",
        "\n",
        "    def __len__(self):\n",
        "        return len(self.input_ids)\n",
        "\n",
        "    def __getitem__(self, idx):\n",
        "        return self.input_ids[idx], self.attn_masks[idx]"
      ]
    },
    {
      "cell_type": "code",
      "execution_count": null,
      "id": "lucky-bankruptcy",
      "metadata": {
        "execution": {
          "iopub.execute_input": "2022-03-02T09:13:00.893300Z",
          "iopub.status.busy": "2022-03-02T09:13:00.892495Z",
          "iopub.status.idle": "2022-03-02T09:13:05.180882Z",
          "shell.execute_reply": "2022-03-02T09:13:05.179938Z"
        },
        "papermill": {
          "duration": 4.324225,
          "end_time": "2022-03-02T09:13:05.181055",
          "exception": false,
          "start_time": "2022-03-02T09:13:00.856830",
          "status": "completed"
        },
        "tags": [],
        "id": "lucky-bankruptcy"
      },
      "outputs": [],
      "source": [
        "dataset = MedicalDataset(qa, tokenizer, max_length=max_length)\n",
        "train_size = int(0.9 * len(dataset))\n",
        "train_dataset, val_dataset = random_split(dataset, [train_size, len(dataset) - train_size])\n",
        "del dataset\n",
        "del qa"
      ]
    },
    {
      "cell_type": "code",
      "execution_count": null,
      "id": "parallel-enough",
      "metadata": {
        "execution": {
          "iopub.execute_input": "2022-03-02T09:13:05.417183Z",
          "iopub.status.busy": "2022-03-02T09:13:05.416519Z",
          "iopub.status.idle": "2022-03-02T09:13:05.423184Z",
          "shell.execute_reply": "2022-03-02T09:13:05.422480Z"
        },
        "papermill": {
          "duration": 0.207168,
          "end_time": "2022-03-02T09:13:05.423329",
          "exception": false,
          "start_time": "2022-03-02T09:13:05.216161",
          "status": "completed"
        },
        "tags": [],
        "id": "parallel-enough",
        "colab": {
          "base_uri": "https://localhost:8080/"
        },
        "outputId": "1626ebb5-9c0a-4892-eb35-b39c19d81bd6"
      },
      "outputs": [
        {
          "output_type": "execute_result",
          "data": {
            "text/plain": [
              "50"
            ]
          },
          "metadata": {},
          "execution_count": 19
        }
      ],
      "source": [
        "import gc\n",
        "gc.collect()"
      ]
    },
    {
      "cell_type": "code",
      "execution_count": null,
      "id": "digital-doctor",
      "metadata": {
        "execution": {
          "iopub.execute_input": "2022-03-02T09:13:05.494900Z",
          "iopub.status.busy": "2022-03-02T09:13:05.494078Z",
          "iopub.status.idle": "2022-03-02T09:13:05.497110Z",
          "shell.execute_reply": "2022-03-02T09:13:05.496678Z"
        },
        "papermill": {
          "duration": 0.040874,
          "end_time": "2022-03-02T09:13:05.497226",
          "exception": false,
          "start_time": "2022-03-02T09:13:05.456352",
          "status": "completed"
        },
        "tags": [],
        "id": "digital-doctor"
      },
      "outputs": [],
      "source": [
        "torch.cuda.empty_cache()"
      ]
    },
    {
      "cell_type": "markdown",
      "source": [
        "## Training the model"
      ],
      "metadata": {
        "id": "LPi72h3UC9Z0"
      },
      "id": "LPi72h3UC9Z0"
    },
    {
      "cell_type": "markdown",
      "source": [
        "```\n",
        "TrainingArguments(output_dir=mistral-hello-world/runs/gpt2-small-d=wikitext-n=1-g=1-w=1+2021-06-25-23:57:32, \n",
        "                  overwrite_output_dir=False,do_train=True, do_eval=None,do_predict=False,evaluation_strategy=IntervalStrategy.STEPS, prediction_loss_only=True,per_device_train_batch_size=4,per_device_eval_batch_size=16,gradient_accumulation_steps=128,eval_accumulation_steps=None,learning_rate=0.0006,weight_decay=0.1,adam_beta1=0.9,adam_beta2=0.95,adam_epsilon=1e-08,max_grad_norm=1.0,num_train_epochs=3.0,max_steps=400000,lr_scheduler_type=SchedulerType.LINEAR,warmup_ratio=0.0,warmup_steps=4000,logging_dir=logs,logging_strategy=IntervalStrategy.STEPS,logging_first_step=True,logging_steps=50,save_strategy=IntervalStrategy.STEPS,save_steps=1000,save_total_limit=None,no_cuda=False,seed=21,fp16=True,fp16_opt_level=O1,fp16_backend=auto,fp16_full_eval=False,local_rank=-1,tpu_num_cores=None,tpu_metrics_debug=False,debug=False,dataloader_drop_last=False,eval_steps=1000,dataloader_num_workers=4,past_index=-1,run_name=gpt2-small-d=wikitext-n=1-g=1-w=1+2021-06-25-23:57:32,disable_tqdm=False,remove_unused_columns=True,label_names=None,load_best_model_at_end=False,metric_for_best_model=None,greater_is_better=None,ignore_data_skip=False,sharded_ddp=[],deepspeed=None,label_smoothing_factor=0.0,adafactor=False,group_by_length=False,length_column_name=length,report_to=[],ddp_find_unused_parameters=None,dataloader_pin_memory=True,skip_memory_metrics=False, _n_gpu=1,mp_parameters=)\n",
        "```\n",
        "\n"
      ],
      "metadata": {
        "id": "0cLGtXz_A7zY"
      },
      "id": "0cLGtXz_A7zY"
    },
    {
      "cell_type": "code",
      "execution_count": null,
      "id": "assured-cowboy",
      "metadata": {
        "execution": {
          "iopub.execute_input": "2022-03-02T09:13:05.568023Z",
          "iopub.status.busy": "2022-03-02T09:13:05.567254Z",
          "iopub.status.idle": "2022-03-02T09:13:05.571058Z",
          "shell.execute_reply": "2022-03-02T09:13:05.570578Z"
        },
        "papermill": {
          "duration": 0.040992,
          "end_time": "2022-03-02T09:13:05.571186",
          "exception": false,
          "start_time": "2022-03-02T09:13:05.530194",
          "status": "completed"
        },
        "tags": [],
        "id": "assured-cowboy"
      },
      "outputs": [],
      "source": [
        "training_args = TrainingArguments(output_dir='/content/drive/MyDrive/Portfolio Project- DSR29/results_try2_flag'+str(flag)+'_3epochs',\n",
        "                                  num_train_epochs=4,\n",
        "                                  logging_steps=100,\n",
        "                                  save_steps=200,\n",
        "                                  eval_steps=200,\n",
        "                                  evaluation_strategy='steps',\n",
        "                                  prediction_loss_only='False',\n",
        "                                  per_device_eval_batch_size=4,\n",
        "                                  per_device_train_batch_size=4,\n",
        "                                  gradient_accumulation_steps=16,\n",
        "                                  #gradient_checkpointing=True,\n",
        "                                  \n",
        "                                  learning_rate=0.0006,\n",
        "                                  weight_decay=0.15,\n",
        "                                  adam_beta1=0.9,\n",
        "                                  adam_beta2=0.95,\n",
        "                                  adam_epsilon=1e-08,\n",
        "                                  max_grad_norm=1.0,\n",
        "\n",
        "                                  warmup_steps=200,\n",
        "                                  #weight_decay=0.1,\n",
        "                                  #lr_scheduler_type= 'cosine',\n",
        "                                  #learning_rate = 5e-4,\n",
        "\n",
        "                                  fp16=True,\n",
        "\n",
        "                                  logging_dir='/content/drive/MyDrive/Portfolio Project- DSR29/logs_try2_flag'+str(flag)+'_3epochs',\n",
        "                                  report_to=\"wandb\",  # enable logging to W&B\n",
        "                                  run_name=\"GPT2-\"+str(flag)  # name of the W&B run (optional)\n",
        ")\n"
      ]
    },
    {
      "cell_type": "code",
      "source": [
        "Trainer(model=model,\n",
        "        args=training_args,\n",
        "        train_dataset=train_dataset, \n",
        "        eval_dataset=val_dataset,\n",
        "        data_collator=lambda data: {'input_ids': torch.stack([f[0] for f in data]),\n",
        "                                  'attention_mask': torch.stack([f[1] for f in data]),\n",
        "                                  'labels': torch.stack([f[0] for f in data])},\n",
        "        ).train(\n",
        "            #resume_from_checkpoint=True\n",
        "            )"
      ],
      "metadata": {
        "colab": {
          "base_uri": "https://localhost:8080/",
          "height": 1000
        },
        "id": "n9-mEedSfr_h",
        "outputId": "f284a339-9fd3-45d9-fbf3-c1081f4b0c67"
      },
      "id": "n9-mEedSfr_h",
      "execution_count": null,
      "outputs": [
        {
          "metadata": {
            "tags": null
          },
          "name": "stderr",
          "output_type": "stream",
          "text": [
            "Using amp half precision backend\n",
            "/usr/local/lib/python3.7/dist-packages/transformers/optimization.py:309: FutureWarning: This implementation of AdamW is deprecated and will be removed in a future version. Use the PyTorch implementation torch.optim.AdamW instead, or set `no_deprecation_warning=True` to disable this warning\n",
            "  FutureWarning,\n",
            "***** Running training *****\n",
            "  Num examples = 41630\n",
            "  Num Epochs = 4\n",
            "  Instantaneous batch size per device = 4\n",
            "  Total train batch size (w. parallel, distributed & accumulation) = 64\n",
            "  Gradient Accumulation steps = 16\n",
            "  Total optimization steps = 2600\n",
            "Automatic Weights & Biases logging enabled, to disable set os.environ[\"WANDB_DISABLED\"] = \"true\"\n",
            "\u001b[34m\u001b[1mwandb\u001b[0m: Currently logged in as: \u001b[33mmaryamf\u001b[0m (use `wandb login --relogin` to force relogin)\n"
          ]
        },
        {
          "data": {
            "text/html": [
              "Tracking run with wandb version 0.12.11"
            ],
            "text/plain": [
              "<IPython.core.display.HTML object>"
            ]
          },
          "metadata": {},
          "output_type": "display_data"
        },
        {
          "data": {
            "text/html": [
              "Run data is saved locally in <code>/content/wandb/run-20220326_093614-3korjoy4</code>"
            ],
            "text/plain": [
              "<IPython.core.display.HTML object>"
            ]
          },
          "metadata": {},
          "output_type": "display_data"
        },
        {
          "data": {
            "text/html": [
              "Syncing run <strong><a href=\"https://wandb.ai/maryamf/huggingface/runs/3korjoy4\" target=\"_blank\">GPT2-1</a></strong> to <a href=\"https://wandb.ai/maryamf/huggingface\" target=\"_blank\">Weights & Biases</a> (<a href=\"https://wandb.me/run\" target=\"_blank\">docs</a>)<br/>"
            ],
            "text/plain": [
              "<IPython.core.display.HTML object>"
            ]
          },
          "metadata": {},
          "output_type": "display_data"
        },
        {
          "data": {
            "text/html": [
              "\n",
              "    <div>\n",
              "      \n",
              "      <progress value='858' max='2600' style='width:300px; height:20px; vertical-align: middle;'></progress>\n",
              "      [ 858/2600 1:59:46 < 4:03:44, 0.12 it/s, Epoch 1.32/4]\n",
              "    </div>\n",
              "    <table border=\"1\" class=\"dataframe\">\n",
              "  <thead>\n",
              " <tr style=\"text-align: left;\">\n",
              "      <th>Step</th>\n",
              "      <th>Training Loss</th>\n",
              "      <th>Validation Loss</th>\n",
              "    </tr>\n",
              "  </thead>\n",
              "  <tbody>\n",
              "    <tr>\n",
              "      <td>200</td>\n",
              "      <td>0.881200</td>\n",
              "      <td>0.837988</td>\n",
              "    </tr>\n",
              "    <tr>\n",
              "      <td>400</td>\n",
              "      <td>0.840600</td>\n",
              "      <td>0.806226</td>\n",
              "    </tr>\n",
              "    <tr>\n",
              "      <td>600</td>\n",
              "      <td>0.806500</td>\n",
              "      <td>0.772102</td>\n",
              "    </tr>\n",
              "    <tr>\n",
              "      <td>800</td>\n",
              "      <td>0.691000</td>\n",
              "      <td>0.754336</td>\n",
              "    </tr>\n",
              "  </tbody>\n",
              "</table><p>"
            ],
            "text/plain": [
              "<IPython.core.display.HTML object>"
            ]
          },
          "metadata": {},
          "output_type": "display_data"
        },
        {
          "metadata": {
            "tags": null
          },
          "name": "stderr",
          "output_type": "stream",
          "text": [
            "***** Running Evaluation *****\n",
            "  Num examples = 4626\n",
            "  Batch size = 4\n",
            "Saving model checkpoint to /content/drive/MyDrive/Portfolio Project- DSR29/results_try2_flag1_3epochs/checkpoint-200\n",
            "Configuration saved in /content/drive/MyDrive/Portfolio Project- DSR29/results_try2_flag1_3epochs/checkpoint-200/config.json\n",
            "Model weights saved in /content/drive/MyDrive/Portfolio Project- DSR29/results_try2_flag1_3epochs/checkpoint-200/pytorch_model.bin\n",
            "***** Running Evaluation *****\n",
            "  Num examples = 4626\n",
            "  Batch size = 4\n",
            "Saving model checkpoint to /content/drive/MyDrive/Portfolio Project- DSR29/results_try2_flag1_3epochs/checkpoint-400\n",
            "Configuration saved in /content/drive/MyDrive/Portfolio Project- DSR29/results_try2_flag1_3epochs/checkpoint-400/config.json\n",
            "Model weights saved in /content/drive/MyDrive/Portfolio Project- DSR29/results_try2_flag1_3epochs/checkpoint-400/pytorch_model.bin\n",
            "***** Running Evaluation *****\n",
            "  Num examples = 4626\n",
            "  Batch size = 4\n",
            "Saving model checkpoint to /content/drive/MyDrive/Portfolio Project- DSR29/results_try2_flag1_3epochs/checkpoint-600\n",
            "Configuration saved in /content/drive/MyDrive/Portfolio Project- DSR29/results_try2_flag1_3epochs/checkpoint-600/config.json\n",
            "Model weights saved in /content/drive/MyDrive/Portfolio Project- DSR29/results_try2_flag1_3epochs/checkpoint-600/pytorch_model.bin\n",
            "***** Running Evaluation *****\n",
            "  Num examples = 4626\n",
            "  Batch size = 4\n",
            "Saving model checkpoint to /content/drive/MyDrive/Portfolio Project- DSR29/results_try2_flag1_3epochs/checkpoint-800\n",
            "Configuration saved in /content/drive/MyDrive/Portfolio Project- DSR29/results_try2_flag1_3epochs/checkpoint-800/config.json\n",
            "Model weights saved in /content/drive/MyDrive/Portfolio Project- DSR29/results_try2_flag1_3epochs/checkpoint-800/pytorch_model.bin\n"
          ]
        },
        {
          "output_type": "display_data",
          "data": {
            "text/plain": [
              "<IPython.core.display.HTML object>"
            ],
            "text/html": [
              "\n",
              "    <div>\n",
              "      \n",
              "      <progress value='2600' max='2600' style='width:300px; height:20px; vertical-align: middle;'></progress>\n",
              "      [2600/2600 6:06:15, Epoch 3/4]\n",
              "    </div>\n",
              "    <table border=\"1\" class=\"dataframe\">\n",
              "  <thead>\n",
              " <tr style=\"text-align: left;\">\n",
              "      <th>Step</th>\n",
              "      <th>Training Loss</th>\n",
              "      <th>Validation Loss</th>\n",
              "    </tr>\n",
              "  </thead>\n",
              "  <tbody>\n",
              "    <tr>\n",
              "      <td>200</td>\n",
              "      <td>0.881200</td>\n",
              "      <td>0.837988</td>\n",
              "    </tr>\n",
              "    <tr>\n",
              "      <td>400</td>\n",
              "      <td>0.840600</td>\n",
              "      <td>0.806226</td>\n",
              "    </tr>\n",
              "    <tr>\n",
              "      <td>600</td>\n",
              "      <td>0.806500</td>\n",
              "      <td>0.772102</td>\n",
              "    </tr>\n",
              "    <tr>\n",
              "      <td>800</td>\n",
              "      <td>0.691000</td>\n",
              "      <td>0.754336</td>\n",
              "    </tr>\n",
              "    <tr>\n",
              "      <td>1000</td>\n",
              "      <td>0.673200</td>\n",
              "      <td>0.735782</td>\n",
              "    </tr>\n",
              "    <tr>\n",
              "      <td>1200</td>\n",
              "      <td>0.654400</td>\n",
              "      <td>0.712402</td>\n",
              "    </tr>\n",
              "    <tr>\n",
              "      <td>1400</td>\n",
              "      <td>0.508200</td>\n",
              "      <td>0.725477</td>\n",
              "    </tr>\n",
              "    <tr>\n",
              "      <td>1600</td>\n",
              "      <td>0.505900</td>\n",
              "      <td>0.712879</td>\n",
              "    </tr>\n",
              "    <tr>\n",
              "      <td>1800</td>\n",
              "      <td>0.499500</td>\n",
              "      <td>0.689195</td>\n",
              "    </tr>\n",
              "    <tr>\n",
              "      <td>2000</td>\n",
              "      <td>0.433100</td>\n",
              "      <td>0.723712</td>\n",
              "    </tr>\n",
              "    <tr>\n",
              "      <td>2200</td>\n",
              "      <td>0.371800</td>\n",
              "      <td>0.708967</td>\n",
              "    </tr>\n",
              "    <tr>\n",
              "      <td>2400</td>\n",
              "      <td>0.374800</td>\n",
              "      <td>0.707550</td>\n",
              "    </tr>\n",
              "    <tr>\n",
              "      <td>2600</td>\n",
              "      <td>0.362000</td>\n",
              "      <td>0.703734</td>\n",
              "    </tr>\n",
              "  </tbody>\n",
              "</table><p>"
            ]
          },
          "metadata": {}
        },
        {
          "output_type": "stream",
          "name": "stderr",
          "text": [
            "***** Running Evaluation *****\n",
            "  Num examples = 4626\n",
            "  Batch size = 4\n",
            "Saving model checkpoint to /content/drive/MyDrive/Portfolio Project- DSR29/results_try2_flag1_3epochs/checkpoint-1000\n",
            "Configuration saved in /content/drive/MyDrive/Portfolio Project- DSR29/results_try2_flag1_3epochs/checkpoint-1000/config.json\n",
            "Model weights saved in /content/drive/MyDrive/Portfolio Project- DSR29/results_try2_flag1_3epochs/checkpoint-1000/pytorch_model.bin\n",
            "***** Running Evaluation *****\n",
            "  Num examples = 4626\n",
            "  Batch size = 4\n",
            "Saving model checkpoint to /content/drive/MyDrive/Portfolio Project- DSR29/results_try2_flag1_3epochs/checkpoint-1200\n",
            "Configuration saved in /content/drive/MyDrive/Portfolio Project- DSR29/results_try2_flag1_3epochs/checkpoint-1200/config.json\n",
            "Model weights saved in /content/drive/MyDrive/Portfolio Project- DSR29/results_try2_flag1_3epochs/checkpoint-1200/pytorch_model.bin\n",
            "***** Running Evaluation *****\n",
            "  Num examples = 4626\n",
            "  Batch size = 4\n",
            "Saving model checkpoint to /content/drive/MyDrive/Portfolio Project- DSR29/results_try2_flag1_3epochs/checkpoint-1400\n",
            "Configuration saved in /content/drive/MyDrive/Portfolio Project- DSR29/results_try2_flag1_3epochs/checkpoint-1400/config.json\n",
            "Model weights saved in /content/drive/MyDrive/Portfolio Project- DSR29/results_try2_flag1_3epochs/checkpoint-1400/pytorch_model.bin\n",
            "***** Running Evaluation *****\n",
            "  Num examples = 4626\n",
            "  Batch size = 4\n",
            "Saving model checkpoint to /content/drive/MyDrive/Portfolio Project- DSR29/results_try2_flag1_3epochs/checkpoint-1600\n",
            "Configuration saved in /content/drive/MyDrive/Portfolio Project- DSR29/results_try2_flag1_3epochs/checkpoint-1600/config.json\n",
            "Model weights saved in /content/drive/MyDrive/Portfolio Project- DSR29/results_try2_flag1_3epochs/checkpoint-1600/pytorch_model.bin\n",
            "***** Running Evaluation *****\n",
            "  Num examples = 4626\n",
            "  Batch size = 4\n",
            "Saving model checkpoint to /content/drive/MyDrive/Portfolio Project- DSR29/results_try2_flag1_3epochs/checkpoint-1800\n",
            "Configuration saved in /content/drive/MyDrive/Portfolio Project- DSR29/results_try2_flag1_3epochs/checkpoint-1800/config.json\n",
            "Model weights saved in /content/drive/MyDrive/Portfolio Project- DSR29/results_try2_flag1_3epochs/checkpoint-1800/pytorch_model.bin\n",
            "***** Running Evaluation *****\n",
            "  Num examples = 4626\n",
            "  Batch size = 4\n",
            "Saving model checkpoint to /content/drive/MyDrive/Portfolio Project- DSR29/results_try2_flag1_3epochs/checkpoint-2000\n",
            "Configuration saved in /content/drive/MyDrive/Portfolio Project- DSR29/results_try2_flag1_3epochs/checkpoint-2000/config.json\n",
            "Model weights saved in /content/drive/MyDrive/Portfolio Project- DSR29/results_try2_flag1_3epochs/checkpoint-2000/pytorch_model.bin\n",
            "***** Running Evaluation *****\n",
            "  Num examples = 4626\n",
            "  Batch size = 4\n",
            "Saving model checkpoint to /content/drive/MyDrive/Portfolio Project- DSR29/results_try2_flag1_3epochs/checkpoint-2200\n",
            "Configuration saved in /content/drive/MyDrive/Portfolio Project- DSR29/results_try2_flag1_3epochs/checkpoint-2200/config.json\n",
            "Model weights saved in /content/drive/MyDrive/Portfolio Project- DSR29/results_try2_flag1_3epochs/checkpoint-2200/pytorch_model.bin\n",
            "***** Running Evaluation *****\n",
            "  Num examples = 4626\n",
            "  Batch size = 4\n",
            "Saving model checkpoint to /content/drive/MyDrive/Portfolio Project- DSR29/results_try2_flag1_3epochs/checkpoint-2400\n",
            "Configuration saved in /content/drive/MyDrive/Portfolio Project- DSR29/results_try2_flag1_3epochs/checkpoint-2400/config.json\n",
            "Model weights saved in /content/drive/MyDrive/Portfolio Project- DSR29/results_try2_flag1_3epochs/checkpoint-2400/pytorch_model.bin\n",
            "***** Running Evaluation *****\n",
            "  Num examples = 4626\n",
            "  Batch size = 4\n",
            "Saving model checkpoint to /content/drive/MyDrive/Portfolio Project- DSR29/results_try2_flag1_3epochs/checkpoint-2600\n",
            "Configuration saved in /content/drive/MyDrive/Portfolio Project- DSR29/results_try2_flag1_3epochs/checkpoint-2600/config.json\n",
            "Model weights saved in /content/drive/MyDrive/Portfolio Project- DSR29/results_try2_flag1_3epochs/checkpoint-2600/pytorch_model.bin\n",
            "\n",
            "\n",
            "Training completed. Do not forget to share your model on huggingface.co/models =)\n",
            "\n",
            "\n"
          ]
        },
        {
          "output_type": "execute_result",
          "data": {
            "text/plain": [
              "TrainOutput(global_step=2600, training_loss=0.7627855829092173, metrics={'train_runtime': 21987.8921, 'train_samples_per_second': 7.573, 'train_steps_per_second': 0.118, 'total_flos': 7.730968931598336e+16, 'train_loss': 0.7627855829092173, 'epoch': 4.0})"
            ]
          },
          "metadata": {},
          "execution_count": 18
        }
      ]
    },
    {
      "cell_type": "code",
      "source": [
        "wandb.finish()"
      ],
      "metadata": {
        "colab": {
          "base_uri": "https://localhost:8080/",
          "height": 477,
          "referenced_widgets": [
            "c3566ee723304dc596055088f5076166",
            "f215e945a46e4e2caa6c011a93fdc0b1",
            "362a5ca4d96848a48f735b1b68c01607",
            "ab51e322bb8f48c6afe3ec04fa4e08a3",
            "58b0f03b57854bde87d8af328d4062d1",
            "33ed1d1838d64a8a8053bd2aff573f97",
            "d9301463ce254970a69fc6acdc54b555",
            "07e6036ece564df5a584448fcbd528c4"
          ]
        },
        "id": "SxVLgyJnWXD_",
        "outputId": "ac971f90-350f-4fe2-8d72-a47f86cb97db"
      },
      "id": "SxVLgyJnWXD_",
      "execution_count": null,
      "outputs": [
        {
          "output_type": "stream",
          "name": "stdout",
          "text": [
            "\n"
          ]
        },
        {
          "output_type": "display_data",
          "data": {
            "text/plain": [
              "<IPython.core.display.HTML object>"
            ],
            "text/html": [
              "Waiting for W&B process to finish... <strong style=\"color:green\">(success).</strong>"
            ]
          },
          "metadata": {}
        },
        {
          "output_type": "display_data",
          "data": {
            "text/plain": [
              "VBox(children=(Label(value='0.001 MB of 0.001 MB uploaded (0.000 MB deduped)\\r'), FloatProgress(value=1.0, max…"
            ],
            "application/vnd.jupyter.widget-view+json": {
              "version_major": 2,
              "version_minor": 0,
              "model_id": "c3566ee723304dc596055088f5076166"
            }
          },
          "metadata": {}
        },
        {
          "output_type": "display_data",
          "data": {
            "text/plain": [
              "<IPython.core.display.HTML object>"
            ],
            "text/html": [
              "<style>\n",
              "    table.wandb td:nth-child(1) { padding: 0 10px; text-align: right }\n",
              "    .wandb-row { display: flex; flex-direction: row; flex-wrap: wrap; width: 100% }\n",
              "    .wandb-col { display: flex; flex-direction: column; flex-basis: 100%; flex: 1; padding: 10px; }\n",
              "    </style>\n",
              "<div class=\"wandb-row\"><div class=\"wandb-col\"><h3>Run history:</h3><br/><table class=\"wandb\"><tr><td>eval/loss</td><td>█▇▅▄▃▂▃▂▁▃▂▂▂</td></tr><tr><td>eval/runtime</td><td>▇▁▄▇▄█▃▇██▇█▆</td></tr><tr><td>eval/samples_per_second</td><td>▂█▅▂▅▁▆▂▁▁▂▁▃</td></tr><tr><td>eval/steps_per_second</td><td>▃█▆▂▄▂▆▂▁▁▂▁▃</td></tr><tr><td>train/epoch</td><td>▁▁▁▂▂▂▂▂▂▃▃▃▃▄▄▄▄▄▄▅▅▅▅▅▅▆▆▆▆▆▇▇▇▇▇▇████</td></tr><tr><td>train/global_step</td><td>▁▁▁▂▂▂▂▂▂▃▃▃▃▄▄▄▄▄▄▅▅▅▅▅▅▆▆▆▆▆▇▇▇▇▇▇████</td></tr><tr><td>train/learning_rate</td><td>▄███▇▇▇▆▆▆▅▅▅▅▄▄▄▃▃▃▂▂▂▂▁▁</td></tr><tr><td>train/loss</td><td>█▂▂▂▂▂▂▁▁▁▁▁▁▁▁▁▁▁▁▁▁▁▁▁▁▁</td></tr><tr><td>train/total_flos</td><td>▁</td></tr><tr><td>train/train_loss</td><td>▁</td></tr><tr><td>train/train_runtime</td><td>▁</td></tr><tr><td>train/train_samples_per_second</td><td>▁</td></tr><tr><td>train/train_steps_per_second</td><td>▁</td></tr></table><br/></div><div class=\"wandb-col\"><h3>Run summary:</h3><br/><table class=\"wandb\"><tr><td>eval/loss</td><td>0.70373</td></tr><tr><td>eval/runtime</td><td>185.1283</td></tr><tr><td>eval/samples_per_second</td><td>24.988</td></tr><tr><td>eval/steps_per_second</td><td>6.25</td></tr><tr><td>train/epoch</td><td>4.0</td></tr><tr><td>train/global_step</td><td>2600</td></tr><tr><td>train/learning_rate</td><td>0.0</td></tr><tr><td>train/loss</td><td>0.362</td></tr><tr><td>train/total_flos</td><td>7.730968931598336e+16</td></tr><tr><td>train/train_loss</td><td>0.76279</td></tr><tr><td>train/train_runtime</td><td>21987.8921</td></tr><tr><td>train/train_samples_per_second</td><td>7.573</td></tr><tr><td>train/train_steps_per_second</td><td>0.118</td></tr></table><br/></div></div>"
            ]
          },
          "metadata": {}
        },
        {
          "output_type": "display_data",
          "data": {
            "text/plain": [
              "<IPython.core.display.HTML object>"
            ],
            "text/html": [
              "Synced <strong style=\"color:#cdcd00\">GPT2-1</strong>: <a href=\"https://wandb.ai/maryamf/huggingface/runs/3korjoy4\" target=\"_blank\">https://wandb.ai/maryamf/huggingface/runs/3korjoy4</a><br/>Synced 5 W&B file(s), 0 media file(s), 0 artifact file(s) and 0 other file(s)"
            ]
          },
          "metadata": {}
        },
        {
          "output_type": "display_data",
          "data": {
            "text/plain": [
              "<IPython.core.display.HTML object>"
            ],
            "text/html": [
              "Find logs at: <code>./wandb/run-20220326_093614-3korjoy4/logs</code>"
            ]
          },
          "metadata": {}
        }
      ]
    },
    {
      "cell_type": "code",
      "source": [
        "torch.save(model, '/content/drive/MyDrive/Portfolio Project- DSR29/models/model_GPT2_medium_finetune_flag'+str(flag)+'3epochs'+'.pt')"
      ],
      "metadata": {
        "id": "FWJKW6OimLAa"
      },
      "id": "FWJKW6OimLAa",
      "execution_count": null,
      "outputs": []
    },
    {
      "cell_type": "markdown",
      "id": "rational-lobby",
      "metadata": {
        "papermill": {
          "duration": 0.035399,
          "end_time": "2022-03-02T09:35:16.433713",
          "exception": false,
          "start_time": "2022-03-02T09:35:16.398314",
          "status": "completed"
        },
        "tags": [],
        "id": "rational-lobby"
      },
      "source": [
        "# Question Answering with GPT2\n",
        "\n",
        "\n"
      ]
    },
    {
      "cell_type": "markdown",
      "source": [
        "## Load the test data (90 Q/A)"
      ],
      "metadata": {
        "id": "MfJrglF7Gsf-"
      },
      "id": "MfJrglF7Gsf-"
    },
    {
      "cell_type": "code",
      "source": [
        "qa_90 = pd.read_csv('/content/drive/MyDrive/Portfolio Project- DSR29/90_qas.csv')"
      ],
      "metadata": {
        "id": "f2FAk8EywhPc"
      },
      "id": "f2FAk8EywhPc",
      "execution_count": null,
      "outputs": []
    },
    {
      "cell_type": "markdown",
      "source": [
        "## Load the models\n"
      ],
      "metadata": {
        "id": "h0L-UQSGDX-U"
      },
      "id": "h0L-UQSGDX-U"
    },
    {
      "cell_type": "markdown",
      "source": [
        "### Load pretrained models and generate answers using them"
      ],
      "metadata": {
        "id": "d3Zdyj8QnO2G"
      },
      "id": "d3Zdyj8QnO2G"
    },
    {
      "cell_type": "code",
      "source": [
        "def generate_ans(question_list, model, tokenizer, finetuned, min_length, max_length, num_beams, no_repeat_ngram_size):\n",
        "  '''\n",
        "  This function answers the questions provided in a list using the provided model and parameters\n",
        "  '''\n",
        "  answer = []\n",
        "  for i in range(len(question_list)):\n",
        "    question = question_list[i]\n",
        "    if finetuned==True:\n",
        "      prep_txt = f'<|startoftext|>Question: {question}\\nAnswer: '\n",
        "    else:\n",
        "      prep_txt = question\n",
        "    generated = tokenizer(prep_txt, return_tensors=\"pt\").input_ids.cuda()\n",
        "    sample_outputs = model.generate(generated, do_sample=False, num_beams=num_beams, \n",
        "                                    max_length=max_length, no_repeat_ngram_size=no_repeat_ngram_size)\n",
        "    if finetuned==True:\n",
        "      answer += [tokenizer.decode(sample_outputs[0], skip_special_tokens=True).split('Answer: ')[1]]\n",
        "    else:\n",
        "      answer += [tokenizer.decode(sample_outputs[0][len(generated[0])+1:], skip_special_tokens=True)]\n",
        "  return answer"
      ],
      "metadata": {
        "id": "SzeV5ZCuHgH3"
      },
      "id": "SzeV5ZCuHgH3",
      "execution_count": null,
      "outputs": []
    },
    {
      "cell_type": "code",
      "source": [
        "# testing the pretrained GPT2 performance without fine-tuning\n",
        "modelTypeList = ['gpt2-xl','gpt2-medium']\n",
        "modelType = modelTypeList[0]\n",
        "model = GPT2LMHeadModel.from_pretrained(modelType).cuda()\n",
        "tokenizer = GPT2Tokenizer.from_pretrained(modelType)\n",
        "# Another way of loading\n",
        "# model_xl = AutoModelForCausalLM.from_pretrained(\"gpt2-xl\").cuda()\n",
        "# tokenizer_xl = AutoTokenizer.from_pretrained(\"gpt2-xl\")"
      ],
      "metadata": {
        "id": "BYgtfMBkt_CH"
      },
      "id": "BYgtfMBkt_CH",
      "execution_count": null,
      "outputs": []
    },
    {
      "cell_type": "code",
      "source": [
        "# Generate answers\n",
        "max_gen_length = 256\n",
        "min_gen_length = 60\n",
        "num_beams = 5\n",
        "no_repeat_ngram_size = 3\n",
        "col_name = f'{modelType}_nbeam{num_beams}_ngram{no_repeat_ngram_size}_len{min_gen_length}_{max_gen_length}'\n",
        "answer = generate_ans(question_list=qa_90.loc[:,'question'], model=model, tokenizer=tokenizer, finetuned=False,\n",
        "                      min_length=min_gen_length, max_length=max_gen_length, num_beams=num_beams, no_repeat_ngram_size=no_repeat_ngram_size)\n",
        "qa_90.loc[:,col_name] = answer\n"
      ],
      "metadata": {
        "colab": {
          "base_uri": "https://localhost:8080/"
        },
        "id": "O8-Rp2x3AEbq",
        "outputId": "1c5ec56e-c1ae-46c9-b9b9-8c6531acafa0"
      },
      "id": "O8-Rp2x3AEbq",
      "execution_count": null,
      "outputs": [
        {
          "output_type": "stream",
          "name": "stderr",
          "text": [
            "Setting `pad_token_id` to `eos_token_id`:50256 for open-end generation.\n",
            "Setting `pad_token_id` to `eos_token_id`:50256 for open-end generation.\n",
            "Setting `pad_token_id` to `eos_token_id`:50256 for open-end generation.\n",
            "Setting `pad_token_id` to `eos_token_id`:50256 for open-end generation.\n",
            "Setting `pad_token_id` to `eos_token_id`:50256 for open-end generation.\n",
            "Setting `pad_token_id` to `eos_token_id`:50256 for open-end generation.\n",
            "Setting `pad_token_id` to `eos_token_id`:50256 for open-end generation.\n",
            "Setting `pad_token_id` to `eos_token_id`:50256 for open-end generation.\n",
            "Setting `pad_token_id` to `eos_token_id`:50256 for open-end generation.\n",
            "Setting `pad_token_id` to `eos_token_id`:50256 for open-end generation.\n",
            "Setting `pad_token_id` to `eos_token_id`:50256 for open-end generation.\n",
            "Setting `pad_token_id` to `eos_token_id`:50256 for open-end generation.\n",
            "Setting `pad_token_id` to `eos_token_id`:50256 for open-end generation.\n",
            "Setting `pad_token_id` to `eos_token_id`:50256 for open-end generation.\n",
            "Setting `pad_token_id` to `eos_token_id`:50256 for open-end generation.\n",
            "Setting `pad_token_id` to `eos_token_id`:50256 for open-end generation.\n",
            "Setting `pad_token_id` to `eos_token_id`:50256 for open-end generation.\n",
            "Setting `pad_token_id` to `eos_token_id`:50256 for open-end generation.\n",
            "Setting `pad_token_id` to `eos_token_id`:50256 for open-end generation.\n",
            "Setting `pad_token_id` to `eos_token_id`:50256 for open-end generation.\n",
            "Setting `pad_token_id` to `eos_token_id`:50256 for open-end generation.\n",
            "Setting `pad_token_id` to `eos_token_id`:50256 for open-end generation.\n",
            "Setting `pad_token_id` to `eos_token_id`:50256 for open-end generation.\n",
            "Setting `pad_token_id` to `eos_token_id`:50256 for open-end generation.\n",
            "Setting `pad_token_id` to `eos_token_id`:50256 for open-end generation.\n",
            "Setting `pad_token_id` to `eos_token_id`:50256 for open-end generation.\n",
            "Setting `pad_token_id` to `eos_token_id`:50256 for open-end generation.\n",
            "Setting `pad_token_id` to `eos_token_id`:50256 for open-end generation.\n",
            "Setting `pad_token_id` to `eos_token_id`:50256 for open-end generation.\n",
            "Setting `pad_token_id` to `eos_token_id`:50256 for open-end generation.\n",
            "Setting `pad_token_id` to `eos_token_id`:50256 for open-end generation.\n",
            "Setting `pad_token_id` to `eos_token_id`:50256 for open-end generation.\n",
            "Setting `pad_token_id` to `eos_token_id`:50256 for open-end generation.\n",
            "Setting `pad_token_id` to `eos_token_id`:50256 for open-end generation.\n",
            "Setting `pad_token_id` to `eos_token_id`:50256 for open-end generation.\n",
            "Setting `pad_token_id` to `eos_token_id`:50256 for open-end generation.\n",
            "Setting `pad_token_id` to `eos_token_id`:50256 for open-end generation.\n",
            "Setting `pad_token_id` to `eos_token_id`:50256 for open-end generation.\n",
            "Setting `pad_token_id` to `eos_token_id`:50256 for open-end generation.\n",
            "Setting `pad_token_id` to `eos_token_id`:50256 for open-end generation.\n",
            "Setting `pad_token_id` to `eos_token_id`:50256 for open-end generation.\n",
            "Setting `pad_token_id` to `eos_token_id`:50256 for open-end generation.\n",
            "Setting `pad_token_id` to `eos_token_id`:50256 for open-end generation.\n",
            "Setting `pad_token_id` to `eos_token_id`:50256 for open-end generation.\n",
            "Setting `pad_token_id` to `eos_token_id`:50256 for open-end generation.\n",
            "Setting `pad_token_id` to `eos_token_id`:50256 for open-end generation.\n",
            "Setting `pad_token_id` to `eos_token_id`:50256 for open-end generation.\n",
            "Setting `pad_token_id` to `eos_token_id`:50256 for open-end generation.\n",
            "Setting `pad_token_id` to `eos_token_id`:50256 for open-end generation.\n",
            "Setting `pad_token_id` to `eos_token_id`:50256 for open-end generation.\n",
            "Setting `pad_token_id` to `eos_token_id`:50256 for open-end generation.\n",
            "Setting `pad_token_id` to `eos_token_id`:50256 for open-end generation.\n",
            "Setting `pad_token_id` to `eos_token_id`:50256 for open-end generation.\n",
            "Setting `pad_token_id` to `eos_token_id`:50256 for open-end generation.\n",
            "Setting `pad_token_id` to `eos_token_id`:50256 for open-end generation.\n",
            "Setting `pad_token_id` to `eos_token_id`:50256 for open-end generation.\n",
            "Setting `pad_token_id` to `eos_token_id`:50256 for open-end generation.\n",
            "Setting `pad_token_id` to `eos_token_id`:50256 for open-end generation.\n",
            "Setting `pad_token_id` to `eos_token_id`:50256 for open-end generation.\n",
            "Setting `pad_token_id` to `eos_token_id`:50256 for open-end generation.\n",
            "Setting `pad_token_id` to `eos_token_id`:50256 for open-end generation.\n",
            "Setting `pad_token_id` to `eos_token_id`:50256 for open-end generation.\n",
            "Setting `pad_token_id` to `eos_token_id`:50256 for open-end generation.\n",
            "Setting `pad_token_id` to `eos_token_id`:50256 for open-end generation.\n",
            "Setting `pad_token_id` to `eos_token_id`:50256 for open-end generation.\n",
            "Setting `pad_token_id` to `eos_token_id`:50256 for open-end generation.\n",
            "Setting `pad_token_id` to `eos_token_id`:50256 for open-end generation.\n",
            "Setting `pad_token_id` to `eos_token_id`:50256 for open-end generation.\n",
            "Setting `pad_token_id` to `eos_token_id`:50256 for open-end generation.\n",
            "Setting `pad_token_id` to `eos_token_id`:50256 for open-end generation.\n",
            "Setting `pad_token_id` to `eos_token_id`:50256 for open-end generation.\n",
            "Setting `pad_token_id` to `eos_token_id`:50256 for open-end generation.\n",
            "Setting `pad_token_id` to `eos_token_id`:50256 for open-end generation.\n",
            "Setting `pad_token_id` to `eos_token_id`:50256 for open-end generation.\n",
            "Setting `pad_token_id` to `eos_token_id`:50256 for open-end generation.\n",
            "Setting `pad_token_id` to `eos_token_id`:50256 for open-end generation.\n",
            "Setting `pad_token_id` to `eos_token_id`:50256 for open-end generation.\n",
            "Setting `pad_token_id` to `eos_token_id`:50256 for open-end generation.\n",
            "Setting `pad_token_id` to `eos_token_id`:50256 for open-end generation.\n",
            "Setting `pad_token_id` to `eos_token_id`:50256 for open-end generation.\n",
            "Setting `pad_token_id` to `eos_token_id`:50256 for open-end generation.\n",
            "Setting `pad_token_id` to `eos_token_id`:50256 for open-end generation.\n",
            "Setting `pad_token_id` to `eos_token_id`:50256 for open-end generation.\n",
            "Setting `pad_token_id` to `eos_token_id`:50256 for open-end generation.\n",
            "Setting `pad_token_id` to `eos_token_id`:50256 for open-end generation.\n",
            "Setting `pad_token_id` to `eos_token_id`:50256 for open-end generation.\n",
            "Setting `pad_token_id` to `eos_token_id`:50256 for open-end generation.\n",
            "Setting `pad_token_id` to `eos_token_id`:50256 for open-end generation.\n",
            "Setting `pad_token_id` to `eos_token_id`:50256 for open-end generation.\n",
            "Setting `pad_token_id` to `eos_token_id`:50256 for open-end generation.\n"
          ]
        }
      ]
    },
    {
      "cell_type": "markdown",
      "source": [
        "### Load the fine-tuned model"
      ],
      "metadata": {
        "id": "q_7cH0TLGXwO"
      },
      "id": "q_7cH0TLGXwO"
    },
    {
      "cell_type": "code",
      "source": [
        "# Loading from the checkpoint with best validation accuracy\n",
        "#flag = 1\n",
        "#model_directory = '/content/drive/MyDrive/Portfolio Project- DSR29/results_try2_flag'+str(flag)+'_3epochs/checkpoint-1800'\n",
        "#model_finetuned = GPT2LMHeadModel.from_pretrained(model_directory, return_dict=False).cuda()\n",
        "#torch.save(model_finetuned, '/content/drive/MyDrive/Portfolio Project- DSR29/models/model_GPT2_medium_finetuned_webMD_1800steps'+'.pt')"
      ],
      "metadata": {
        "id": "2zWLvQm71WtH"
      },
      "id": "2zWLvQm71WtH",
      "execution_count": null,
      "outputs": []
    },
    {
      "cell_type": "code",
      "source": [
        "model_finetuned = torch.load('/content/drive/MyDrive/Portfolio Project- DSR29/models/model_GPT2_medium_finetuned_webMD_1800steps'+'.pt')"
      ],
      "metadata": {
        "id": "9kswIUudB4c_"
      },
      "id": "9kswIUudB4c_",
      "execution_count": null,
      "outputs": []
    },
    {
      "cell_type": "code",
      "source": [
        "# Load the GPT2 Tokeizer\n",
        "tokenizer_finetuned = GPT2Tokenizer.from_pretrained('gpt2-medium', bos_token='<|startoftext|>',\n",
        "                                          eos_token='<|endoftext|>', pad_token='<|pad|>')\n",
        "#model_finetuned.resize_token_embeddings(len(tokenizer_finetuned))"
      ],
      "metadata": {
        "colab": {
          "base_uri": "https://localhost:8080/"
        },
        "id": "BbvIrl2aoCc7",
        "outputId": "841048bf-71e4-44c2-fbb3-2e030bc5d970"
      },
      "id": "BbvIrl2aoCc7",
      "execution_count": null,
      "outputs": [
        {
          "output_type": "stream",
          "name": "stderr",
          "text": [
            "Special tokens have been added in the vocabulary, make sure the associated word embeddings are fine-tuned or trained.\n"
          ]
        }
      ]
    },
    {
      "cell_type": "code",
      "source": [
        "# Generate answers\n",
        "max_gen_length = 256\n",
        "min_gen_length = 60\n",
        "num_beams = 5\n",
        "no_repeat_ngram_size = 3\n",
        "col_name = f'GPT2med1800steps_webMD_nbeam{num_beams}_ngram{no_repeat_ngram_size}_len{min_gen_length}_{max_gen_length}'\n",
        "answer = generate_ans(question_list=qa_90.loc[:,'question'], model=model_finetuned, tokenizer=tokenizer_finetuned, finetuned=True,\n",
        "                      min_length=min_gen_length, max_length=max_gen_length, num_beams=num_beams, no_repeat_ngram_size=no_repeat_ngram_size)\n",
        "qa_90.loc[:,col_name] = answer"
      ],
      "metadata": {
        "id": "Xd1-bpzgPS9v",
        "colab": {
          "base_uri": "https://localhost:8080/"
        },
        "outputId": "918c5103-d21a-4981-bb60-6b194bad7793"
      },
      "id": "Xd1-bpzgPS9v",
      "execution_count": null,
      "outputs": [
        {
          "output_type": "stream",
          "name": "stderr",
          "text": [
            "Setting `pad_token_id` to `eos_token_id`:50256 for open-end generation.\n",
            "Setting `pad_token_id` to `eos_token_id`:50256 for open-end generation.\n",
            "Setting `pad_token_id` to `eos_token_id`:50256 for open-end generation.\n",
            "Setting `pad_token_id` to `eos_token_id`:50256 for open-end generation.\n",
            "Setting `pad_token_id` to `eos_token_id`:50256 for open-end generation.\n",
            "Setting `pad_token_id` to `eos_token_id`:50256 for open-end generation.\n",
            "Setting `pad_token_id` to `eos_token_id`:50256 for open-end generation.\n",
            "Setting `pad_token_id` to `eos_token_id`:50256 for open-end generation.\n",
            "Setting `pad_token_id` to `eos_token_id`:50256 for open-end generation.\n",
            "Setting `pad_token_id` to `eos_token_id`:50256 for open-end generation.\n",
            "Setting `pad_token_id` to `eos_token_id`:50256 for open-end generation.\n",
            "Setting `pad_token_id` to `eos_token_id`:50256 for open-end generation.\n",
            "Setting `pad_token_id` to `eos_token_id`:50256 for open-end generation.\n",
            "Setting `pad_token_id` to `eos_token_id`:50256 for open-end generation.\n",
            "Setting `pad_token_id` to `eos_token_id`:50256 for open-end generation.\n",
            "Setting `pad_token_id` to `eos_token_id`:50256 for open-end generation.\n",
            "Setting `pad_token_id` to `eos_token_id`:50256 for open-end generation.\n",
            "Setting `pad_token_id` to `eos_token_id`:50256 for open-end generation.\n",
            "Setting `pad_token_id` to `eos_token_id`:50256 for open-end generation.\n",
            "Setting `pad_token_id` to `eos_token_id`:50256 for open-end generation.\n",
            "Setting `pad_token_id` to `eos_token_id`:50256 for open-end generation.\n",
            "Setting `pad_token_id` to `eos_token_id`:50256 for open-end generation.\n",
            "Setting `pad_token_id` to `eos_token_id`:50256 for open-end generation.\n",
            "Setting `pad_token_id` to `eos_token_id`:50256 for open-end generation.\n",
            "Setting `pad_token_id` to `eos_token_id`:50256 for open-end generation.\n",
            "Setting `pad_token_id` to `eos_token_id`:50256 for open-end generation.\n",
            "Setting `pad_token_id` to `eos_token_id`:50256 for open-end generation.\n",
            "Setting `pad_token_id` to `eos_token_id`:50256 for open-end generation.\n",
            "Setting `pad_token_id` to `eos_token_id`:50256 for open-end generation.\n",
            "Setting `pad_token_id` to `eos_token_id`:50256 for open-end generation.\n",
            "Setting `pad_token_id` to `eos_token_id`:50256 for open-end generation.\n",
            "Setting `pad_token_id` to `eos_token_id`:50256 for open-end generation.\n",
            "Setting `pad_token_id` to `eos_token_id`:50256 for open-end generation.\n",
            "Setting `pad_token_id` to `eos_token_id`:50256 for open-end generation.\n",
            "Setting `pad_token_id` to `eos_token_id`:50256 for open-end generation.\n",
            "Setting `pad_token_id` to `eos_token_id`:50256 for open-end generation.\n",
            "Setting `pad_token_id` to `eos_token_id`:50256 for open-end generation.\n",
            "Setting `pad_token_id` to `eos_token_id`:50256 for open-end generation.\n",
            "Setting `pad_token_id` to `eos_token_id`:50256 for open-end generation.\n",
            "Setting `pad_token_id` to `eos_token_id`:50256 for open-end generation.\n",
            "Setting `pad_token_id` to `eos_token_id`:50256 for open-end generation.\n",
            "Setting `pad_token_id` to `eos_token_id`:50256 for open-end generation.\n",
            "Setting `pad_token_id` to `eos_token_id`:50256 for open-end generation.\n",
            "Setting `pad_token_id` to `eos_token_id`:50256 for open-end generation.\n",
            "Setting `pad_token_id` to `eos_token_id`:50256 for open-end generation.\n",
            "Setting `pad_token_id` to `eos_token_id`:50256 for open-end generation.\n",
            "Setting `pad_token_id` to `eos_token_id`:50256 for open-end generation.\n",
            "Setting `pad_token_id` to `eos_token_id`:50256 for open-end generation.\n",
            "Setting `pad_token_id` to `eos_token_id`:50256 for open-end generation.\n",
            "Setting `pad_token_id` to `eos_token_id`:50256 for open-end generation.\n",
            "Setting `pad_token_id` to `eos_token_id`:50256 for open-end generation.\n",
            "Setting `pad_token_id` to `eos_token_id`:50256 for open-end generation.\n",
            "Setting `pad_token_id` to `eos_token_id`:50256 for open-end generation.\n",
            "Setting `pad_token_id` to `eos_token_id`:50256 for open-end generation.\n",
            "Setting `pad_token_id` to `eos_token_id`:50256 for open-end generation.\n",
            "Setting `pad_token_id` to `eos_token_id`:50256 for open-end generation.\n",
            "Setting `pad_token_id` to `eos_token_id`:50256 for open-end generation.\n",
            "Setting `pad_token_id` to `eos_token_id`:50256 for open-end generation.\n",
            "Setting `pad_token_id` to `eos_token_id`:50256 for open-end generation.\n",
            "Setting `pad_token_id` to `eos_token_id`:50256 for open-end generation.\n",
            "Setting `pad_token_id` to `eos_token_id`:50256 for open-end generation.\n",
            "Setting `pad_token_id` to `eos_token_id`:50256 for open-end generation.\n",
            "Setting `pad_token_id` to `eos_token_id`:50256 for open-end generation.\n",
            "Setting `pad_token_id` to `eos_token_id`:50256 for open-end generation.\n",
            "Setting `pad_token_id` to `eos_token_id`:50256 for open-end generation.\n",
            "Setting `pad_token_id` to `eos_token_id`:50256 for open-end generation.\n",
            "Setting `pad_token_id` to `eos_token_id`:50256 for open-end generation.\n",
            "Setting `pad_token_id` to `eos_token_id`:50256 for open-end generation.\n",
            "Setting `pad_token_id` to `eos_token_id`:50256 for open-end generation.\n",
            "Setting `pad_token_id` to `eos_token_id`:50256 for open-end generation.\n",
            "Setting `pad_token_id` to `eos_token_id`:50256 for open-end generation.\n",
            "Setting `pad_token_id` to `eos_token_id`:50256 for open-end generation.\n",
            "Setting `pad_token_id` to `eos_token_id`:50256 for open-end generation.\n",
            "Setting `pad_token_id` to `eos_token_id`:50256 for open-end generation.\n",
            "Setting `pad_token_id` to `eos_token_id`:50256 for open-end generation.\n",
            "Setting `pad_token_id` to `eos_token_id`:50256 for open-end generation.\n",
            "Setting `pad_token_id` to `eos_token_id`:50256 for open-end generation.\n",
            "Setting `pad_token_id` to `eos_token_id`:50256 for open-end generation.\n",
            "Setting `pad_token_id` to `eos_token_id`:50256 for open-end generation.\n",
            "Setting `pad_token_id` to `eos_token_id`:50256 for open-end generation.\n",
            "Setting `pad_token_id` to `eos_token_id`:50256 for open-end generation.\n",
            "Setting `pad_token_id` to `eos_token_id`:50256 for open-end generation.\n",
            "Setting `pad_token_id` to `eos_token_id`:50256 for open-end generation.\n",
            "Setting `pad_token_id` to `eos_token_id`:50256 for open-end generation.\n",
            "Setting `pad_token_id` to `eos_token_id`:50256 for open-end generation.\n",
            "Setting `pad_token_id` to `eos_token_id`:50256 for open-end generation.\n",
            "Setting `pad_token_id` to `eos_token_id`:50256 for open-end generation.\n",
            "Setting `pad_token_id` to `eos_token_id`:50256 for open-end generation.\n",
            "Setting `pad_token_id` to `eos_token_id`:50256 for open-end generation.\n",
            "Setting `pad_token_id` to `eos_token_id`:50256 for open-end generation.\n"
          ]
        }
      ]
    },
    {
      "cell_type": "code",
      "source": [
        "qa_90"
      ],
      "metadata": {
        "colab": {
          "base_uri": "https://localhost:8080/",
          "height": 4539
        },
        "id": "HaXqX0HTWpfy",
        "outputId": "d41b2644-4aab-4a99-e73a-a9aed71b6d41"
      },
      "id": "HaXqX0HTWpfy",
      "execution_count": null,
      "outputs": [
        {
          "output_type": "execute_result",
          "data": {
            "text/plain": [
              "                                             question  \\\n",
              "0   I suffer from severe back pain. In which case ...   \n",
              "1                        What are hay fever symptoms?   \n",
              "2              Is it fine to exercise with knee pain?   \n",
              "3       When will my new tattoo be completely healed?   \n",
              "4        Who is affected by irritable bowel syndrome?   \n",
              "..                                                ...   \n",
              "85  Need advice on what is the the target heart ra...   \n",
              "86              When is low blood pressure dangerous?   \n",
              "87  What might you see in someone with narcissisti...   \n",
              "88  Do high blood pressure medications produce sid...   \n",
              "89  How to stop fearing that I am going to die fro...   \n",
              "\n",
              "                                               answer  \\\n",
              "0   Sorry to hear what you are going through. In c...   \n",
              "1   Thanks for asking. People who have allergic rh...   \n",
              "2   I am glad to help you out. You should rest and...   \n",
              "3   That's a good question. In general, it can be ...   \n",
              "4   I will gladly answer that. Irritable bowel syn...   \n",
              "..                                                ...   \n",
              "85  I am happy to give you advice. Your maximal he...   \n",
              "86  Blood pressure varies from person to person an...   \n",
              "87  The question is not so easy to answer. Sound l...   \n",
              "88  Any medication can cause side effects, and hig...   \n",
              "89  OK. Have you discussed your prognosis with you...   \n",
              "\n",
              "                  gpt2-medium_nbeam5_ngram3_len60_256  \\\n",
              "0   \\nNo, you do not need to go to a doctor right ...   \n",
              "1   \\nHay fever symptoms include:\\n\\nFever\\n\\nHead...   \n",
              "2   \\nIf you have knee pain, you may want to consu...   \n",
              "3   \\nYour new tattoo will be fully healed by the ...   \n",
              "4   \\nSymptoms include:\\n\\nDiarrhea\\n\\nConstipatio...   \n",
              "..                                                ...   \n",
              "85  \\nIf you want to lose weight, you need to burn...   \n",
              "86  \\nLow blood pressure (BP) is one of the most c...   \n",
              "87                                                      \n",
              "88  \\nYes. High blood pressure medication can incr...   \n",
              "89   more\\n\\n\"I'm not going to lie to you,\" she sa...   \n",
              "\n",
              "       GPT2med1800steps_webMD_nbeam5_ngram3_len60_256  \n",
              "0    Severe back pain that doesn’t get better with...  \n",
              "1    Hay fever symptoms include:Fever (usually hig...  \n",
              "2    It’s fine to work out if you’re knee-bound an...  \n",
              "3    When your new tattoo is completely healed, yo...  \n",
              "4    Anyone can get IBS with constipation (IBS-C),...  \n",
              "..                                                ...  \n",
              "85   The goal of exercise is to burn more calories...  \n",
              "86   Low blood pressure is dangerous because it ca...  \n",
              "87   Someone with this disorder might: Think they ...  \n",
              "88   High blood pressure meds can sometimes cause ...  \n",
              "89   Stop worrying. There is no way to know for su...  \n",
              "\n",
              "[90 rows x 4 columns]"
            ],
            "text/html": [
              "\n",
              "  <div id=\"df-ab4c244a-0b42-4337-a60a-8b5cb7e9a75e\">\n",
              "    <div class=\"colab-df-container\">\n",
              "      <div>\n",
              "<style scoped>\n",
              "    .dataframe tbody tr th:only-of-type {\n",
              "        vertical-align: middle;\n",
              "    }\n",
              "\n",
              "    .dataframe tbody tr th {\n",
              "        vertical-align: top;\n",
              "    }\n",
              "\n",
              "    .dataframe thead th {\n",
              "        text-align: right;\n",
              "    }\n",
              "</style>\n",
              "<table border=\"1\" class=\"dataframe\">\n",
              "  <thead>\n",
              "    <tr style=\"text-align: right;\">\n",
              "      <th></th>\n",
              "      <th>question</th>\n",
              "      <th>answer</th>\n",
              "      <th>gpt2-medium_nbeam5_ngram3_len60_256</th>\n",
              "      <th>GPT2med1800steps_webMD_nbeam5_ngram3_len60_256</th>\n",
              "    </tr>\n",
              "  </thead>\n",
              "  <tbody>\n",
              "    <tr>\n",
              "      <th>0</th>\n",
              "      <td>I suffer from severe back pain. In which case ...</td>\n",
              "      <td>Sorry to hear what you are going through. In c...</td>\n",
              "      <td>\\nNo, you do not need to go to a doctor right ...</td>\n",
              "      <td>Severe back pain that doesn’t get better with...</td>\n",
              "    </tr>\n",
              "    <tr>\n",
              "      <th>1</th>\n",
              "      <td>What are hay fever symptoms?</td>\n",
              "      <td>Thanks for asking. People who have allergic rh...</td>\n",
              "      <td>\\nHay fever symptoms include:\\n\\nFever\\n\\nHead...</td>\n",
              "      <td>Hay fever symptoms include:Fever (usually hig...</td>\n",
              "    </tr>\n",
              "    <tr>\n",
              "      <th>2</th>\n",
              "      <td>Is it fine to exercise with knee pain?</td>\n",
              "      <td>I am glad to help you out. You should rest and...</td>\n",
              "      <td>\\nIf you have knee pain, you may want to consu...</td>\n",
              "      <td>It’s fine to work out if you’re knee-bound an...</td>\n",
              "    </tr>\n",
              "    <tr>\n",
              "      <th>3</th>\n",
              "      <td>When will my new tattoo be completely healed?</td>\n",
              "      <td>That's a good question. In general, it can be ...</td>\n",
              "      <td>\\nYour new tattoo will be fully healed by the ...</td>\n",
              "      <td>When your new tattoo is completely healed, yo...</td>\n",
              "    </tr>\n",
              "    <tr>\n",
              "      <th>4</th>\n",
              "      <td>Who is affected by irritable bowel syndrome?</td>\n",
              "      <td>I will gladly answer that. Irritable bowel syn...</td>\n",
              "      <td>\\nSymptoms include:\\n\\nDiarrhea\\n\\nConstipatio...</td>\n",
              "      <td>Anyone can get IBS with constipation (IBS-C),...</td>\n",
              "    </tr>\n",
              "    <tr>\n",
              "      <th>...</th>\n",
              "      <td>...</td>\n",
              "      <td>...</td>\n",
              "      <td>...</td>\n",
              "      <td>...</td>\n",
              "    </tr>\n",
              "    <tr>\n",
              "      <th>85</th>\n",
              "      <td>Need advice on what is the the target heart ra...</td>\n",
              "      <td>I am happy to give you advice. Your maximal he...</td>\n",
              "      <td>\\nIf you want to lose weight, you need to burn...</td>\n",
              "      <td>The goal of exercise is to burn more calories...</td>\n",
              "    </tr>\n",
              "    <tr>\n",
              "      <th>86</th>\n",
              "      <td>When is low blood pressure dangerous?</td>\n",
              "      <td>Blood pressure varies from person to person an...</td>\n",
              "      <td>\\nLow blood pressure (BP) is one of the most c...</td>\n",
              "      <td>Low blood pressure is dangerous because it ca...</td>\n",
              "    </tr>\n",
              "    <tr>\n",
              "      <th>87</th>\n",
              "      <td>What might you see in someone with narcissisti...</td>\n",
              "      <td>The question is not so easy to answer. Sound l...</td>\n",
              "      <td></td>\n",
              "      <td>Someone with this disorder might: Think they ...</td>\n",
              "    </tr>\n",
              "    <tr>\n",
              "      <th>88</th>\n",
              "      <td>Do high blood pressure medications produce sid...</td>\n",
              "      <td>Any medication can cause side effects, and hig...</td>\n",
              "      <td>\\nYes. High blood pressure medication can incr...</td>\n",
              "      <td>High blood pressure meds can sometimes cause ...</td>\n",
              "    </tr>\n",
              "    <tr>\n",
              "      <th>89</th>\n",
              "      <td>How to stop fearing that I am going to die fro...</td>\n",
              "      <td>OK. Have you discussed your prognosis with you...</td>\n",
              "      <td>more\\n\\n\"I'm not going to lie to you,\" she sa...</td>\n",
              "      <td>Stop worrying. There is no way to know for su...</td>\n",
              "    </tr>\n",
              "  </tbody>\n",
              "</table>\n",
              "<p>90 rows × 4 columns</p>\n",
              "</div>\n",
              "      <button class=\"colab-df-convert\" onclick=\"convertToInteractive('df-ab4c244a-0b42-4337-a60a-8b5cb7e9a75e')\"\n",
              "              title=\"Convert this dataframe to an interactive table.\"\n",
              "              style=\"display:none;\">\n",
              "        \n",
              "  <svg xmlns=\"http://www.w3.org/2000/svg\" height=\"24px\"viewBox=\"0 0 24 24\"\n",
              "       width=\"24px\">\n",
              "    <path d=\"M0 0h24v24H0V0z\" fill=\"none\"/>\n",
              "    <path d=\"M18.56 5.44l.94 2.06.94-2.06 2.06-.94-2.06-.94-.94-2.06-.94 2.06-2.06.94zm-11 1L8.5 8.5l.94-2.06 2.06-.94-2.06-.94L8.5 2.5l-.94 2.06-2.06.94zm10 10l.94 2.06.94-2.06 2.06-.94-2.06-.94-.94-2.06-.94 2.06-2.06.94z\"/><path d=\"M17.41 7.96l-1.37-1.37c-.4-.4-.92-.59-1.43-.59-.52 0-1.04.2-1.43.59L10.3 9.45l-7.72 7.72c-.78.78-.78 2.05 0 2.83L4 21.41c.39.39.9.59 1.41.59.51 0 1.02-.2 1.41-.59l7.78-7.78 2.81-2.81c.8-.78.8-2.07 0-2.86zM5.41 20L4 18.59l7.72-7.72 1.47 1.35L5.41 20z\"/>\n",
              "  </svg>\n",
              "      </button>\n",
              "      \n",
              "  <style>\n",
              "    .colab-df-container {\n",
              "      display:flex;\n",
              "      flex-wrap:wrap;\n",
              "      gap: 12px;\n",
              "    }\n",
              "\n",
              "    .colab-df-convert {\n",
              "      background-color: #E8F0FE;\n",
              "      border: none;\n",
              "      border-radius: 50%;\n",
              "      cursor: pointer;\n",
              "      display: none;\n",
              "      fill: #1967D2;\n",
              "      height: 32px;\n",
              "      padding: 0 0 0 0;\n",
              "      width: 32px;\n",
              "    }\n",
              "\n",
              "    .colab-df-convert:hover {\n",
              "      background-color: #E2EBFA;\n",
              "      box-shadow: 0px 1px 2px rgba(60, 64, 67, 0.3), 0px 1px 3px 1px rgba(60, 64, 67, 0.15);\n",
              "      fill: #174EA6;\n",
              "    }\n",
              "\n",
              "    [theme=dark] .colab-df-convert {\n",
              "      background-color: #3B4455;\n",
              "      fill: #D2E3FC;\n",
              "    }\n",
              "\n",
              "    [theme=dark] .colab-df-convert:hover {\n",
              "      background-color: #434B5C;\n",
              "      box-shadow: 0px 1px 3px 1px rgba(0, 0, 0, 0.15);\n",
              "      filter: drop-shadow(0px 1px 2px rgba(0, 0, 0, 0.3));\n",
              "      fill: #FFFFFF;\n",
              "    }\n",
              "  </style>\n",
              "\n",
              "      <script>\n",
              "        const buttonEl =\n",
              "          document.querySelector('#df-ab4c244a-0b42-4337-a60a-8b5cb7e9a75e button.colab-df-convert');\n",
              "        buttonEl.style.display =\n",
              "          google.colab.kernel.accessAllowed ? 'block' : 'none';\n",
              "\n",
              "        async function convertToInteractive(key) {\n",
              "          const element = document.querySelector('#df-ab4c244a-0b42-4337-a60a-8b5cb7e9a75e');\n",
              "          const dataTable =\n",
              "            await google.colab.kernel.invokeFunction('convertToInteractive',\n",
              "                                                     [key], {});\n",
              "          if (!dataTable) return;\n",
              "\n",
              "          const docLinkHtml = 'Like what you see? Visit the ' +\n",
              "            '<a target=\"_blank\" href=https://colab.research.google.com/notebooks/data_table.ipynb>data table notebook</a>'\n",
              "            + ' to learn more about interactive tables.';\n",
              "          element.innerHTML = '';\n",
              "          dataTable['output_type'] = 'display_data';\n",
              "          await google.colab.output.renderOutput(dataTable, element);\n",
              "          const docLink = document.createElement('div');\n",
              "          docLink.innerHTML = docLinkHtml;\n",
              "          element.appendChild(docLink);\n",
              "        }\n",
              "      </script>\n",
              "    </div>\n",
              "  </div>\n",
              "  "
            ]
          },
          "metadata": {},
          "execution_count": 44
        }
      ]
    },
    {
      "cell_type": "code",
      "source": [
        "qa_90.to_csv('/content/drive/MyDrive/Portfolio Project- DSR29/90_qas_GPT2.csv')"
      ],
      "metadata": {
        "id": "CqUpRzhG1aIC"
      },
      "id": "CqUpRzhG1aIC",
      "execution_count": null,
      "outputs": []
    },
    {
      "cell_type": "markdown",
      "source": [
        "Finetuning on webMD made the model answer shorter. Setting the max_length a higher value does not change this behaviour.\n",
        "a side note: the pretrained GPT2 is the xl. the fine.tuned is on medium because fine-tuning the larger models on colab was not possible."
      ],
      "metadata": {
        "id": "nt08eRj15hQU"
      },
      "id": "nt08eRj15hQU"
    }
  ],
  "metadata": {
    "kernelspec": {
      "display_name": "Python 3",
      "language": "python",
      "name": "python3"
    },
    "language_info": {
      "codemirror_mode": {
        "name": "ipython",
        "version": 3
      },
      "file_extension": ".py",
      "mimetype": "text/x-python",
      "name": "python",
      "nbconvert_exporter": "python",
      "pygments_lexer": "ipython3",
      "version": "3.7.9"
    },
    "papermill": {
      "default_parameters": {},
      "duration": 1452.04072,
      "end_time": "2022-03-02T09:35:20.563002",
      "environment_variables": {},
      "exception": null,
      "input_path": "__notebook__.ipynb",
      "output_path": "__notebook__.ipynb",
      "parameters": {},
      "start_time": "2022-03-02T09:11:08.522282",
      "version": "2.3.2"
    },
    "widgets": {
      "application/vnd.jupyter.widget-state+json": {
        "c3566ee723304dc596055088f5076166": {
          "model_module": "@jupyter-widgets/controls",
          "model_name": "VBoxModel",
          "model_module_version": "1.5.0",
          "state": {
            "_dom_classes": [],
            "_model_module": "@jupyter-widgets/controls",
            "_model_module_version": "1.5.0",
            "_model_name": "VBoxModel",
            "_view_count": null,
            "_view_module": "@jupyter-widgets/controls",
            "_view_module_version": "1.5.0",
            "_view_name": "VBoxView",
            "box_style": "",
            "children": [
              "IPY_MODEL_f215e945a46e4e2caa6c011a93fdc0b1",
              "IPY_MODEL_362a5ca4d96848a48f735b1b68c01607"
            ],
            "layout": "IPY_MODEL_ab51e322bb8f48c6afe3ec04fa4e08a3"
          }
        },
        "f215e945a46e4e2caa6c011a93fdc0b1": {
          "model_module": "@jupyter-widgets/controls",
          "model_name": "LabelModel",
          "model_module_version": "1.5.0",
          "state": {
            "_dom_classes": [],
            "_model_module": "@jupyter-widgets/controls",
            "_model_module_version": "1.5.0",
            "_model_name": "LabelModel",
            "_view_count": null,
            "_view_module": "@jupyter-widgets/controls",
            "_view_module_version": "1.5.0",
            "_view_name": "LabelView",
            "description": "",
            "description_tooltip": null,
            "layout": "IPY_MODEL_58b0f03b57854bde87d8af328d4062d1",
            "placeholder": "​",
            "style": "IPY_MODEL_33ed1d1838d64a8a8053bd2aff573f97",
            "value": "0.589 MB of 0.589 MB uploaded (0.000 MB deduped)\r"
          }
        },
        "362a5ca4d96848a48f735b1b68c01607": {
          "model_module": "@jupyter-widgets/controls",
          "model_name": "FloatProgressModel",
          "model_module_version": "1.5.0",
          "state": {
            "_dom_classes": [],
            "_model_module": "@jupyter-widgets/controls",
            "_model_module_version": "1.5.0",
            "_model_name": "FloatProgressModel",
            "_view_count": null,
            "_view_module": "@jupyter-widgets/controls",
            "_view_module_version": "1.5.0",
            "_view_name": "ProgressView",
            "bar_style": "",
            "description": "",
            "description_tooltip": null,
            "layout": "IPY_MODEL_d9301463ce254970a69fc6acdc54b555",
            "max": 1,
            "min": 0,
            "orientation": "horizontal",
            "style": "IPY_MODEL_07e6036ece564df5a584448fcbd528c4",
            "value": 1
          }
        },
        "ab51e322bb8f48c6afe3ec04fa4e08a3": {
          "model_module": "@jupyter-widgets/base",
          "model_name": "LayoutModel",
          "model_module_version": "1.2.0",
          "state": {
            "_model_module": "@jupyter-widgets/base",
            "_model_module_version": "1.2.0",
            "_model_name": "LayoutModel",
            "_view_count": null,
            "_view_module": "@jupyter-widgets/base",
            "_view_module_version": "1.2.0",
            "_view_name": "LayoutView",
            "align_content": null,
            "align_items": null,
            "align_self": null,
            "border": null,
            "bottom": null,
            "display": null,
            "flex": null,
            "flex_flow": null,
            "grid_area": null,
            "grid_auto_columns": null,
            "grid_auto_flow": null,
            "grid_auto_rows": null,
            "grid_column": null,
            "grid_gap": null,
            "grid_row": null,
            "grid_template_areas": null,
            "grid_template_columns": null,
            "grid_template_rows": null,
            "height": null,
            "justify_content": null,
            "justify_items": null,
            "left": null,
            "margin": null,
            "max_height": null,
            "max_width": null,
            "min_height": null,
            "min_width": null,
            "object_fit": null,
            "object_position": null,
            "order": null,
            "overflow": null,
            "overflow_x": null,
            "overflow_y": null,
            "padding": null,
            "right": null,
            "top": null,
            "visibility": null,
            "width": null
          }
        },
        "58b0f03b57854bde87d8af328d4062d1": {
          "model_module": "@jupyter-widgets/base",
          "model_name": "LayoutModel",
          "model_module_version": "1.2.0",
          "state": {
            "_model_module": "@jupyter-widgets/base",
            "_model_module_version": "1.2.0",
            "_model_name": "LayoutModel",
            "_view_count": null,
            "_view_module": "@jupyter-widgets/base",
            "_view_module_version": "1.2.0",
            "_view_name": "LayoutView",
            "align_content": null,
            "align_items": null,
            "align_self": null,
            "border": null,
            "bottom": null,
            "display": null,
            "flex": null,
            "flex_flow": null,
            "grid_area": null,
            "grid_auto_columns": null,
            "grid_auto_flow": null,
            "grid_auto_rows": null,
            "grid_column": null,
            "grid_gap": null,
            "grid_row": null,
            "grid_template_areas": null,
            "grid_template_columns": null,
            "grid_template_rows": null,
            "height": null,
            "justify_content": null,
            "justify_items": null,
            "left": null,
            "margin": null,
            "max_height": null,
            "max_width": null,
            "min_height": null,
            "min_width": null,
            "object_fit": null,
            "object_position": null,
            "order": null,
            "overflow": null,
            "overflow_x": null,
            "overflow_y": null,
            "padding": null,
            "right": null,
            "top": null,
            "visibility": null,
            "width": null
          }
        },
        "33ed1d1838d64a8a8053bd2aff573f97": {
          "model_module": "@jupyter-widgets/controls",
          "model_name": "DescriptionStyleModel",
          "model_module_version": "1.5.0",
          "state": {
            "_model_module": "@jupyter-widgets/controls",
            "_model_module_version": "1.5.0",
            "_model_name": "DescriptionStyleModel",
            "_view_count": null,
            "_view_module": "@jupyter-widgets/base",
            "_view_module_version": "1.2.0",
            "_view_name": "StyleView",
            "description_width": ""
          }
        },
        "d9301463ce254970a69fc6acdc54b555": {
          "model_module": "@jupyter-widgets/base",
          "model_name": "LayoutModel",
          "model_module_version": "1.2.0",
          "state": {
            "_model_module": "@jupyter-widgets/base",
            "_model_module_version": "1.2.0",
            "_model_name": "LayoutModel",
            "_view_count": null,
            "_view_module": "@jupyter-widgets/base",
            "_view_module_version": "1.2.0",
            "_view_name": "LayoutView",
            "align_content": null,
            "align_items": null,
            "align_self": null,
            "border": null,
            "bottom": null,
            "display": null,
            "flex": null,
            "flex_flow": null,
            "grid_area": null,
            "grid_auto_columns": null,
            "grid_auto_flow": null,
            "grid_auto_rows": null,
            "grid_column": null,
            "grid_gap": null,
            "grid_row": null,
            "grid_template_areas": null,
            "grid_template_columns": null,
            "grid_template_rows": null,
            "height": null,
            "justify_content": null,
            "justify_items": null,
            "left": null,
            "margin": null,
            "max_height": null,
            "max_width": null,
            "min_height": null,
            "min_width": null,
            "object_fit": null,
            "object_position": null,
            "order": null,
            "overflow": null,
            "overflow_x": null,
            "overflow_y": null,
            "padding": null,
            "right": null,
            "top": null,
            "visibility": null,
            "width": null
          }
        },
        "07e6036ece564df5a584448fcbd528c4": {
          "model_module": "@jupyter-widgets/controls",
          "model_name": "ProgressStyleModel",
          "model_module_version": "1.5.0",
          "state": {
            "_model_module": "@jupyter-widgets/controls",
            "_model_module_version": "1.5.0",
            "_model_name": "ProgressStyleModel",
            "_view_count": null,
            "_view_module": "@jupyter-widgets/base",
            "_view_module_version": "1.2.0",
            "_view_name": "StyleView",
            "bar_color": null,
            "description_width": ""
          }
        },
        "c15ea7f7ac6e47278033bd1e68ecb596": {
          "model_module": "@jupyter-widgets/controls",
          "model_name": "HBoxModel",
          "model_module_version": "1.5.0",
          "state": {
            "_dom_classes": [],
            "_model_module": "@jupyter-widgets/controls",
            "_model_module_version": "1.5.0",
            "_model_name": "HBoxModel",
            "_view_count": null,
            "_view_module": "@jupyter-widgets/controls",
            "_view_module_version": "1.5.0",
            "_view_name": "HBoxView",
            "box_style": "",
            "children": [
              "IPY_MODEL_f56e5cad641240dc86314dc9c42f1ba5",
              "IPY_MODEL_5d7fff6c4102425fbd032faf343e1a50",
              "IPY_MODEL_e00725692c9c42478d37e0685bc018bd"
            ],
            "layout": "IPY_MODEL_5552ef0904ea450bbbe4e221368dc411"
          }
        },
        "f56e5cad641240dc86314dc9c42f1ba5": {
          "model_module": "@jupyter-widgets/controls",
          "model_name": "HTMLModel",
          "model_module_version": "1.5.0",
          "state": {
            "_dom_classes": [],
            "_model_module": "@jupyter-widgets/controls",
            "_model_module_version": "1.5.0",
            "_model_name": "HTMLModel",
            "_view_count": null,
            "_view_module": "@jupyter-widgets/controls",
            "_view_module_version": "1.5.0",
            "_view_name": "HTMLView",
            "description": "",
            "description_tooltip": null,
            "layout": "IPY_MODEL_ba53fc8d8aa847e0b82251650c06821d",
            "placeholder": "​",
            "style": "IPY_MODEL_0e3c3b2487764bb88ffee8e017edc63a",
            "value": "Downloading: 100%"
          }
        },
        "5d7fff6c4102425fbd032faf343e1a50": {
          "model_module": "@jupyter-widgets/controls",
          "model_name": "FloatProgressModel",
          "model_module_version": "1.5.0",
          "state": {
            "_dom_classes": [],
            "_model_module": "@jupyter-widgets/controls",
            "_model_module_version": "1.5.0",
            "_model_name": "FloatProgressModel",
            "_view_count": null,
            "_view_module": "@jupyter-widgets/controls",
            "_view_module_version": "1.5.0",
            "_view_name": "ProgressView",
            "bar_style": "success",
            "description": "",
            "description_tooltip": null,
            "layout": "IPY_MODEL_efa2a9bc4bd84cd0b86310a45ef41612",
            "max": 1042301,
            "min": 0,
            "orientation": "horizontal",
            "style": "IPY_MODEL_9df1501763f44b2fb50cda81b3ba5025",
            "value": 1042301
          }
        },
        "e00725692c9c42478d37e0685bc018bd": {
          "model_module": "@jupyter-widgets/controls",
          "model_name": "HTMLModel",
          "model_module_version": "1.5.0",
          "state": {
            "_dom_classes": [],
            "_model_module": "@jupyter-widgets/controls",
            "_model_module_version": "1.5.0",
            "_model_name": "HTMLModel",
            "_view_count": null,
            "_view_module": "@jupyter-widgets/controls",
            "_view_module_version": "1.5.0",
            "_view_name": "HTMLView",
            "description": "",
            "description_tooltip": null,
            "layout": "IPY_MODEL_65229950d8f345aa8f89b50331c391f6",
            "placeholder": "​",
            "style": "IPY_MODEL_7ba18acb25bb4f5b82bdc8b12a32c598",
            "value": " 0.99M/0.99M [00:00&lt;00:00, 2.06MB/s]"
          }
        },
        "5552ef0904ea450bbbe4e221368dc411": {
          "model_module": "@jupyter-widgets/base",
          "model_name": "LayoutModel",
          "model_module_version": "1.2.0",
          "state": {
            "_model_module": "@jupyter-widgets/base",
            "_model_module_version": "1.2.0",
            "_model_name": "LayoutModel",
            "_view_count": null,
            "_view_module": "@jupyter-widgets/base",
            "_view_module_version": "1.2.0",
            "_view_name": "LayoutView",
            "align_content": null,
            "align_items": null,
            "align_self": null,
            "border": null,
            "bottom": null,
            "display": null,
            "flex": null,
            "flex_flow": null,
            "grid_area": null,
            "grid_auto_columns": null,
            "grid_auto_flow": null,
            "grid_auto_rows": null,
            "grid_column": null,
            "grid_gap": null,
            "grid_row": null,
            "grid_template_areas": null,
            "grid_template_columns": null,
            "grid_template_rows": null,
            "height": null,
            "justify_content": null,
            "justify_items": null,
            "left": null,
            "margin": null,
            "max_height": null,
            "max_width": null,
            "min_height": null,
            "min_width": null,
            "object_fit": null,
            "object_position": null,
            "order": null,
            "overflow": null,
            "overflow_x": null,
            "overflow_y": null,
            "padding": null,
            "right": null,
            "top": null,
            "visibility": null,
            "width": null
          }
        },
        "ba53fc8d8aa847e0b82251650c06821d": {
          "model_module": "@jupyter-widgets/base",
          "model_name": "LayoutModel",
          "model_module_version": "1.2.0",
          "state": {
            "_model_module": "@jupyter-widgets/base",
            "_model_module_version": "1.2.0",
            "_model_name": "LayoutModel",
            "_view_count": null,
            "_view_module": "@jupyter-widgets/base",
            "_view_module_version": "1.2.0",
            "_view_name": "LayoutView",
            "align_content": null,
            "align_items": null,
            "align_self": null,
            "border": null,
            "bottom": null,
            "display": null,
            "flex": null,
            "flex_flow": null,
            "grid_area": null,
            "grid_auto_columns": null,
            "grid_auto_flow": null,
            "grid_auto_rows": null,
            "grid_column": null,
            "grid_gap": null,
            "grid_row": null,
            "grid_template_areas": null,
            "grid_template_columns": null,
            "grid_template_rows": null,
            "height": null,
            "justify_content": null,
            "justify_items": null,
            "left": null,
            "margin": null,
            "max_height": null,
            "max_width": null,
            "min_height": null,
            "min_width": null,
            "object_fit": null,
            "object_position": null,
            "order": null,
            "overflow": null,
            "overflow_x": null,
            "overflow_y": null,
            "padding": null,
            "right": null,
            "top": null,
            "visibility": null,
            "width": null
          }
        },
        "0e3c3b2487764bb88ffee8e017edc63a": {
          "model_module": "@jupyter-widgets/controls",
          "model_name": "DescriptionStyleModel",
          "model_module_version": "1.5.0",
          "state": {
            "_model_module": "@jupyter-widgets/controls",
            "_model_module_version": "1.5.0",
            "_model_name": "DescriptionStyleModel",
            "_view_count": null,
            "_view_module": "@jupyter-widgets/base",
            "_view_module_version": "1.2.0",
            "_view_name": "StyleView",
            "description_width": ""
          }
        },
        "efa2a9bc4bd84cd0b86310a45ef41612": {
          "model_module": "@jupyter-widgets/base",
          "model_name": "LayoutModel",
          "model_module_version": "1.2.0",
          "state": {
            "_model_module": "@jupyter-widgets/base",
            "_model_module_version": "1.2.0",
            "_model_name": "LayoutModel",
            "_view_count": null,
            "_view_module": "@jupyter-widgets/base",
            "_view_module_version": "1.2.0",
            "_view_name": "LayoutView",
            "align_content": null,
            "align_items": null,
            "align_self": null,
            "border": null,
            "bottom": null,
            "display": null,
            "flex": null,
            "flex_flow": null,
            "grid_area": null,
            "grid_auto_columns": null,
            "grid_auto_flow": null,
            "grid_auto_rows": null,
            "grid_column": null,
            "grid_gap": null,
            "grid_row": null,
            "grid_template_areas": null,
            "grid_template_columns": null,
            "grid_template_rows": null,
            "height": null,
            "justify_content": null,
            "justify_items": null,
            "left": null,
            "margin": null,
            "max_height": null,
            "max_width": null,
            "min_height": null,
            "min_width": null,
            "object_fit": null,
            "object_position": null,
            "order": null,
            "overflow": null,
            "overflow_x": null,
            "overflow_y": null,
            "padding": null,
            "right": null,
            "top": null,
            "visibility": null,
            "width": null
          }
        },
        "9df1501763f44b2fb50cda81b3ba5025": {
          "model_module": "@jupyter-widgets/controls",
          "model_name": "ProgressStyleModel",
          "model_module_version": "1.5.0",
          "state": {
            "_model_module": "@jupyter-widgets/controls",
            "_model_module_version": "1.5.0",
            "_model_name": "ProgressStyleModel",
            "_view_count": null,
            "_view_module": "@jupyter-widgets/base",
            "_view_module_version": "1.2.0",
            "_view_name": "StyleView",
            "bar_color": null,
            "description_width": ""
          }
        },
        "65229950d8f345aa8f89b50331c391f6": {
          "model_module": "@jupyter-widgets/base",
          "model_name": "LayoutModel",
          "model_module_version": "1.2.0",
          "state": {
            "_model_module": "@jupyter-widgets/base",
            "_model_module_version": "1.2.0",
            "_model_name": "LayoutModel",
            "_view_count": null,
            "_view_module": "@jupyter-widgets/base",
            "_view_module_version": "1.2.0",
            "_view_name": "LayoutView",
            "align_content": null,
            "align_items": null,
            "align_self": null,
            "border": null,
            "bottom": null,
            "display": null,
            "flex": null,
            "flex_flow": null,
            "grid_area": null,
            "grid_auto_columns": null,
            "grid_auto_flow": null,
            "grid_auto_rows": null,
            "grid_column": null,
            "grid_gap": null,
            "grid_row": null,
            "grid_template_areas": null,
            "grid_template_columns": null,
            "grid_template_rows": null,
            "height": null,
            "justify_content": null,
            "justify_items": null,
            "left": null,
            "margin": null,
            "max_height": null,
            "max_width": null,
            "min_height": null,
            "min_width": null,
            "object_fit": null,
            "object_position": null,
            "order": null,
            "overflow": null,
            "overflow_x": null,
            "overflow_y": null,
            "padding": null,
            "right": null,
            "top": null,
            "visibility": null,
            "width": null
          }
        },
        "7ba18acb25bb4f5b82bdc8b12a32c598": {
          "model_module": "@jupyter-widgets/controls",
          "model_name": "DescriptionStyleModel",
          "model_module_version": "1.5.0",
          "state": {
            "_model_module": "@jupyter-widgets/controls",
            "_model_module_version": "1.5.0",
            "_model_name": "DescriptionStyleModel",
            "_view_count": null,
            "_view_module": "@jupyter-widgets/base",
            "_view_module_version": "1.2.0",
            "_view_name": "StyleView",
            "description_width": ""
          }
        },
        "4b028db5cf2d4ffa92f7247d509e8011": {
          "model_module": "@jupyter-widgets/controls",
          "model_name": "HBoxModel",
          "model_module_version": "1.5.0",
          "state": {
            "_dom_classes": [],
            "_model_module": "@jupyter-widgets/controls",
            "_model_module_version": "1.5.0",
            "_model_name": "HBoxModel",
            "_view_count": null,
            "_view_module": "@jupyter-widgets/controls",
            "_view_module_version": "1.5.0",
            "_view_name": "HBoxView",
            "box_style": "",
            "children": [
              "IPY_MODEL_1eeb685554564623a69512ff337c21fb",
              "IPY_MODEL_7ef76c05622949b8b86079663295fee6",
              "IPY_MODEL_a144a634fdba4b058323c6dff455384c"
            ],
            "layout": "IPY_MODEL_ac5dd62fd0374d2797ac81b12cad08c5"
          }
        },
        "1eeb685554564623a69512ff337c21fb": {
          "model_module": "@jupyter-widgets/controls",
          "model_name": "HTMLModel",
          "model_module_version": "1.5.0",
          "state": {
            "_dom_classes": [],
            "_model_module": "@jupyter-widgets/controls",
            "_model_module_version": "1.5.0",
            "_model_name": "HTMLModel",
            "_view_count": null,
            "_view_module": "@jupyter-widgets/controls",
            "_view_module_version": "1.5.0",
            "_view_name": "HTMLView",
            "description": "",
            "description_tooltip": null,
            "layout": "IPY_MODEL_e1f1575159a44bccb46e930885f1d259",
            "placeholder": "​",
            "style": "IPY_MODEL_04695a51c81249b584db432163b79d8a",
            "value": "Downloading: 100%"
          }
        },
        "7ef76c05622949b8b86079663295fee6": {
          "model_module": "@jupyter-widgets/controls",
          "model_name": "FloatProgressModel",
          "model_module_version": "1.5.0",
          "state": {
            "_dom_classes": [],
            "_model_module": "@jupyter-widgets/controls",
            "_model_module_version": "1.5.0",
            "_model_name": "FloatProgressModel",
            "_view_count": null,
            "_view_module": "@jupyter-widgets/controls",
            "_view_module_version": "1.5.0",
            "_view_name": "ProgressView",
            "bar_style": "success",
            "description": "",
            "description_tooltip": null,
            "layout": "IPY_MODEL_5f5e851549624577b6d1f36081ebf7da",
            "max": 456318,
            "min": 0,
            "orientation": "horizontal",
            "style": "IPY_MODEL_f813cb78d7034927a4061819252d2660",
            "value": 456318
          }
        },
        "a144a634fdba4b058323c6dff455384c": {
          "model_module": "@jupyter-widgets/controls",
          "model_name": "HTMLModel",
          "model_module_version": "1.5.0",
          "state": {
            "_dom_classes": [],
            "_model_module": "@jupyter-widgets/controls",
            "_model_module_version": "1.5.0",
            "_model_name": "HTMLModel",
            "_view_count": null,
            "_view_module": "@jupyter-widgets/controls",
            "_view_module_version": "1.5.0",
            "_view_name": "HTMLView",
            "description": "",
            "description_tooltip": null,
            "layout": "IPY_MODEL_e270bf99f262447e8be620ce16d41ef7",
            "placeholder": "​",
            "style": "IPY_MODEL_ec4260aeaa614e5e9286c10ee8bd4d65",
            "value": " 446k/446k [00:00&lt;00:00, 565kB/s]"
          }
        },
        "ac5dd62fd0374d2797ac81b12cad08c5": {
          "model_module": "@jupyter-widgets/base",
          "model_name": "LayoutModel",
          "model_module_version": "1.2.0",
          "state": {
            "_model_module": "@jupyter-widgets/base",
            "_model_module_version": "1.2.0",
            "_model_name": "LayoutModel",
            "_view_count": null,
            "_view_module": "@jupyter-widgets/base",
            "_view_module_version": "1.2.0",
            "_view_name": "LayoutView",
            "align_content": null,
            "align_items": null,
            "align_self": null,
            "border": null,
            "bottom": null,
            "display": null,
            "flex": null,
            "flex_flow": null,
            "grid_area": null,
            "grid_auto_columns": null,
            "grid_auto_flow": null,
            "grid_auto_rows": null,
            "grid_column": null,
            "grid_gap": null,
            "grid_row": null,
            "grid_template_areas": null,
            "grid_template_columns": null,
            "grid_template_rows": null,
            "height": null,
            "justify_content": null,
            "justify_items": null,
            "left": null,
            "margin": null,
            "max_height": null,
            "max_width": null,
            "min_height": null,
            "min_width": null,
            "object_fit": null,
            "object_position": null,
            "order": null,
            "overflow": null,
            "overflow_x": null,
            "overflow_y": null,
            "padding": null,
            "right": null,
            "top": null,
            "visibility": null,
            "width": null
          }
        },
        "e1f1575159a44bccb46e930885f1d259": {
          "model_module": "@jupyter-widgets/base",
          "model_name": "LayoutModel",
          "model_module_version": "1.2.0",
          "state": {
            "_model_module": "@jupyter-widgets/base",
            "_model_module_version": "1.2.0",
            "_model_name": "LayoutModel",
            "_view_count": null,
            "_view_module": "@jupyter-widgets/base",
            "_view_module_version": "1.2.0",
            "_view_name": "LayoutView",
            "align_content": null,
            "align_items": null,
            "align_self": null,
            "border": null,
            "bottom": null,
            "display": null,
            "flex": null,
            "flex_flow": null,
            "grid_area": null,
            "grid_auto_columns": null,
            "grid_auto_flow": null,
            "grid_auto_rows": null,
            "grid_column": null,
            "grid_gap": null,
            "grid_row": null,
            "grid_template_areas": null,
            "grid_template_columns": null,
            "grid_template_rows": null,
            "height": null,
            "justify_content": null,
            "justify_items": null,
            "left": null,
            "margin": null,
            "max_height": null,
            "max_width": null,
            "min_height": null,
            "min_width": null,
            "object_fit": null,
            "object_position": null,
            "order": null,
            "overflow": null,
            "overflow_x": null,
            "overflow_y": null,
            "padding": null,
            "right": null,
            "top": null,
            "visibility": null,
            "width": null
          }
        },
        "04695a51c81249b584db432163b79d8a": {
          "model_module": "@jupyter-widgets/controls",
          "model_name": "DescriptionStyleModel",
          "model_module_version": "1.5.0",
          "state": {
            "_model_module": "@jupyter-widgets/controls",
            "_model_module_version": "1.5.0",
            "_model_name": "DescriptionStyleModel",
            "_view_count": null,
            "_view_module": "@jupyter-widgets/base",
            "_view_module_version": "1.2.0",
            "_view_name": "StyleView",
            "description_width": ""
          }
        },
        "5f5e851549624577b6d1f36081ebf7da": {
          "model_module": "@jupyter-widgets/base",
          "model_name": "LayoutModel",
          "model_module_version": "1.2.0",
          "state": {
            "_model_module": "@jupyter-widgets/base",
            "_model_module_version": "1.2.0",
            "_model_name": "LayoutModel",
            "_view_count": null,
            "_view_module": "@jupyter-widgets/base",
            "_view_module_version": "1.2.0",
            "_view_name": "LayoutView",
            "align_content": null,
            "align_items": null,
            "align_self": null,
            "border": null,
            "bottom": null,
            "display": null,
            "flex": null,
            "flex_flow": null,
            "grid_area": null,
            "grid_auto_columns": null,
            "grid_auto_flow": null,
            "grid_auto_rows": null,
            "grid_column": null,
            "grid_gap": null,
            "grid_row": null,
            "grid_template_areas": null,
            "grid_template_columns": null,
            "grid_template_rows": null,
            "height": null,
            "justify_content": null,
            "justify_items": null,
            "left": null,
            "margin": null,
            "max_height": null,
            "max_width": null,
            "min_height": null,
            "min_width": null,
            "object_fit": null,
            "object_position": null,
            "order": null,
            "overflow": null,
            "overflow_x": null,
            "overflow_y": null,
            "padding": null,
            "right": null,
            "top": null,
            "visibility": null,
            "width": null
          }
        },
        "f813cb78d7034927a4061819252d2660": {
          "model_module": "@jupyter-widgets/controls",
          "model_name": "ProgressStyleModel",
          "model_module_version": "1.5.0",
          "state": {
            "_model_module": "@jupyter-widgets/controls",
            "_model_module_version": "1.5.0",
            "_model_name": "ProgressStyleModel",
            "_view_count": null,
            "_view_module": "@jupyter-widgets/base",
            "_view_module_version": "1.2.0",
            "_view_name": "StyleView",
            "bar_color": null,
            "description_width": ""
          }
        },
        "e270bf99f262447e8be620ce16d41ef7": {
          "model_module": "@jupyter-widgets/base",
          "model_name": "LayoutModel",
          "model_module_version": "1.2.0",
          "state": {
            "_model_module": "@jupyter-widgets/base",
            "_model_module_version": "1.2.0",
            "_model_name": "LayoutModel",
            "_view_count": null,
            "_view_module": "@jupyter-widgets/base",
            "_view_module_version": "1.2.0",
            "_view_name": "LayoutView",
            "align_content": null,
            "align_items": null,
            "align_self": null,
            "border": null,
            "bottom": null,
            "display": null,
            "flex": null,
            "flex_flow": null,
            "grid_area": null,
            "grid_auto_columns": null,
            "grid_auto_flow": null,
            "grid_auto_rows": null,
            "grid_column": null,
            "grid_gap": null,
            "grid_row": null,
            "grid_template_areas": null,
            "grid_template_columns": null,
            "grid_template_rows": null,
            "height": null,
            "justify_content": null,
            "justify_items": null,
            "left": null,
            "margin": null,
            "max_height": null,
            "max_width": null,
            "min_height": null,
            "min_width": null,
            "object_fit": null,
            "object_position": null,
            "order": null,
            "overflow": null,
            "overflow_x": null,
            "overflow_y": null,
            "padding": null,
            "right": null,
            "top": null,
            "visibility": null,
            "width": null
          }
        },
        "ec4260aeaa614e5e9286c10ee8bd4d65": {
          "model_module": "@jupyter-widgets/controls",
          "model_name": "DescriptionStyleModel",
          "model_module_version": "1.5.0",
          "state": {
            "_model_module": "@jupyter-widgets/controls",
            "_model_module_version": "1.5.0",
            "_model_name": "DescriptionStyleModel",
            "_view_count": null,
            "_view_module": "@jupyter-widgets/base",
            "_view_module_version": "1.2.0",
            "_view_name": "StyleView",
            "description_width": ""
          }
        },
        "b58e2950b2bf417fba307c1e708bc55b": {
          "model_module": "@jupyter-widgets/controls",
          "model_name": "HBoxModel",
          "model_module_version": "1.5.0",
          "state": {
            "_dom_classes": [],
            "_model_module": "@jupyter-widgets/controls",
            "_model_module_version": "1.5.0",
            "_model_name": "HBoxModel",
            "_view_count": null,
            "_view_module": "@jupyter-widgets/controls",
            "_view_module_version": "1.5.0",
            "_view_name": "HBoxView",
            "box_style": "",
            "children": [
              "IPY_MODEL_ec397856bf01481eb7aa913bdef63d40",
              "IPY_MODEL_1f42561fecde4bc1a6192e27776d351d",
              "IPY_MODEL_ddfd1e54364a4b2f897018febf8cc2a4"
            ],
            "layout": "IPY_MODEL_6f8c539dce3b41d88ca09c7fd8db407e"
          }
        },
        "ec397856bf01481eb7aa913bdef63d40": {
          "model_module": "@jupyter-widgets/controls",
          "model_name": "HTMLModel",
          "model_module_version": "1.5.0",
          "state": {
            "_dom_classes": [],
            "_model_module": "@jupyter-widgets/controls",
            "_model_module_version": "1.5.0",
            "_model_name": "HTMLModel",
            "_view_count": null,
            "_view_module": "@jupyter-widgets/controls",
            "_view_module_version": "1.5.0",
            "_view_name": "HTMLView",
            "description": "",
            "description_tooltip": null,
            "layout": "IPY_MODEL_5caaf46cee7b4be9a648f5ad0b0dc76e",
            "placeholder": "​",
            "style": "IPY_MODEL_799d11c5540e4317bb69ad60bde946b2",
            "value": "Downloading: 100%"
          }
        },
        "1f42561fecde4bc1a6192e27776d351d": {
          "model_module": "@jupyter-widgets/controls",
          "model_name": "FloatProgressModel",
          "model_module_version": "1.5.0",
          "state": {
            "_dom_classes": [],
            "_model_module": "@jupyter-widgets/controls",
            "_model_module_version": "1.5.0",
            "_model_name": "FloatProgressModel",
            "_view_count": null,
            "_view_module": "@jupyter-widgets/controls",
            "_view_module_version": "1.5.0",
            "_view_name": "ProgressView",
            "bar_style": "success",
            "description": "",
            "description_tooltip": null,
            "layout": "IPY_MODEL_60905a31d1ff42218dd5d441853a161a",
            "max": 718,
            "min": 0,
            "orientation": "horizontal",
            "style": "IPY_MODEL_475057ac42fd4b318b98b2e60ee86df1",
            "value": 718
          }
        },
        "ddfd1e54364a4b2f897018febf8cc2a4": {
          "model_module": "@jupyter-widgets/controls",
          "model_name": "HTMLModel",
          "model_module_version": "1.5.0",
          "state": {
            "_dom_classes": [],
            "_model_module": "@jupyter-widgets/controls",
            "_model_module_version": "1.5.0",
            "_model_name": "HTMLModel",
            "_view_count": null,
            "_view_module": "@jupyter-widgets/controls",
            "_view_module_version": "1.5.0",
            "_view_name": "HTMLView",
            "description": "",
            "description_tooltip": null,
            "layout": "IPY_MODEL_3f19eadb6ab044b9a35eecf731e02d52",
            "placeholder": "​",
            "style": "IPY_MODEL_b3e64204ca74495fa0b3baf58d49951d",
            "value": " 718/718 [00:00&lt;00:00, 28.7kB/s]"
          }
        },
        "6f8c539dce3b41d88ca09c7fd8db407e": {
          "model_module": "@jupyter-widgets/base",
          "model_name": "LayoutModel",
          "model_module_version": "1.2.0",
          "state": {
            "_model_module": "@jupyter-widgets/base",
            "_model_module_version": "1.2.0",
            "_model_name": "LayoutModel",
            "_view_count": null,
            "_view_module": "@jupyter-widgets/base",
            "_view_module_version": "1.2.0",
            "_view_name": "LayoutView",
            "align_content": null,
            "align_items": null,
            "align_self": null,
            "border": null,
            "bottom": null,
            "display": null,
            "flex": null,
            "flex_flow": null,
            "grid_area": null,
            "grid_auto_columns": null,
            "grid_auto_flow": null,
            "grid_auto_rows": null,
            "grid_column": null,
            "grid_gap": null,
            "grid_row": null,
            "grid_template_areas": null,
            "grid_template_columns": null,
            "grid_template_rows": null,
            "height": null,
            "justify_content": null,
            "justify_items": null,
            "left": null,
            "margin": null,
            "max_height": null,
            "max_width": null,
            "min_height": null,
            "min_width": null,
            "object_fit": null,
            "object_position": null,
            "order": null,
            "overflow": null,
            "overflow_x": null,
            "overflow_y": null,
            "padding": null,
            "right": null,
            "top": null,
            "visibility": null,
            "width": null
          }
        },
        "5caaf46cee7b4be9a648f5ad0b0dc76e": {
          "model_module": "@jupyter-widgets/base",
          "model_name": "LayoutModel",
          "model_module_version": "1.2.0",
          "state": {
            "_model_module": "@jupyter-widgets/base",
            "_model_module_version": "1.2.0",
            "_model_name": "LayoutModel",
            "_view_count": null,
            "_view_module": "@jupyter-widgets/base",
            "_view_module_version": "1.2.0",
            "_view_name": "LayoutView",
            "align_content": null,
            "align_items": null,
            "align_self": null,
            "border": null,
            "bottom": null,
            "display": null,
            "flex": null,
            "flex_flow": null,
            "grid_area": null,
            "grid_auto_columns": null,
            "grid_auto_flow": null,
            "grid_auto_rows": null,
            "grid_column": null,
            "grid_gap": null,
            "grid_row": null,
            "grid_template_areas": null,
            "grid_template_columns": null,
            "grid_template_rows": null,
            "height": null,
            "justify_content": null,
            "justify_items": null,
            "left": null,
            "margin": null,
            "max_height": null,
            "max_width": null,
            "min_height": null,
            "min_width": null,
            "object_fit": null,
            "object_position": null,
            "order": null,
            "overflow": null,
            "overflow_x": null,
            "overflow_y": null,
            "padding": null,
            "right": null,
            "top": null,
            "visibility": null,
            "width": null
          }
        },
        "799d11c5540e4317bb69ad60bde946b2": {
          "model_module": "@jupyter-widgets/controls",
          "model_name": "DescriptionStyleModel",
          "model_module_version": "1.5.0",
          "state": {
            "_model_module": "@jupyter-widgets/controls",
            "_model_module_version": "1.5.0",
            "_model_name": "DescriptionStyleModel",
            "_view_count": null,
            "_view_module": "@jupyter-widgets/base",
            "_view_module_version": "1.2.0",
            "_view_name": "StyleView",
            "description_width": ""
          }
        },
        "60905a31d1ff42218dd5d441853a161a": {
          "model_module": "@jupyter-widgets/base",
          "model_name": "LayoutModel",
          "model_module_version": "1.2.0",
          "state": {
            "_model_module": "@jupyter-widgets/base",
            "_model_module_version": "1.2.0",
            "_model_name": "LayoutModel",
            "_view_count": null,
            "_view_module": "@jupyter-widgets/base",
            "_view_module_version": "1.2.0",
            "_view_name": "LayoutView",
            "align_content": null,
            "align_items": null,
            "align_self": null,
            "border": null,
            "bottom": null,
            "display": null,
            "flex": null,
            "flex_flow": null,
            "grid_area": null,
            "grid_auto_columns": null,
            "grid_auto_flow": null,
            "grid_auto_rows": null,
            "grid_column": null,
            "grid_gap": null,
            "grid_row": null,
            "grid_template_areas": null,
            "grid_template_columns": null,
            "grid_template_rows": null,
            "height": null,
            "justify_content": null,
            "justify_items": null,
            "left": null,
            "margin": null,
            "max_height": null,
            "max_width": null,
            "min_height": null,
            "min_width": null,
            "object_fit": null,
            "object_position": null,
            "order": null,
            "overflow": null,
            "overflow_x": null,
            "overflow_y": null,
            "padding": null,
            "right": null,
            "top": null,
            "visibility": null,
            "width": null
          }
        },
        "475057ac42fd4b318b98b2e60ee86df1": {
          "model_module": "@jupyter-widgets/controls",
          "model_name": "ProgressStyleModel",
          "model_module_version": "1.5.0",
          "state": {
            "_model_module": "@jupyter-widgets/controls",
            "_model_module_version": "1.5.0",
            "_model_name": "ProgressStyleModel",
            "_view_count": null,
            "_view_module": "@jupyter-widgets/base",
            "_view_module_version": "1.2.0",
            "_view_name": "StyleView",
            "bar_color": null,
            "description_width": ""
          }
        },
        "3f19eadb6ab044b9a35eecf731e02d52": {
          "model_module": "@jupyter-widgets/base",
          "model_name": "LayoutModel",
          "model_module_version": "1.2.0",
          "state": {
            "_model_module": "@jupyter-widgets/base",
            "_model_module_version": "1.2.0",
            "_model_name": "LayoutModel",
            "_view_count": null,
            "_view_module": "@jupyter-widgets/base",
            "_view_module_version": "1.2.0",
            "_view_name": "LayoutView",
            "align_content": null,
            "align_items": null,
            "align_self": null,
            "border": null,
            "bottom": null,
            "display": null,
            "flex": null,
            "flex_flow": null,
            "grid_area": null,
            "grid_auto_columns": null,
            "grid_auto_flow": null,
            "grid_auto_rows": null,
            "grid_column": null,
            "grid_gap": null,
            "grid_row": null,
            "grid_template_areas": null,
            "grid_template_columns": null,
            "grid_template_rows": null,
            "height": null,
            "justify_content": null,
            "justify_items": null,
            "left": null,
            "margin": null,
            "max_height": null,
            "max_width": null,
            "min_height": null,
            "min_width": null,
            "object_fit": null,
            "object_position": null,
            "order": null,
            "overflow": null,
            "overflow_x": null,
            "overflow_y": null,
            "padding": null,
            "right": null,
            "top": null,
            "visibility": null,
            "width": null
          }
        },
        "b3e64204ca74495fa0b3baf58d49951d": {
          "model_module": "@jupyter-widgets/controls",
          "model_name": "DescriptionStyleModel",
          "model_module_version": "1.5.0",
          "state": {
            "_model_module": "@jupyter-widgets/controls",
            "_model_module_version": "1.5.0",
            "_model_name": "DescriptionStyleModel",
            "_view_count": null,
            "_view_module": "@jupyter-widgets/base",
            "_view_module_version": "1.2.0",
            "_view_name": "StyleView",
            "description_width": ""
          }
        },
        "542a37371bcf471d8cedb79c97e9447f": {
          "model_module": "@jupyter-widgets/controls",
          "model_name": "HBoxModel",
          "model_module_version": "1.5.0",
          "state": {
            "_dom_classes": [],
            "_model_module": "@jupyter-widgets/controls",
            "_model_module_version": "1.5.0",
            "_model_name": "HBoxModel",
            "_view_count": null,
            "_view_module": "@jupyter-widgets/controls",
            "_view_module_version": "1.5.0",
            "_view_name": "HBoxView",
            "box_style": "",
            "children": [
              "IPY_MODEL_0acbe03629e343a0ada912997c03202f",
              "IPY_MODEL_86590eb7f9f347909095681a47d706d6",
              "IPY_MODEL_ce45b5a767fc4187b785a5e1c3c5a636"
            ],
            "layout": "IPY_MODEL_33a0cebb190344d2afeccde1f87c0392"
          }
        },
        "0acbe03629e343a0ada912997c03202f": {
          "model_module": "@jupyter-widgets/controls",
          "model_name": "HTMLModel",
          "model_module_version": "1.5.0",
          "state": {
            "_dom_classes": [],
            "_model_module": "@jupyter-widgets/controls",
            "_model_module_version": "1.5.0",
            "_model_name": "HTMLModel",
            "_view_count": null,
            "_view_module": "@jupyter-widgets/controls",
            "_view_module_version": "1.5.0",
            "_view_name": "HTMLView",
            "description": "",
            "description_tooltip": null,
            "layout": "IPY_MODEL_740dd9268209400a84a3c07f736d84a9",
            "placeholder": "​",
            "style": "IPY_MODEL_fafd0073ebf642e98e957611c8a6e883",
            "value": "Downloading: 100%"
          }
        },
        "86590eb7f9f347909095681a47d706d6": {
          "model_module": "@jupyter-widgets/controls",
          "model_name": "FloatProgressModel",
          "model_module_version": "1.5.0",
          "state": {
            "_dom_classes": [],
            "_model_module": "@jupyter-widgets/controls",
            "_model_module_version": "1.5.0",
            "_model_name": "FloatProgressModel",
            "_view_count": null,
            "_view_module": "@jupyter-widgets/controls",
            "_view_module_version": "1.5.0",
            "_view_name": "ProgressView",
            "bar_style": "success",
            "description": "",
            "description_tooltip": null,
            "layout": "IPY_MODEL_a54551f900f745db85057d3fc33541fc",
            "max": 718,
            "min": 0,
            "orientation": "horizontal",
            "style": "IPY_MODEL_b132dae97f5d452cae9a942574a81463",
            "value": 718
          }
        },
        "ce45b5a767fc4187b785a5e1c3c5a636": {
          "model_module": "@jupyter-widgets/controls",
          "model_name": "HTMLModel",
          "model_module_version": "1.5.0",
          "state": {
            "_dom_classes": [],
            "_model_module": "@jupyter-widgets/controls",
            "_model_module_version": "1.5.0",
            "_model_name": "HTMLModel",
            "_view_count": null,
            "_view_module": "@jupyter-widgets/controls",
            "_view_module_version": "1.5.0",
            "_view_name": "HTMLView",
            "description": "",
            "description_tooltip": null,
            "layout": "IPY_MODEL_835a4a2c0bff411698e4cf74cd12b214",
            "placeholder": "​",
            "style": "IPY_MODEL_e244b76b9359498397f1907936104f5d",
            "value": " 718/718 [00:00&lt;00:00, 26.8kB/s]"
          }
        },
        "33a0cebb190344d2afeccde1f87c0392": {
          "model_module": "@jupyter-widgets/base",
          "model_name": "LayoutModel",
          "model_module_version": "1.2.0",
          "state": {
            "_model_module": "@jupyter-widgets/base",
            "_model_module_version": "1.2.0",
            "_model_name": "LayoutModel",
            "_view_count": null,
            "_view_module": "@jupyter-widgets/base",
            "_view_module_version": "1.2.0",
            "_view_name": "LayoutView",
            "align_content": null,
            "align_items": null,
            "align_self": null,
            "border": null,
            "bottom": null,
            "display": null,
            "flex": null,
            "flex_flow": null,
            "grid_area": null,
            "grid_auto_columns": null,
            "grid_auto_flow": null,
            "grid_auto_rows": null,
            "grid_column": null,
            "grid_gap": null,
            "grid_row": null,
            "grid_template_areas": null,
            "grid_template_columns": null,
            "grid_template_rows": null,
            "height": null,
            "justify_content": null,
            "justify_items": null,
            "left": null,
            "margin": null,
            "max_height": null,
            "max_width": null,
            "min_height": null,
            "min_width": null,
            "object_fit": null,
            "object_position": null,
            "order": null,
            "overflow": null,
            "overflow_x": null,
            "overflow_y": null,
            "padding": null,
            "right": null,
            "top": null,
            "visibility": null,
            "width": null
          }
        },
        "740dd9268209400a84a3c07f736d84a9": {
          "model_module": "@jupyter-widgets/base",
          "model_name": "LayoutModel",
          "model_module_version": "1.2.0",
          "state": {
            "_model_module": "@jupyter-widgets/base",
            "_model_module_version": "1.2.0",
            "_model_name": "LayoutModel",
            "_view_count": null,
            "_view_module": "@jupyter-widgets/base",
            "_view_module_version": "1.2.0",
            "_view_name": "LayoutView",
            "align_content": null,
            "align_items": null,
            "align_self": null,
            "border": null,
            "bottom": null,
            "display": null,
            "flex": null,
            "flex_flow": null,
            "grid_area": null,
            "grid_auto_columns": null,
            "grid_auto_flow": null,
            "grid_auto_rows": null,
            "grid_column": null,
            "grid_gap": null,
            "grid_row": null,
            "grid_template_areas": null,
            "grid_template_columns": null,
            "grid_template_rows": null,
            "height": null,
            "justify_content": null,
            "justify_items": null,
            "left": null,
            "margin": null,
            "max_height": null,
            "max_width": null,
            "min_height": null,
            "min_width": null,
            "object_fit": null,
            "object_position": null,
            "order": null,
            "overflow": null,
            "overflow_x": null,
            "overflow_y": null,
            "padding": null,
            "right": null,
            "top": null,
            "visibility": null,
            "width": null
          }
        },
        "fafd0073ebf642e98e957611c8a6e883": {
          "model_module": "@jupyter-widgets/controls",
          "model_name": "DescriptionStyleModel",
          "model_module_version": "1.5.0",
          "state": {
            "_model_module": "@jupyter-widgets/controls",
            "_model_module_version": "1.5.0",
            "_model_name": "DescriptionStyleModel",
            "_view_count": null,
            "_view_module": "@jupyter-widgets/base",
            "_view_module_version": "1.2.0",
            "_view_name": "StyleView",
            "description_width": ""
          }
        },
        "a54551f900f745db85057d3fc33541fc": {
          "model_module": "@jupyter-widgets/base",
          "model_name": "LayoutModel",
          "model_module_version": "1.2.0",
          "state": {
            "_model_module": "@jupyter-widgets/base",
            "_model_module_version": "1.2.0",
            "_model_name": "LayoutModel",
            "_view_count": null,
            "_view_module": "@jupyter-widgets/base",
            "_view_module_version": "1.2.0",
            "_view_name": "LayoutView",
            "align_content": null,
            "align_items": null,
            "align_self": null,
            "border": null,
            "bottom": null,
            "display": null,
            "flex": null,
            "flex_flow": null,
            "grid_area": null,
            "grid_auto_columns": null,
            "grid_auto_flow": null,
            "grid_auto_rows": null,
            "grid_column": null,
            "grid_gap": null,
            "grid_row": null,
            "grid_template_areas": null,
            "grid_template_columns": null,
            "grid_template_rows": null,
            "height": null,
            "justify_content": null,
            "justify_items": null,
            "left": null,
            "margin": null,
            "max_height": null,
            "max_width": null,
            "min_height": null,
            "min_width": null,
            "object_fit": null,
            "object_position": null,
            "order": null,
            "overflow": null,
            "overflow_x": null,
            "overflow_y": null,
            "padding": null,
            "right": null,
            "top": null,
            "visibility": null,
            "width": null
          }
        },
        "b132dae97f5d452cae9a942574a81463": {
          "model_module": "@jupyter-widgets/controls",
          "model_name": "ProgressStyleModel",
          "model_module_version": "1.5.0",
          "state": {
            "_model_module": "@jupyter-widgets/controls",
            "_model_module_version": "1.5.0",
            "_model_name": "ProgressStyleModel",
            "_view_count": null,
            "_view_module": "@jupyter-widgets/base",
            "_view_module_version": "1.2.0",
            "_view_name": "StyleView",
            "bar_color": null,
            "description_width": ""
          }
        },
        "835a4a2c0bff411698e4cf74cd12b214": {
          "model_module": "@jupyter-widgets/base",
          "model_name": "LayoutModel",
          "model_module_version": "1.2.0",
          "state": {
            "_model_module": "@jupyter-widgets/base",
            "_model_module_version": "1.2.0",
            "_model_name": "LayoutModel",
            "_view_count": null,
            "_view_module": "@jupyter-widgets/base",
            "_view_module_version": "1.2.0",
            "_view_name": "LayoutView",
            "align_content": null,
            "align_items": null,
            "align_self": null,
            "border": null,
            "bottom": null,
            "display": null,
            "flex": null,
            "flex_flow": null,
            "grid_area": null,
            "grid_auto_columns": null,
            "grid_auto_flow": null,
            "grid_auto_rows": null,
            "grid_column": null,
            "grid_gap": null,
            "grid_row": null,
            "grid_template_areas": null,
            "grid_template_columns": null,
            "grid_template_rows": null,
            "height": null,
            "justify_content": null,
            "justify_items": null,
            "left": null,
            "margin": null,
            "max_height": null,
            "max_width": null,
            "min_height": null,
            "min_width": null,
            "object_fit": null,
            "object_position": null,
            "order": null,
            "overflow": null,
            "overflow_x": null,
            "overflow_y": null,
            "padding": null,
            "right": null,
            "top": null,
            "visibility": null,
            "width": null
          }
        },
        "e244b76b9359498397f1907936104f5d": {
          "model_module": "@jupyter-widgets/controls",
          "model_name": "DescriptionStyleModel",
          "model_module_version": "1.5.0",
          "state": {
            "_model_module": "@jupyter-widgets/controls",
            "_model_module_version": "1.5.0",
            "_model_name": "DescriptionStyleModel",
            "_view_count": null,
            "_view_module": "@jupyter-widgets/base",
            "_view_module_version": "1.2.0",
            "_view_name": "StyleView",
            "description_width": ""
          }
        },
        "63039c873885444c8d19369f877e5b4b": {
          "model_module": "@jupyter-widgets/controls",
          "model_name": "HBoxModel",
          "model_module_version": "1.5.0",
          "state": {
            "_dom_classes": [],
            "_model_module": "@jupyter-widgets/controls",
            "_model_module_version": "1.5.0",
            "_model_name": "HBoxModel",
            "_view_count": null,
            "_view_module": "@jupyter-widgets/controls",
            "_view_module_version": "1.5.0",
            "_view_name": "HBoxView",
            "box_style": "",
            "children": [
              "IPY_MODEL_0955ad5d61254b1baaa449098342dace",
              "IPY_MODEL_c554c1571091441baf55b089bf159e28",
              "IPY_MODEL_ec2c6c5073d148f6b3b95ef58ce349a9"
            ],
            "layout": "IPY_MODEL_c6ccddb33bdb4c799b48415300788ebd"
          }
        },
        "0955ad5d61254b1baaa449098342dace": {
          "model_module": "@jupyter-widgets/controls",
          "model_name": "HTMLModel",
          "model_module_version": "1.5.0",
          "state": {
            "_dom_classes": [],
            "_model_module": "@jupyter-widgets/controls",
            "_model_module_version": "1.5.0",
            "_model_name": "HTMLModel",
            "_view_count": null,
            "_view_module": "@jupyter-widgets/controls",
            "_view_module_version": "1.5.0",
            "_view_name": "HTMLView",
            "description": "",
            "description_tooltip": null,
            "layout": "IPY_MODEL_e2530f516f324d84ab8580e5a2d58128",
            "placeholder": "​",
            "style": "IPY_MODEL_dfadb8fd1d6a48baa98107aa1a0af709",
            "value": "Downloading: 100%"
          }
        },
        "c554c1571091441baf55b089bf159e28": {
          "model_module": "@jupyter-widgets/controls",
          "model_name": "FloatProgressModel",
          "model_module_version": "1.5.0",
          "state": {
            "_dom_classes": [],
            "_model_module": "@jupyter-widgets/controls",
            "_model_module_version": "1.5.0",
            "_model_name": "FloatProgressModel",
            "_view_count": null,
            "_view_module": "@jupyter-widgets/controls",
            "_view_module_version": "1.5.0",
            "_view_name": "ProgressView",
            "bar_style": "success",
            "description": "",
            "description_tooltip": null,
            "layout": "IPY_MODEL_a6bbae69440145d4be80ed81e8a304f2",
            "max": 1520013706,
            "min": 0,
            "orientation": "horizontal",
            "style": "IPY_MODEL_17eaab763b614aa9bbad009abde460f7",
            "value": 1520013706
          }
        },
        "ec2c6c5073d148f6b3b95ef58ce349a9": {
          "model_module": "@jupyter-widgets/controls",
          "model_name": "HTMLModel",
          "model_module_version": "1.5.0",
          "state": {
            "_dom_classes": [],
            "_model_module": "@jupyter-widgets/controls",
            "_model_module_version": "1.5.0",
            "_model_name": "HTMLModel",
            "_view_count": null,
            "_view_module": "@jupyter-widgets/controls",
            "_view_module_version": "1.5.0",
            "_view_name": "HTMLView",
            "description": "",
            "description_tooltip": null,
            "layout": "IPY_MODEL_06cca18b3b624d35a6f3f3bd763a0ce1",
            "placeholder": "​",
            "style": "IPY_MODEL_55623cae1848488a886ed5bdd59e7510",
            "value": " 1.42G/1.42G [00:25&lt;00:00, 63.8MB/s]"
          }
        },
        "c6ccddb33bdb4c799b48415300788ebd": {
          "model_module": "@jupyter-widgets/base",
          "model_name": "LayoutModel",
          "model_module_version": "1.2.0",
          "state": {
            "_model_module": "@jupyter-widgets/base",
            "_model_module_version": "1.2.0",
            "_model_name": "LayoutModel",
            "_view_count": null,
            "_view_module": "@jupyter-widgets/base",
            "_view_module_version": "1.2.0",
            "_view_name": "LayoutView",
            "align_content": null,
            "align_items": null,
            "align_self": null,
            "border": null,
            "bottom": null,
            "display": null,
            "flex": null,
            "flex_flow": null,
            "grid_area": null,
            "grid_auto_columns": null,
            "grid_auto_flow": null,
            "grid_auto_rows": null,
            "grid_column": null,
            "grid_gap": null,
            "grid_row": null,
            "grid_template_areas": null,
            "grid_template_columns": null,
            "grid_template_rows": null,
            "height": null,
            "justify_content": null,
            "justify_items": null,
            "left": null,
            "margin": null,
            "max_height": null,
            "max_width": null,
            "min_height": null,
            "min_width": null,
            "object_fit": null,
            "object_position": null,
            "order": null,
            "overflow": null,
            "overflow_x": null,
            "overflow_y": null,
            "padding": null,
            "right": null,
            "top": null,
            "visibility": null,
            "width": null
          }
        },
        "e2530f516f324d84ab8580e5a2d58128": {
          "model_module": "@jupyter-widgets/base",
          "model_name": "LayoutModel",
          "model_module_version": "1.2.0",
          "state": {
            "_model_module": "@jupyter-widgets/base",
            "_model_module_version": "1.2.0",
            "_model_name": "LayoutModel",
            "_view_count": null,
            "_view_module": "@jupyter-widgets/base",
            "_view_module_version": "1.2.0",
            "_view_name": "LayoutView",
            "align_content": null,
            "align_items": null,
            "align_self": null,
            "border": null,
            "bottom": null,
            "display": null,
            "flex": null,
            "flex_flow": null,
            "grid_area": null,
            "grid_auto_columns": null,
            "grid_auto_flow": null,
            "grid_auto_rows": null,
            "grid_column": null,
            "grid_gap": null,
            "grid_row": null,
            "grid_template_areas": null,
            "grid_template_columns": null,
            "grid_template_rows": null,
            "height": null,
            "justify_content": null,
            "justify_items": null,
            "left": null,
            "margin": null,
            "max_height": null,
            "max_width": null,
            "min_height": null,
            "min_width": null,
            "object_fit": null,
            "object_position": null,
            "order": null,
            "overflow": null,
            "overflow_x": null,
            "overflow_y": null,
            "padding": null,
            "right": null,
            "top": null,
            "visibility": null,
            "width": null
          }
        },
        "dfadb8fd1d6a48baa98107aa1a0af709": {
          "model_module": "@jupyter-widgets/controls",
          "model_name": "DescriptionStyleModel",
          "model_module_version": "1.5.0",
          "state": {
            "_model_module": "@jupyter-widgets/controls",
            "_model_module_version": "1.5.0",
            "_model_name": "DescriptionStyleModel",
            "_view_count": null,
            "_view_module": "@jupyter-widgets/base",
            "_view_module_version": "1.2.0",
            "_view_name": "StyleView",
            "description_width": ""
          }
        },
        "a6bbae69440145d4be80ed81e8a304f2": {
          "model_module": "@jupyter-widgets/base",
          "model_name": "LayoutModel",
          "model_module_version": "1.2.0",
          "state": {
            "_model_module": "@jupyter-widgets/base",
            "_model_module_version": "1.2.0",
            "_model_name": "LayoutModel",
            "_view_count": null,
            "_view_module": "@jupyter-widgets/base",
            "_view_module_version": "1.2.0",
            "_view_name": "LayoutView",
            "align_content": null,
            "align_items": null,
            "align_self": null,
            "border": null,
            "bottom": null,
            "display": null,
            "flex": null,
            "flex_flow": null,
            "grid_area": null,
            "grid_auto_columns": null,
            "grid_auto_flow": null,
            "grid_auto_rows": null,
            "grid_column": null,
            "grid_gap": null,
            "grid_row": null,
            "grid_template_areas": null,
            "grid_template_columns": null,
            "grid_template_rows": null,
            "height": null,
            "justify_content": null,
            "justify_items": null,
            "left": null,
            "margin": null,
            "max_height": null,
            "max_width": null,
            "min_height": null,
            "min_width": null,
            "object_fit": null,
            "object_position": null,
            "order": null,
            "overflow": null,
            "overflow_x": null,
            "overflow_y": null,
            "padding": null,
            "right": null,
            "top": null,
            "visibility": null,
            "width": null
          }
        },
        "17eaab763b614aa9bbad009abde460f7": {
          "model_module": "@jupyter-widgets/controls",
          "model_name": "ProgressStyleModel",
          "model_module_version": "1.5.0",
          "state": {
            "_model_module": "@jupyter-widgets/controls",
            "_model_module_version": "1.5.0",
            "_model_name": "ProgressStyleModel",
            "_view_count": null,
            "_view_module": "@jupyter-widgets/base",
            "_view_module_version": "1.2.0",
            "_view_name": "StyleView",
            "bar_color": null,
            "description_width": ""
          }
        },
        "06cca18b3b624d35a6f3f3bd763a0ce1": {
          "model_module": "@jupyter-widgets/base",
          "model_name": "LayoutModel",
          "model_module_version": "1.2.0",
          "state": {
            "_model_module": "@jupyter-widgets/base",
            "_model_module_version": "1.2.0",
            "_model_name": "LayoutModel",
            "_view_count": null,
            "_view_module": "@jupyter-widgets/base",
            "_view_module_version": "1.2.0",
            "_view_name": "LayoutView",
            "align_content": null,
            "align_items": null,
            "align_self": null,
            "border": null,
            "bottom": null,
            "display": null,
            "flex": null,
            "flex_flow": null,
            "grid_area": null,
            "grid_auto_columns": null,
            "grid_auto_flow": null,
            "grid_auto_rows": null,
            "grid_column": null,
            "grid_gap": null,
            "grid_row": null,
            "grid_template_areas": null,
            "grid_template_columns": null,
            "grid_template_rows": null,
            "height": null,
            "justify_content": null,
            "justify_items": null,
            "left": null,
            "margin": null,
            "max_height": null,
            "max_width": null,
            "min_height": null,
            "min_width": null,
            "object_fit": null,
            "object_position": null,
            "order": null,
            "overflow": null,
            "overflow_x": null,
            "overflow_y": null,
            "padding": null,
            "right": null,
            "top": null,
            "visibility": null,
            "width": null
          }
        },
        "55623cae1848488a886ed5bdd59e7510": {
          "model_module": "@jupyter-widgets/controls",
          "model_name": "DescriptionStyleModel",
          "model_module_version": "1.5.0",
          "state": {
            "_model_module": "@jupyter-widgets/controls",
            "_model_module_version": "1.5.0",
            "_model_name": "DescriptionStyleModel",
            "_view_count": null,
            "_view_module": "@jupyter-widgets/base",
            "_view_module_version": "1.2.0",
            "_view_name": "StyleView",
            "description_width": ""
          }
        }
      }
    },
    "colab": {
      "name": "fine-tuning-gpt-2-medicalQA.ipynb",
      "provenance": [],
      "machine_shape": "hm",
      "collapsed_sections": [
        "conceptual-amino"
      ]
    },
    "accelerator": "GPU"
  },
  "nbformat": 4,
  "nbformat_minor": 5
}